{
  "cells": [
    {
      "cell_type": "markdown",
      "metadata": {
        "id": "view-in-github",
        "colab_type": "text"
      },
      "source": [
        "<a href=\"https://colab.research.google.com/github/Nituhimani/Nituhimani/blob/chat_with_pdf/FAISS_Question_answering_with_multiple_PDFs.ipynb\" target=\"_parent\"><img src=\"https://colab.research.google.com/assets/colab-badge.svg\" alt=\"Open In Colab\"/></a>"
      ]
    },
    {
      "cell_type": "markdown",
      "source": [
        "# Question answering with multiple PDFs using DeciLM-7B-instruct, LangChain and FAISS"
      ],
      "metadata": {
        "id": "cwDAl0bbhgaV"
      }
    },
    {
      "cell_type": "code",
      "source": [],
      "metadata": {
        "id": "l1wh7Fyfhfny"
      },
      "execution_count": null,
      "outputs": []
    },
    {
      "cell_type": "code",
      "source": [
        "%%capture\n",
        "!pip install langchain transformers accelerate tiktoken openai gradio torch accelerate \\\n",
        "safetensors sentence-transformers faiss-gpu bitsandbytes pypdf typing-extensions"
      ],
      "metadata": {
        "id": "KGiHdpRz3v2a"
      },
      "execution_count": null,
      "outputs": []
    },
    {
      "cell_type": "code",
      "source": [
        "%%capture\n",
        "!pip uninstall typing-extensions --yes\n",
        "!pip install typing-extensions"
      ],
      "metadata": {
        "id": "bw2DoDMe30sF"
      },
      "execution_count": null,
      "outputs": []
    },
    {
      "cell_type": "markdown",
      "source": [
        "Downloading sample files"
      ],
      "metadata": {
        "id": "LVuOaXqUkSHK"
      }
    },
    {
      "cell_type": "code",
      "source": [
        "!gdown 1GZoh1XDNbaH97HUgWwr-lCDmHq4a8yTX"
      ],
      "metadata": {
        "colab": {
          "base_uri": "https://localhost:8080/"
        },
        "id": "fXcKaPLIvjDg",
        "outputId": "9d1d0094-be61-418d-d0a1-80563d47b8f4"
      },
      "execution_count": null,
      "outputs": [
        {
          "output_type": "stream",
          "name": "stdout",
          "text": [
            "Failed to retrieve file url:\n",
            "\n",
            "\tCannot retrieve the public link of the file. You may need to change\n",
            "\tthe permission to 'Anyone with the link', or have had many accesses.\n",
            "\n",
            "You may still be able to access the file from the browser:\n",
            "\n",
            "\thttps://drive.google.com/uc?id=1GZoh1XDNbaH97HUgWwr-lCDmHq4a8yTX\n",
            "\n",
            "but Gdown can't. Please check connections and permissions.\n"
          ]
        }
      ]
    },
    {
      "cell_type": "code",
      "source": [
        "!gdown 1IAMpfIir7iK-4EAI221gMMXlINzLxsNK"
      ],
      "metadata": {
        "colab": {
          "base_uri": "https://localhost:8080/"
        },
        "id": "qOqWmOxAv42Y",
        "outputId": "f75e7b8b-a7d7-4c46-b4fc-6cee4accce45"
      },
      "execution_count": null,
      "outputs": [
        {
          "output_type": "stream",
          "name": "stdout",
          "text": [
            "Downloading...\n",
            "From: https://drive.google.com/uc?id=1IAMpfIir7iK-4EAI221gMMXlINzLxsNK\n",
            "To: /content/Eight_Things_to_Know_about_Large_Language_Models.pdf\n",
            "\r  0% 0.00/838k [00:00<?, ?B/s]\r100% 838k/838k [00:00<00:00, 109MB/s]\n"
          ]
        }
      ]
    },
    {
      "cell_type": "markdown",
      "source": [
        "# The Processes involved in creating the chatbot"
      ],
      "metadata": {
        "id": "wi7STK8XmBwT"
      }
    },
    {
      "cell_type": "markdown",
      "source": [
        "## Import required packages"
      ],
      "metadata": {
        "id": "ng_vIeC0kYeF"
      }
    },
    {
      "cell_type": "code",
      "source": [
        "%%capture\n",
        "!pip install PyPDF2"
      ],
      "metadata": {
        "id": "nfDpY9qNrDuq"
      },
      "execution_count": null,
      "outputs": []
    },
    {
      "cell_type": "code",
      "execution_count": null,
      "metadata": {
        "id": "B7OMkxah3amU"
      },
      "outputs": [],
      "source": [
        "\n",
        "import torch\n",
        "import PyPDF2 # pdf reader\n",
        "import time\n",
        "from pypdf import PdfReader\n",
        "from io import BytesIO\n",
        "from langchain.prompts import PromptTemplate # for custom prompt specification\n",
        "from langchain.text_splitter import RecursiveCharacterTextSplitter # splitter for chunks\n",
        "from langchain.embeddings import HuggingFaceEmbeddings # embeddings\n",
        "from langchain.vectorstores import FAISS # vector store database\n",
        "from langchain.chains import RetrievalQA # qa and retriever chain\n",
        "from langchain.memory import ConversationBufferMemory # for model's memoy on past conversations\n",
        "from langchain.document_loaders import PyPDFDirectoryLoader # loader fo files from firectory\n",
        "\n",
        "from langchain.llms.huggingface_pipeline import HuggingFacePipeline # pipeline\n",
        "from transformers import AutoModelForCausalLM, AutoTokenizer, pipeline, BitsAndBytesConfig"
      ]
    },
    {
      "cell_type": "code",
      "source": [
        "# Initialize some variables"
      ],
      "metadata": {
        "id": "VWGChxwsAp-I"
      },
      "execution_count": null,
      "outputs": []
    },
    {
      "cell_type": "code",
      "execution_count": null,
      "metadata": {
        "id": "Ztz8zm703amW",
        "colab": {
          "base_uri": "https://localhost:8080/",
          "height": 1000,
          "referenced_widgets": [
            "8950035e6d3a4cae8c0f0d974bb9e518",
            "fbc0f22344f246e98101599adb797358",
            "7ff338ec53664edb9cb8919b6071c326",
            "4e1fcc53f5154c5281ea5eb08f0f356e",
            "29dbf4703898479e8b91077a895726d5",
            "46b996f8b09c4587a2309e883a80405c",
            "90e2074579194aba870ad077b0a8e54a",
            "0c3bb57a56b947068ef1b06f575683bd",
            "19fda98251764e2d820e5b42128b32c9",
            "835873872584494a83144d64183637bb",
            "4ce25a8360b841748bb27f52eb9eef23",
            "e950a3c65f3247c19a040e0c3a2493fc",
            "dd4507a6c7324299ae1d62605005bb03",
            "33196479da6d41c38c931202d925f3b4",
            "da727405183743cba5352c78c3ca7b8d",
            "92fa77cc96ee4cbf91bc1b4af4dfdb8c",
            "ad8b517bd0d94b7d81012dfecf36936a",
            "8984fc2068a4444ea98cb3e905deb35d",
            "b4b3517510b94fc98d7a39a0e0f4c2a7",
            "db4616781ebe431b93fa19d70fbc2763",
            "c7aaba341677442eb6390e0728437d31",
            "ca85b2c8a2334725bf6718dbbb6c2180",
            "11b05be8a4a44c83873a73b6c2442e99",
            "ee6bff7c35ae4dfbb8764dcc9ecd5c47",
            "2a6c02efee7b48d6a0e2fb2355f190bd",
            "1ddeb9af5c26402bb3700d85750f411e",
            "f89ecb3745584d41b2065e90eab619d4",
            "db34859c018e4914b86dd98285b4ac27",
            "9b6685cfb1624bc186427f36c582cee5",
            "7be9e65a95c943758276ecc966058962",
            "8a1d62d0d7b54b4b8d1b25a08d1c6baa",
            "4c6806412cba4951a9ec512d47caaa6d",
            "1988e7bb449743288504e9dd7d27db83",
            "d5f220e21b3b457795f08074cbf153fe",
            "19baa965fa684d7192656ea8e5bd5da2",
            "92083eb2a6484046a8495d9cbf436f16",
            "a910f92575b144d18b93d5a4b4d45847",
            "b49233742dc44a628fdee11e31109e2c",
            "f632ede936214c3d9d8db22b25aacdc1",
            "43e46993ed5a4c5bac36c61f0707ce07",
            "94e60972630c46d1a556772e27612f45",
            "b0dd737ec7c0405ea3df3f5fa88b5573",
            "173523657af747b0a88ff95945018030",
            "87c80c9678544df38a22b5db3161664c",
            "2404627f2a9c424b804c072376e7d84c",
            "9b2cd811741442d1a7849faba0075f20",
            "eb7d88f6454645ea9f6398a38a638096",
            "efd91041a55e4a45a635d8bceda56cfa",
            "6c48c392742340c583697837cc4cbbfe",
            "b23965c1a1f8472abb751cfa2de852d3",
            "5894adcf3d4048ce82063b7b3008050d",
            "0852d2691b774c3e87f62e109d8312db",
            "01185d06ceba4e7381cd7eea2de74a5e",
            "ad49d9d26755486ebad64983cb553894",
            "2cb2678018cd44ecbf581df2fd1ad026",
            "de5fd32a82194f2788de36b8fdbaa402",
            "744f0b421b304a83a44bf011965147c1",
            "4ab111dc33944b98a936e0d1672caa13",
            "de8f5f7a1c8a43da92fbc1a1127cdf16",
            "b7b2f68ff4aa49b6b4bce3b24a386432",
            "5d72fcd52c8c4e7288b0e8a11f45c068",
            "7a4fecd9f5af42118c2c3fc1c6fd0353",
            "51a4477b983742edaa69dc6ffc081623",
            "e93e65948db34708bcb2ccc1d79f6809",
            "49b91a3b209b4915aa10d47713d2572a",
            "9513906065424bf7aa0589a41446ea0c",
            "507b70ca384840f9b29abc58d03f7bec",
            "ce33f173f9924c7ebae82343a711a049",
            "3027872895de4c31844e968eaf12b67e",
            "40d6ba6f977a4b848d52f5c42134fb02",
            "5241af566d2e42bba76598a74e20b635",
            "3575c19d37f847fd97c69199bbb57e14",
            "c125997110794c0cb61a0f02229ca175",
            "0e4a0d6871da49a89429ed93bd879b55",
            "5b2867d451bd44e3b6772a08f89a087f",
            "39b041cd51cb470b9d2a0b6548c86062",
            "d61b7f686d3b4810a29c11b07510e58e",
            "1fa6dd0d853e4fb2be9b446526ce22fb",
            "b5c41f5cff144d0883f9057daee7db8d",
            "49cacd506df14d00a084cde62387ddcb",
            "8154e8f797a44785ab96860a034cd8f8",
            "b6d470a0d15d4ce4b6bcc5c376839113",
            "c78acd7729a440b8aa94ea42e74ce3ea",
            "fba2db6d5f5b4e5e94a11781e77ec0a4",
            "828e176dbd1f48e5998c54d1bc0a31a1",
            "4fe2bc8c6504417c834a2c3731d65136",
            "93899057927942658ad97054f7cb5eb1",
            "86c29705af024d1eb0b7fd9132202d87",
            "6b366fe44dfb47dd91b2f44541d0319a",
            "cfae5ac26de54500a6952e0efa3df16e",
            "da0dee6b7122428a8bd177a9c5dd4771",
            "ce64ae3496cc428dbecf50ac49e6e4c5",
            "868dfd0857134327aec48d5898b2955f",
            "9f282f0ac6f9436995a3e7e73c4c69bb",
            "9625926173d04901accdffe6bc872eec",
            "09cac8cb064a47a2a3d3313365adb4d8",
            "e1b51415eccf41b4a935186cc5e82468",
            "b381c3b9b2a243869afe49c81be97bb2",
            "a8412e3ed3f946679efa5b57ae86a389",
            "47304b9508b8478e822ced8b807145a3",
            "a6cd0aebed0047ee9195c61c5b4b8ae3",
            "2db4077e56ff4688bf0b4b437269b49b",
            "c62269d829a242c1b67ca254ca181ebe",
            "2602ae83ec2b40a6aea720d1e40b0c27",
            "efa923b8c60a4c968296830cd3ad870f",
            "52ffc28483bd44e790db314b3a21d341",
            "3f67888a8de54e0d850dae402630e499",
            "0c7470b8c1344cac922163fb7b8cc7f4",
            "994029df4c79447cb9bde5f093178202",
            "d799ae07fb5c4fd2b1e29ece20137038",
            "1ae6d78338174fb0a3ebd8892d0d9b3d",
            "ec61abf783be416b84b3ff9c4cb04503",
            "1bb6e3e69570453185d0762a3a371e86",
            "0b9dd21eb89b4ddf88ec8859c061ac30",
            "2a549f53ee8344a4b9c656058635382e",
            "5cc31e0573204306b6d1de5ca4a1d7be",
            "9a2d8ac306cf4bc5aa9b426c669db090",
            "99db03c5783c44d4b49f7645821b5dd3",
            "5b3ccdc94ee0425d84b51cf70d15175b",
            "de7007af44414c1b818a6c82bfde2bdc",
            "372759af443f4332ad05273f715d286c"
          ]
        },
        "outputId": "31ffcd96-4b7d-4961-de37-c8557d170a05"
      },
      "outputs": [
        {
          "output_type": "stream",
          "name": "stderr",
          "text": [
            "/usr/local/lib/python3.10/dist-packages/huggingface_hub/utils/_token.py:88: UserWarning: \n",
            "The secret `HF_TOKEN` does not exist in your Colab secrets.\n",
            "To authenticate with the Hugging Face Hub, create a token in your settings tab (https://huggingface.co/settings/tokens), set it as secret in your Google Colab and restart your session.\n",
            "You will be able to reuse this secret in all of your notebooks.\n",
            "Please note that authentication is recommended but still optional to access public models or datasets.\n",
            "  warnings.warn(\n"
          ]
        },
        {
          "output_type": "display_data",
          "data": {
            "text/plain": [
              "modules.json:   0%|          | 0.00/349 [00:00<?, ?B/s]"
            ],
            "application/vnd.jupyter.widget-view+json": {
              "version_major": 2,
              "version_minor": 0,
              "model_id": "8950035e6d3a4cae8c0f0d974bb9e518"
            }
          },
          "metadata": {}
        },
        {
          "output_type": "display_data",
          "data": {
            "text/plain": [
              "config_sentence_transformers.json:   0%|          | 0.00/116 [00:00<?, ?B/s]"
            ],
            "application/vnd.jupyter.widget-view+json": {
              "version_major": 2,
              "version_minor": 0,
              "model_id": "e950a3c65f3247c19a040e0c3a2493fc"
            }
          },
          "metadata": {}
        },
        {
          "output_type": "display_data",
          "data": {
            "text/plain": [
              "README.md:   0%|          | 0.00/10.6k [00:00<?, ?B/s]"
            ],
            "application/vnd.jupyter.widget-view+json": {
              "version_major": 2,
              "version_minor": 0,
              "model_id": "11b05be8a4a44c83873a73b6c2442e99"
            }
          },
          "metadata": {}
        },
        {
          "output_type": "display_data",
          "data": {
            "text/plain": [
              "sentence_bert_config.json:   0%|          | 0.00/53.0 [00:00<?, ?B/s]"
            ],
            "application/vnd.jupyter.widget-view+json": {
              "version_major": 2,
              "version_minor": 0,
              "model_id": "d5f220e21b3b457795f08074cbf153fe"
            }
          },
          "metadata": {}
        },
        {
          "output_type": "display_data",
          "data": {
            "text/plain": [
              "config.json:   0%|          | 0.00/571 [00:00<?, ?B/s]"
            ],
            "application/vnd.jupyter.widget-view+json": {
              "version_major": 2,
              "version_minor": 0,
              "model_id": "2404627f2a9c424b804c072376e7d84c"
            }
          },
          "metadata": {}
        },
        {
          "output_type": "display_data",
          "data": {
            "text/plain": [
              "pytorch_model.bin:   0%|          | 0.00/438M [00:00<?, ?B/s]"
            ],
            "application/vnd.jupyter.widget-view+json": {
              "version_major": 2,
              "version_minor": 0,
              "model_id": "de5fd32a82194f2788de36b8fdbaa402"
            }
          },
          "metadata": {}
        },
        {
          "output_type": "display_data",
          "data": {
            "text/plain": [
              "tokenizer_config.json:   0%|          | 0.00/363 [00:00<?, ?B/s]"
            ],
            "application/vnd.jupyter.widget-view+json": {
              "version_major": 2,
              "version_minor": 0,
              "model_id": "507b70ca384840f9b29abc58d03f7bec"
            }
          },
          "metadata": {}
        },
        {
          "output_type": "display_data",
          "data": {
            "text/plain": [
              "vocab.txt:   0%|          | 0.00/232k [00:00<?, ?B/s]"
            ],
            "application/vnd.jupyter.widget-view+json": {
              "version_major": 2,
              "version_minor": 0,
              "model_id": "1fa6dd0d853e4fb2be9b446526ce22fb"
            }
          },
          "metadata": {}
        },
        {
          "output_type": "display_data",
          "data": {
            "text/plain": [
              "tokenizer.json:   0%|          | 0.00/466k [00:00<?, ?B/s]"
            ],
            "application/vnd.jupyter.widget-view+json": {
              "version_major": 2,
              "version_minor": 0,
              "model_id": "6b366fe44dfb47dd91b2f44541d0319a"
            }
          },
          "metadata": {}
        },
        {
          "output_type": "display_data",
          "data": {
            "text/plain": [
              "special_tokens_map.json:   0%|          | 0.00/239 [00:00<?, ?B/s]"
            ],
            "application/vnd.jupyter.widget-view+json": {
              "version_major": 2,
              "version_minor": 0,
              "model_id": "47304b9508b8478e822ced8b807145a3"
            }
          },
          "metadata": {}
        },
        {
          "output_type": "display_data",
          "data": {
            "text/plain": [
              "1_Pooling/config.json:   0%|          | 0.00/190 [00:00<?, ?B/s]"
            ],
            "application/vnd.jupyter.widget-view+json": {
              "version_major": 2,
              "version_minor": 0,
              "model_id": "1ae6d78338174fb0a3ebd8892d0d9b3d"
            }
          },
          "metadata": {}
        },
        {
          "output_type": "error",
          "ename": "RuntimeError",
          "evalue": "Found no NVIDIA driver on your system. Please check that you have an NVIDIA GPU and installed a driver from http://www.nvidia.com/Download/index.aspx",
          "traceback": [
            "\u001b[0;31m---------------------------------------------------------------------------\u001b[0m",
            "\u001b[0;31mRuntimeError\u001b[0m                              Traceback (most recent call last)",
            "\u001b[0;32m<ipython-input-6-b0981f9b3a60>\u001b[0m in \u001b[0;36m<cell line: 3>\u001b[0;34m()\u001b[0m\n\u001b[1;32m      1\u001b[0m \u001b[0mCHUNK_SIZE\u001b[0m \u001b[0;34m=\u001b[0m \u001b[0;36m1000\u001b[0m\u001b[0;34m\u001b[0m\u001b[0;34m\u001b[0m\u001b[0m\n\u001b[1;32m      2\u001b[0m \u001b[0;31m# Using HuggingFaceEmbeddings with the chosen embedding model\u001b[0m\u001b[0;34m\u001b[0m\u001b[0;34m\u001b[0m\u001b[0m\n\u001b[0;32m----> 3\u001b[0;31m embeddings = HuggingFaceEmbeddings(\n\u001b[0m\u001b[1;32m      4\u001b[0m     model_name=\"sentence-transformers/all-mpnet-base-v2\",model_kwargs = {\"device\": \"cuda\"})\n\u001b[1;32m      5\u001b[0m \u001b[0;34m\u001b[0m\u001b[0m\n",
            "\u001b[0;32m/usr/local/lib/python3.10/dist-packages/langchain_community/embeddings/huggingface.py\u001b[0m in \u001b[0;36m__init__\u001b[0;34m(self, **kwargs)\u001b[0m\n\u001b[1;32m     65\u001b[0m             ) from exc\n\u001b[1;32m     66\u001b[0m \u001b[0;34m\u001b[0m\u001b[0m\n\u001b[0;32m---> 67\u001b[0;31m         self.client = sentence_transformers.SentenceTransformer(\n\u001b[0m\u001b[1;32m     68\u001b[0m             \u001b[0mself\u001b[0m\u001b[0;34m.\u001b[0m\u001b[0mmodel_name\u001b[0m\u001b[0;34m,\u001b[0m \u001b[0mcache_folder\u001b[0m\u001b[0;34m=\u001b[0m\u001b[0mself\u001b[0m\u001b[0;34m.\u001b[0m\u001b[0mcache_folder\u001b[0m\u001b[0;34m,\u001b[0m \u001b[0;34m**\u001b[0m\u001b[0mself\u001b[0m\u001b[0;34m.\u001b[0m\u001b[0mmodel_kwargs\u001b[0m\u001b[0;34m\u001b[0m\u001b[0;34m\u001b[0m\u001b[0m\n\u001b[1;32m     69\u001b[0m         )\n",
            "\u001b[0;32m/usr/local/lib/python3.10/dist-packages/sentence_transformers/SentenceTransformer.py\u001b[0m in \u001b[0;36m__init__\u001b[0;34m(self, model_name_or_path, modules, device, cache_folder, trust_remote_code, revision, token, use_auth_token)\u001b[0m\n\u001b[1;32m    216\u001b[0m             \u001b[0mlogger\u001b[0m\u001b[0;34m.\u001b[0m\u001b[0minfo\u001b[0m\u001b[0;34m(\u001b[0m\u001b[0;34m\"Use pytorch device_name: {}\"\u001b[0m\u001b[0;34m.\u001b[0m\u001b[0mformat\u001b[0m\u001b[0;34m(\u001b[0m\u001b[0mdevice\u001b[0m\u001b[0;34m)\u001b[0m\u001b[0;34m)\u001b[0m\u001b[0;34m\u001b[0m\u001b[0;34m\u001b[0m\u001b[0m\n\u001b[1;32m    217\u001b[0m \u001b[0;34m\u001b[0m\u001b[0m\n\u001b[0;32m--> 218\u001b[0;31m         \u001b[0mself\u001b[0m\u001b[0;34m.\u001b[0m\u001b[0mto\u001b[0m\u001b[0;34m(\u001b[0m\u001b[0mdevice\u001b[0m\u001b[0;34m)\u001b[0m\u001b[0;34m\u001b[0m\u001b[0;34m\u001b[0m\u001b[0m\n\u001b[0m\u001b[1;32m    219\u001b[0m \u001b[0;34m\u001b[0m\u001b[0m\n\u001b[1;32m    220\u001b[0m     def encode(\n",
            "\u001b[0;32m/usr/local/lib/python3.10/dist-packages/torch/nn/modules/module.py\u001b[0m in \u001b[0;36mto\u001b[0;34m(self, *args, **kwargs)\u001b[0m\n\u001b[1;32m   1158\u001b[0m             \u001b[0;32mreturn\u001b[0m \u001b[0mt\u001b[0m\u001b[0;34m.\u001b[0m\u001b[0mto\u001b[0m\u001b[0;34m(\u001b[0m\u001b[0mdevice\u001b[0m\u001b[0;34m,\u001b[0m \u001b[0mdtype\u001b[0m \u001b[0;32mif\u001b[0m \u001b[0mt\u001b[0m\u001b[0;34m.\u001b[0m\u001b[0mis_floating_point\u001b[0m\u001b[0;34m(\u001b[0m\u001b[0;34m)\u001b[0m \u001b[0;32mor\u001b[0m \u001b[0mt\u001b[0m\u001b[0;34m.\u001b[0m\u001b[0mis_complex\u001b[0m\u001b[0;34m(\u001b[0m\u001b[0;34m)\u001b[0m \u001b[0;32melse\u001b[0m \u001b[0;32mNone\u001b[0m\u001b[0;34m,\u001b[0m \u001b[0mnon_blocking\u001b[0m\u001b[0;34m)\u001b[0m\u001b[0;34m\u001b[0m\u001b[0;34m\u001b[0m\u001b[0m\n\u001b[1;32m   1159\u001b[0m \u001b[0;34m\u001b[0m\u001b[0m\n\u001b[0;32m-> 1160\u001b[0;31m         \u001b[0;32mreturn\u001b[0m \u001b[0mself\u001b[0m\u001b[0;34m.\u001b[0m\u001b[0m_apply\u001b[0m\u001b[0;34m(\u001b[0m\u001b[0mconvert\u001b[0m\u001b[0;34m)\u001b[0m\u001b[0;34m\u001b[0m\u001b[0;34m\u001b[0m\u001b[0m\n\u001b[0m\u001b[1;32m   1161\u001b[0m \u001b[0;34m\u001b[0m\u001b[0m\n\u001b[1;32m   1162\u001b[0m     def register_full_backward_pre_hook(\n",
            "\u001b[0;32m/usr/local/lib/python3.10/dist-packages/torch/nn/modules/module.py\u001b[0m in \u001b[0;36m_apply\u001b[0;34m(self, fn, recurse)\u001b[0m\n\u001b[1;32m    808\u001b[0m         \u001b[0;32mif\u001b[0m \u001b[0mrecurse\u001b[0m\u001b[0;34m:\u001b[0m\u001b[0;34m\u001b[0m\u001b[0;34m\u001b[0m\u001b[0m\n\u001b[1;32m    809\u001b[0m             \u001b[0;32mfor\u001b[0m \u001b[0mmodule\u001b[0m \u001b[0;32min\u001b[0m \u001b[0mself\u001b[0m\u001b[0;34m.\u001b[0m\u001b[0mchildren\u001b[0m\u001b[0;34m(\u001b[0m\u001b[0;34m)\u001b[0m\u001b[0;34m:\u001b[0m\u001b[0;34m\u001b[0m\u001b[0;34m\u001b[0m\u001b[0m\n\u001b[0;32m--> 810\u001b[0;31m                 \u001b[0mmodule\u001b[0m\u001b[0;34m.\u001b[0m\u001b[0m_apply\u001b[0m\u001b[0;34m(\u001b[0m\u001b[0mfn\u001b[0m\u001b[0;34m)\u001b[0m\u001b[0;34m\u001b[0m\u001b[0;34m\u001b[0m\u001b[0m\n\u001b[0m\u001b[1;32m    811\u001b[0m \u001b[0;34m\u001b[0m\u001b[0m\n\u001b[1;32m    812\u001b[0m         \u001b[0;32mdef\u001b[0m \u001b[0mcompute_should_use_set_data\u001b[0m\u001b[0;34m(\u001b[0m\u001b[0mtensor\u001b[0m\u001b[0;34m,\u001b[0m \u001b[0mtensor_applied\u001b[0m\u001b[0;34m)\u001b[0m\u001b[0;34m:\u001b[0m\u001b[0;34m\u001b[0m\u001b[0;34m\u001b[0m\u001b[0m\n",
            "\u001b[0;32m/usr/local/lib/python3.10/dist-packages/torch/nn/modules/module.py\u001b[0m in \u001b[0;36m_apply\u001b[0;34m(self, fn, recurse)\u001b[0m\n\u001b[1;32m    808\u001b[0m         \u001b[0;32mif\u001b[0m \u001b[0mrecurse\u001b[0m\u001b[0;34m:\u001b[0m\u001b[0;34m\u001b[0m\u001b[0;34m\u001b[0m\u001b[0m\n\u001b[1;32m    809\u001b[0m             \u001b[0;32mfor\u001b[0m \u001b[0mmodule\u001b[0m \u001b[0;32min\u001b[0m \u001b[0mself\u001b[0m\u001b[0;34m.\u001b[0m\u001b[0mchildren\u001b[0m\u001b[0;34m(\u001b[0m\u001b[0;34m)\u001b[0m\u001b[0;34m:\u001b[0m\u001b[0;34m\u001b[0m\u001b[0;34m\u001b[0m\u001b[0m\n\u001b[0;32m--> 810\u001b[0;31m                 \u001b[0mmodule\u001b[0m\u001b[0;34m.\u001b[0m\u001b[0m_apply\u001b[0m\u001b[0;34m(\u001b[0m\u001b[0mfn\u001b[0m\u001b[0;34m)\u001b[0m\u001b[0;34m\u001b[0m\u001b[0;34m\u001b[0m\u001b[0m\n\u001b[0m\u001b[1;32m    811\u001b[0m \u001b[0;34m\u001b[0m\u001b[0m\n\u001b[1;32m    812\u001b[0m         \u001b[0;32mdef\u001b[0m \u001b[0mcompute_should_use_set_data\u001b[0m\u001b[0;34m(\u001b[0m\u001b[0mtensor\u001b[0m\u001b[0;34m,\u001b[0m \u001b[0mtensor_applied\u001b[0m\u001b[0;34m)\u001b[0m\u001b[0;34m:\u001b[0m\u001b[0;34m\u001b[0m\u001b[0;34m\u001b[0m\u001b[0m\n",
            "\u001b[0;32m/usr/local/lib/python3.10/dist-packages/torch/nn/modules/module.py\u001b[0m in \u001b[0;36m_apply\u001b[0;34m(self, fn, recurse)\u001b[0m\n\u001b[1;32m    808\u001b[0m         \u001b[0;32mif\u001b[0m \u001b[0mrecurse\u001b[0m\u001b[0;34m:\u001b[0m\u001b[0;34m\u001b[0m\u001b[0;34m\u001b[0m\u001b[0m\n\u001b[1;32m    809\u001b[0m             \u001b[0;32mfor\u001b[0m \u001b[0mmodule\u001b[0m \u001b[0;32min\u001b[0m \u001b[0mself\u001b[0m\u001b[0;34m.\u001b[0m\u001b[0mchildren\u001b[0m\u001b[0;34m(\u001b[0m\u001b[0;34m)\u001b[0m\u001b[0;34m:\u001b[0m\u001b[0;34m\u001b[0m\u001b[0;34m\u001b[0m\u001b[0m\n\u001b[0;32m--> 810\u001b[0;31m                 \u001b[0mmodule\u001b[0m\u001b[0;34m.\u001b[0m\u001b[0m_apply\u001b[0m\u001b[0;34m(\u001b[0m\u001b[0mfn\u001b[0m\u001b[0;34m)\u001b[0m\u001b[0;34m\u001b[0m\u001b[0;34m\u001b[0m\u001b[0m\n\u001b[0m\u001b[1;32m    811\u001b[0m \u001b[0;34m\u001b[0m\u001b[0m\n\u001b[1;32m    812\u001b[0m         \u001b[0;32mdef\u001b[0m \u001b[0mcompute_should_use_set_data\u001b[0m\u001b[0;34m(\u001b[0m\u001b[0mtensor\u001b[0m\u001b[0;34m,\u001b[0m \u001b[0mtensor_applied\u001b[0m\u001b[0;34m)\u001b[0m\u001b[0;34m:\u001b[0m\u001b[0;34m\u001b[0m\u001b[0;34m\u001b[0m\u001b[0m\n",
            "\u001b[0;32m/usr/local/lib/python3.10/dist-packages/torch/nn/modules/module.py\u001b[0m in \u001b[0;36m_apply\u001b[0;34m(self, fn, recurse)\u001b[0m\n\u001b[1;32m    808\u001b[0m         \u001b[0;32mif\u001b[0m \u001b[0mrecurse\u001b[0m\u001b[0;34m:\u001b[0m\u001b[0;34m\u001b[0m\u001b[0;34m\u001b[0m\u001b[0m\n\u001b[1;32m    809\u001b[0m             \u001b[0;32mfor\u001b[0m \u001b[0mmodule\u001b[0m \u001b[0;32min\u001b[0m \u001b[0mself\u001b[0m\u001b[0;34m.\u001b[0m\u001b[0mchildren\u001b[0m\u001b[0;34m(\u001b[0m\u001b[0;34m)\u001b[0m\u001b[0;34m:\u001b[0m\u001b[0;34m\u001b[0m\u001b[0;34m\u001b[0m\u001b[0m\n\u001b[0;32m--> 810\u001b[0;31m                 \u001b[0mmodule\u001b[0m\u001b[0;34m.\u001b[0m\u001b[0m_apply\u001b[0m\u001b[0;34m(\u001b[0m\u001b[0mfn\u001b[0m\u001b[0;34m)\u001b[0m\u001b[0;34m\u001b[0m\u001b[0;34m\u001b[0m\u001b[0m\n\u001b[0m\u001b[1;32m    811\u001b[0m \u001b[0;34m\u001b[0m\u001b[0m\n\u001b[1;32m    812\u001b[0m         \u001b[0;32mdef\u001b[0m \u001b[0mcompute_should_use_set_data\u001b[0m\u001b[0;34m(\u001b[0m\u001b[0mtensor\u001b[0m\u001b[0;34m,\u001b[0m \u001b[0mtensor_applied\u001b[0m\u001b[0;34m)\u001b[0m\u001b[0;34m:\u001b[0m\u001b[0;34m\u001b[0m\u001b[0;34m\u001b[0m\u001b[0m\n",
            "\u001b[0;32m/usr/local/lib/python3.10/dist-packages/torch/nn/modules/module.py\u001b[0m in \u001b[0;36m_apply\u001b[0;34m(self, fn, recurse)\u001b[0m\n\u001b[1;32m    831\u001b[0m             \u001b[0;31m# `with torch.no_grad():`\u001b[0m\u001b[0;34m\u001b[0m\u001b[0;34m\u001b[0m\u001b[0m\n\u001b[1;32m    832\u001b[0m             \u001b[0;32mwith\u001b[0m \u001b[0mtorch\u001b[0m\u001b[0;34m.\u001b[0m\u001b[0mno_grad\u001b[0m\u001b[0;34m(\u001b[0m\u001b[0;34m)\u001b[0m\u001b[0;34m:\u001b[0m\u001b[0;34m\u001b[0m\u001b[0;34m\u001b[0m\u001b[0m\n\u001b[0;32m--> 833\u001b[0;31m                 \u001b[0mparam_applied\u001b[0m \u001b[0;34m=\u001b[0m \u001b[0mfn\u001b[0m\u001b[0;34m(\u001b[0m\u001b[0mparam\u001b[0m\u001b[0;34m)\u001b[0m\u001b[0;34m\u001b[0m\u001b[0;34m\u001b[0m\u001b[0m\n\u001b[0m\u001b[1;32m    834\u001b[0m             \u001b[0mshould_use_set_data\u001b[0m \u001b[0;34m=\u001b[0m \u001b[0mcompute_should_use_set_data\u001b[0m\u001b[0;34m(\u001b[0m\u001b[0mparam\u001b[0m\u001b[0;34m,\u001b[0m \u001b[0mparam_applied\u001b[0m\u001b[0;34m)\u001b[0m\u001b[0;34m\u001b[0m\u001b[0;34m\u001b[0m\u001b[0m\n\u001b[1;32m    835\u001b[0m             \u001b[0;32mif\u001b[0m \u001b[0mshould_use_set_data\u001b[0m\u001b[0;34m:\u001b[0m\u001b[0;34m\u001b[0m\u001b[0;34m\u001b[0m\u001b[0m\n",
            "\u001b[0;32m/usr/local/lib/python3.10/dist-packages/torch/nn/modules/module.py\u001b[0m in \u001b[0;36mconvert\u001b[0;34m(t)\u001b[0m\n\u001b[1;32m   1156\u001b[0m                 return t.to(device, dtype if t.is_floating_point() or t.is_complex() else None,\n\u001b[1;32m   1157\u001b[0m                             non_blocking, memory_format=convert_to_format)\n\u001b[0;32m-> 1158\u001b[0;31m             \u001b[0;32mreturn\u001b[0m \u001b[0mt\u001b[0m\u001b[0;34m.\u001b[0m\u001b[0mto\u001b[0m\u001b[0;34m(\u001b[0m\u001b[0mdevice\u001b[0m\u001b[0;34m,\u001b[0m \u001b[0mdtype\u001b[0m \u001b[0;32mif\u001b[0m \u001b[0mt\u001b[0m\u001b[0;34m.\u001b[0m\u001b[0mis_floating_point\u001b[0m\u001b[0;34m(\u001b[0m\u001b[0;34m)\u001b[0m \u001b[0;32mor\u001b[0m \u001b[0mt\u001b[0m\u001b[0;34m.\u001b[0m\u001b[0mis_complex\u001b[0m\u001b[0;34m(\u001b[0m\u001b[0;34m)\u001b[0m \u001b[0;32melse\u001b[0m \u001b[0;32mNone\u001b[0m\u001b[0;34m,\u001b[0m \u001b[0mnon_blocking\u001b[0m\u001b[0;34m)\u001b[0m\u001b[0;34m\u001b[0m\u001b[0;34m\u001b[0m\u001b[0m\n\u001b[0m\u001b[1;32m   1159\u001b[0m \u001b[0;34m\u001b[0m\u001b[0m\n\u001b[1;32m   1160\u001b[0m         \u001b[0;32mreturn\u001b[0m \u001b[0mself\u001b[0m\u001b[0;34m.\u001b[0m\u001b[0m_apply\u001b[0m\u001b[0;34m(\u001b[0m\u001b[0mconvert\u001b[0m\u001b[0;34m)\u001b[0m\u001b[0;34m\u001b[0m\u001b[0;34m\u001b[0m\u001b[0m\n",
            "\u001b[0;32m/usr/local/lib/python3.10/dist-packages/torch/cuda/__init__.py\u001b[0m in \u001b[0;36m_lazy_init\u001b[0;34m()\u001b[0m\n\u001b[1;32m    296\u001b[0m         \u001b[0;32mif\u001b[0m \u001b[0;34m\"CUDA_MODULE_LOADING\"\u001b[0m \u001b[0;32mnot\u001b[0m \u001b[0;32min\u001b[0m \u001b[0mos\u001b[0m\u001b[0;34m.\u001b[0m\u001b[0menviron\u001b[0m\u001b[0;34m:\u001b[0m\u001b[0;34m\u001b[0m\u001b[0;34m\u001b[0m\u001b[0m\n\u001b[1;32m    297\u001b[0m             \u001b[0mos\u001b[0m\u001b[0;34m.\u001b[0m\u001b[0menviron\u001b[0m\u001b[0;34m[\u001b[0m\u001b[0;34m\"CUDA_MODULE_LOADING\"\u001b[0m\u001b[0;34m]\u001b[0m \u001b[0;34m=\u001b[0m \u001b[0;34m\"LAZY\"\u001b[0m\u001b[0;34m\u001b[0m\u001b[0;34m\u001b[0m\u001b[0m\n\u001b[0;32m--> 298\u001b[0;31m         \u001b[0mtorch\u001b[0m\u001b[0;34m.\u001b[0m\u001b[0m_C\u001b[0m\u001b[0;34m.\u001b[0m\u001b[0m_cuda_init\u001b[0m\u001b[0;34m(\u001b[0m\u001b[0;34m)\u001b[0m\u001b[0;34m\u001b[0m\u001b[0;34m\u001b[0m\u001b[0m\n\u001b[0m\u001b[1;32m    299\u001b[0m         \u001b[0;31m# Some of the queued calls may reentrantly call _lazy_init();\u001b[0m\u001b[0;34m\u001b[0m\u001b[0;34m\u001b[0m\u001b[0m\n\u001b[1;32m    300\u001b[0m         \u001b[0;31m# we need to just return without initializing in that case.\u001b[0m\u001b[0;34m\u001b[0m\u001b[0;34m\u001b[0m\u001b[0m\n",
            "\u001b[0;31mRuntimeError\u001b[0m: Found no NVIDIA driver on your system. Please check that you have an NVIDIA GPU and installed a driver from http://www.nvidia.com/Download/index.aspx"
          ]
        }
      ],
      "source": [
        "CHUNK_SIZE = 1000\n",
        "# Using HuggingFaceEmbeddings with the chosen embedding model\n",
        "embeddings = HuggingFaceEmbeddings(\n",
        "    model_name=\"sentence-transformers/all-mpnet-base-v2\",model_kwargs = {\"device\": \"cuda\"})\n",
        "\n",
        "# transformer model configuration\n",
        "# this massively model's precision for memory effieciency\n",
        "# The models accuacy is reduced.\n",
        "quant_config = BitsAndBytesConfig(\n",
        "    load_in_4bit=True,\n",
        "    bnb_4bit_use_double_quant=True,\n",
        "    bnb_4bit_quant_type=\"nf4\",\n",
        "    bnb_4bit_compute_dtype=torch.bfloat16\n",
        ")"
      ]
    },
    {
      "cell_type": "markdown",
      "metadata": {
        "id": "rXpwYGFt3amW"
      },
      "source": [
        "## The LLM in use - `DeciLM-7B-instruct`"
      ]
    },
    {
      "cell_type": "code",
      "source": [
        "tensor_1 = torch.rand (4,4)"
      ],
      "metadata": {
        "id": "rm40mzmzAa_V"
      },
      "execution_count": null,
      "outputs": []
    },
    {
      "cell_type": "code",
      "execution_count": null,
      "metadata": {
        "colab": {
          "base_uri": "https://localhost:8080/",
          "height": 49,
          "referenced_widgets": [
            "5793366fb7cf429a8cb0f05c886d0408",
            "2a4153f1137c4325a937457981ca11df",
            "a9c0dbe73125422e9d953d5887947d68",
            "b2fbaf39852744448bca24c58e7cfa4f",
            "ba47554bfaa14c8eb63b45118b96aa64",
            "f267af3c1a084f07a234a34d9fa65f3b",
            "5f802b70ff02473a8b01cbe9d86fe3de",
            "a8ebcd39b34b4bf1836a77a85eb088fe",
            "7edb351a99c248ffb2a454e6b7d872b6",
            "df567d1e54f04b3884f35fbcb06a3cb8",
            "4af2b3a1e4804f38a5dffc147229dba2"
          ]
        },
        "id": "UNujGlbD3amX",
        "outputId": "2874fa82-107f-41d1-cdf2-44f3167cfc83"
      },
      "outputs": [
        {
          "output_type": "display_data",
          "data": {
            "text/plain": [
              "Loading checkpoint shards:   0%|          | 0/3 [00:00<?, ?it/s]"
            ],
            "application/vnd.jupyter.widget-view+json": {
              "version_major": 2,
              "version_minor": 0,
              "model_id": "5793366fb7cf429a8cb0f05c886d0408"
            }
          },
          "metadata": {}
        }
      ],
      "source": [
        "model_id = \"Deci/DeciLM-7B-instruct\" # model repo id\n",
        "device = 'cuda' # Run on gpu if available else run on cpu\n",
        "\n",
        "#\n",
        "tokenizer = AutoTokenizer.from_pretrained(model_id)\n",
        "model = AutoModelForCausalLM.from_pretrained(model_id,\n",
        "                                             trust_remote_code=True,\n",
        "                                             device_map = \"auto\",\n",
        "                                             quantization_config=quant_config)\n",
        "\n",
        "# create a pipeline\n",
        "pipe = pipeline(\"text-generation\",\n",
        "                model=model,\n",
        "                tokenizer=tokenizer,\n",
        "                return_full_text = True,\n",
        "                max_new_tokens=200,\n",
        "                repetition_penalty = 1.1,\n",
        "                num_beams=5,\n",
        "                no_repeat_ngram_size=4,\n",
        "                early_stopping=True)\n",
        "\n",
        "llm = HuggingFacePipeline(pipeline=pipe)"
      ]
    },
    {
      "cell_type": "markdown",
      "metadata": {
        "id": "518MHg3i3amX"
      },
      "source": [
        "## Loading the PDFs from directory with PyPDFDirectoryLoader"
      ]
    },
    {
      "cell_type": "markdown",
      "metadata": {
        "id": "TlS8lo3Q3amX"
      },
      "source": [
        "We load the files with PyPDFDirectoryLoader DocumentLoader which returns Document object. Document is an object with page_content and metdata. The metadata can be sources, page numbers etc.\n"
      ]
    },
    {
      "cell_type": "code",
      "execution_count": null,
      "metadata": {
        "id": "dn5MFsI43amX",
        "colab": {
          "base_uri": "https://localhost:8080/"
        },
        "outputId": "0e4b753f-caac-4a7b-b4af-89ca70bfc3d6"
      },
      "outputs": [
        {
          "output_type": "stream",
          "name": "stdout",
          "text": [
            "34\n"
          ]
        },
        {
          "output_type": "execute_result",
          "data": {
            "text/plain": [
              "Document(page_content='Eight Things to Know about Large Language Models\\nSamuel R. Bowman1 2\\nAbstract\\nThe widespread public deployment of large lan-\\nguage models (LLMs) in recent months has\\nprompted a wave of new attention and engage-\\nment from advocates, policymakers, and scholars\\nfrom many ﬁelds. This attention is a timely re-\\nsponse to the many urgent questions that this tech-\\nnology raises, but it can sometimes miss important\\nconsiderations. This paper surveys the evidence\\nfor eight potentially surprising such points:\\n1.LLMs predictably get more capable with in-\\ncreasing investment, even without targeted\\ninnovation.\\n2.Many important LLM behaviors emerge un-\\npredictably as a byproduct of increasing in-\\nvestment.\\n3.LLMs often appear to learn and use repre-\\nsentations of the outside world.\\n4.There are no reliable techniques for steering\\nthe behavior of LLMs.\\n5.Experts are not yet able to interpret the inner\\nworkings of LLMs.\\n6.Human performance on a task isn’t an upper\\nbound on LLM performance.\\n7.LLMs need not express the values of their\\ncreators nor the values encoded in web text.\\n8.Brief interactions with LLMs are often mis-\\nleading.\\nIntroduction\\nLarge language models (LLMs, e.g. GPT-3, PALM,\\nLLaMA, and GPT-4; Brown et al., 2020; Chowdhery et al.,\\n2022; Touvron et al., 2023; OpenAI, 2023b) and products\\nbuilt on them, such as ChatGPT, have recently prompted\\nan enormous amount of attention from journalists, (Klein,\\n2023; Perrigo, 2023; Oliver, 2023), policymakers (J & C,\\n2023; Bartz, 2023; Lieu, 2023), and scholars from many\\n1New York University2Anthropic, PBC. Correspondence to:\\nSamuel R. Bowman <bowman@nyu.edu >.ﬁelds (Chan, 2022; Lund & Wang, 2023; Choi et al., 2023;\\nBiswas, 2023). This technology deﬁes expectations in many\\nways, though, and it can be easy for brief discussions of it\\nto leave out important points.\\nThis paper presents eight potentially surprising claims that\\nI expect will be salient in at least some of the conversa-\\ntions that are springing up around LLMs. They reﬂect, to\\nthe best of my understanding, views that are reasonably\\nwidely shared among the researchers—largely based in pri-\\nvate labs—who have been developing these models. All the\\nevidence I present here, as well as most of the arguments,\\nare collected from prior work, and I encourage anyone who\\nﬁnds these claims useful to consult (and directly cite) the\\nsources named here.\\nI do not mean for these claims to be normative in any signif-\\nicant way. Rather, this work is motivated by the recognition\\nthat deciding what we should do in light of this disruptive\\nnew technology is a question that is best led—in an informed\\nway—by scholars, advocates, and lawmakers from outside\\nthe core technical R&D community.\\n1. LLMs predictably get more capable with\\nincreasing investment, even without\\ntargeted innovation\\nScaling law results (Kaplan et al., 2020; Brown et al., 2020;\\nHoffmann et al., 2022) have been a major driving factor\\nin the recent surge of research and investment into LLMs\\n(Ganguli et al., 2022a). Scaling laws allow us to precisely\\npredict some coarse-but-useful measures of how capable\\nfuture models will be as we scale them up along three dimen-\\nsions: the amount of data they are fed, their size (measured\\nin parameters), and the amount of computation used to train\\nthem (measured in FLOPs). These results thereby allow\\nus to make some key design decisions, such as the optimal\\nsize of a model given some ﬁxed resource budget, without\\nextremely expensive trial and error.\\nOur ability to make this kind of precise prediction is un-\\nusual in the history of software and unusual even in the\\nhistory of modern AI research. It is also a powerful tool for\\ndriving investment since it allows R&D teams to propose\\nmodel-training projects costing many millions of dollars,\\nwith reasonable conﬁdence that these projects will succeedarXiv:2304.00612v1  [cs.CL]  2 Apr 2023', metadata={'source': '/content/Eight_Things_to_Know_about_Large_Language_Models.pdf', 'page': 0})"
            ]
          },
          "metadata": {},
          "execution_count": 9
        }
      ],
      "source": [
        "pdf_paths = \"/content/\"\n",
        "\n",
        "loader = PyPDFDirectoryLoader(\n",
        "    path= pdf_paths,\n",
        "    glob=\"*.pdf\"\n",
        ")\n",
        "documents=loader.load()\n",
        "\n",
        "print(len(documents))\n",
        "documents[0] # display four documents"
      ]
    },
    {
      "cell_type": "code",
      "execution_count": null,
      "metadata": {
        "id": "zxVR5KVa3amX",
        "colab": {
          "base_uri": "https://localhost:8080/"
        },
        "outputId": "3498b0c2-a94f-44af-cdc9-708ae37dc6b0"
      },
      "outputs": [
        {
          "output_type": "execute_result",
          "data": {
            "text/plain": [
              "('Eight Things to Know about Large Language Models\\nSamuel R. Bowman1 2\\nAbstract\\nThe widespread public deployment of large lan-\\nguage models (LLMs) in recent months has\\nprompted a wave of new attention and engage-\\nment from advocates, policymakers, and scholars\\nfrom many ﬁelds. This attention is a timely re-\\nsponse to the many urgent questions that this tech-\\nnology raises, but it can sometimes miss important\\nconsiderations. This paper surveys the evidence\\nfor eight potentially surprising such points:\\n1.LLMs predictably get more capable with in-\\ncreasing investment, even without targeted\\ninnovation.\\n2.Many important LLM behaviors emerge un-\\npredictably as a byproduct of increasing in-\\nvestment.\\n3.LLMs often appear to learn and use repre-\\nsentations of the outside world.\\n4.There are no reliable techniques for steering\\nthe behavior of LLMs.\\n5.Experts are not yet able to interpret the inner\\nworkings of LLMs.\\n6.Human performance on a task isn’t an upper\\nbound on LLM performance.\\n7.LLMs need not express the values of their\\ncreators nor the values encoded in web text.\\n8.Brief interactions with LLMs are often mis-\\nleading.\\nIntroduction\\nLarge language models (LLMs, e.g. GPT-3, PALM,\\nLLaMA, and GPT-4; Brown et al., 2020; Chowdhery et al.,\\n2022; Touvron et al., 2023; OpenAI, 2023b) and products\\nbuilt on them, such as ChatGPT, have recently prompted\\nan enormous amount of attention from journalists, (Klein,\\n2023; Perrigo, 2023; Oliver, 2023), policymakers (J & C,\\n2023; Bartz, 2023; Lieu, 2023), and scholars from many\\n1New York University2Anthropic, PBC. Correspondence to:\\nSamuel R. Bowman <bowman@nyu.edu >.ﬁelds (Chan, 2022; Lund & Wang, 2023; Choi et al., 2023;\\nBiswas, 2023). This technology deﬁes expectations in many\\nways, though, and it can be easy for brief discussions of it\\nto leave out important points.\\nThis paper presents eight potentially surprising claims that\\nI expect will be salient in at least some of the conversa-\\ntions that are springing up around LLMs. They reﬂect, to\\nthe best of my understanding, views that are reasonably\\nwidely shared among the researchers—largely based in pri-\\nvate labs—who have been developing these models. All the\\nevidence I present here, as well as most of the arguments,\\nare collected from prior work, and I encourage anyone who\\nﬁnds these claims useful to consult (and directly cite) the\\nsources named here.\\nI do not mean for these claims to be normative in any signif-\\nicant way. Rather, this work is motivated by the recognition\\nthat deciding what we should do in light of this disruptive\\nnew technology is a question that is best led—in an informed\\nway—by scholars, advocates, and lawmakers from outside\\nthe core technical R&D community.\\n1. LLMs predictably get more capable with\\nincreasing investment, even without\\ntargeted innovation\\nScaling law results (Kaplan et al., 2020; Brown et al., 2020;\\nHoffmann et al., 2022) have been a major driving factor\\nin the recent surge of research and investment into LLMs\\n(Ganguli et al., 2022a). Scaling laws allow us to precisely\\npredict some coarse-but-useful measures of how capable\\nfuture models will be as we scale them up along three dimen-\\nsions: the amount of data they are fed, their size (measured\\nin parameters), and the amount of computation used to train\\nthem (measured in FLOPs). These results thereby allow\\nus to make some key design decisions, such as the optimal\\nsize of a model given some ﬁxed resource budget, without\\nextremely expensive trial and error.\\nOur ability to make this kind of precise prediction is un-\\nusual in the history of software and unusual even in the\\nhistory of modern AI research. It is also a powerful tool for\\ndriving investment since it allows R&D teams to propose\\nmodel-training projects costing many millions of dollars,\\nwith reasonable conﬁdence that these projects will succeedarXiv:2304.00612v1  [cs.CL]  2 Apr 2023',\n",
              " {'source': '/content/Eight_Things_to_Know_about_Large_Language_Models.pdf',\n",
              "  'page': 0})"
            ]
          },
          "metadata": {},
          "execution_count": 10
        }
      ],
      "source": [
        "documents[0].page_content, documents[0].metadata"
      ]
    },
    {
      "cell_type": "markdown",
      "metadata": {
        "id": "GYCia_n33amX"
      },
      "source": [
        "## Splitting the documents"
      ]
    },
    {
      "cell_type": "markdown",
      "metadata": {
        "id": "4-I3EkSU3amY"
      },
      "source": [
        "We can not pass the entire documents into the language model since they have the maximum number of tokens. for instance the DeciLM-7B-instruct has 4096. Large chunks also make it hard for the model to search for relevant information from very prmpts.\n",
        "\n",
        "So we need to split the documents into small text chunks"
      ]
    },
    {
      "cell_type": "markdown",
      "metadata": {
        "id": "IBMXdyuZ3amY"
      },
      "source": [
        "We split the documents with `RecursiveCharacterTextSplitter`. We sent the\n",
        "\n",
        "* `chunk_size = 1000`(1000 characters) and\n",
        "\n",
        "* `chunk_overlap =  200`(200 characters of overlap between chunks. The overlap helps mitigate the possibility of separating a statement from important context related to it)"
      ]
    },
    {
      "cell_type": "code",
      "execution_count": null,
      "metadata": {
        "id": "0hn7sLKK3amY",
        "colab": {
          "base_uri": "https://localhost:8080/"
        },
        "outputId": "635d7f44-60d5-4f3b-b59d-335efc7401dd"
      },
      "outputs": [
        {
          "output_type": "stream",
          "name": "stdout",
          "text": [
            "We have, 168 chunks in memory\n"
          ]
        }
      ],
      "source": [
        "text_splitter = RecursiveCharacterTextSplitter(chunk_size=CHUNK_SIZE,\n",
        "                                                chunk_overlap=100)\n",
        "\n",
        "splits = text_splitter.split_documents(documents)\n",
        "\n",
        "# length of all splits\n",
        "\n",
        "print(f\"We have, {len(splits)} chunks in memory\")"
      ]
    },
    {
      "cell_type": "markdown",
      "metadata": {
        "id": "uJZhiFZL3amY"
      },
      "source": [
        "## Creating a Vector store\n",
        "\n",
        "Now that we've got 119 text chunks in memory, we need to store and index them so that we\n",
        "can search them later in our Question answering app.\n",
        "\n",
        "We use a Vector store database for this. In this case FAISS. We embedd the text chunks and sttore them. This\n",
        "helps for easier similarity check between the stored chunks and our query to the bot.\n",
        "\n",
        "\n",
        "We use Hugging Face embeddings."
      ]
    },
    {
      "cell_type": "code",
      "execution_count": null,
      "metadata": {
        "id": "Z0As-U2w3amY"
      },
      "outputs": [],
      "source": [
        "vectorstore_db = FAISS.from_documents(splits, embeddings) # create vector db for similarity search"
      ]
    },
    {
      "cell_type": "markdown",
      "metadata": {
        "id": "mPagmVb_3amY"
      },
      "source": [
        "## Next we create a Question Answering chain.\n",
        "\n",
        "First, we want an application that let's the user ask a question, searches for documents relevant to that question, passes the retrieved documents and initial question to a model, and finally returns an answer.\n",
        "\n",
        "To allow this, We use a `Retriever` interface which wraps an index that can return relevant documents given a string query. It uses the similarity search capabilities of a vector store to facillitate retrieval. In that case, We will convert the `vectorstore_db` we created above into a retriever."
      ]
    },
    {
      "cell_type": "code",
      "execution_count": null,
      "metadata": {
        "id": "4opc-Ovl3amY"
      },
      "outputs": [],
      "source": [
        "\n",
        "# performs a similarity check and returns the top K embeddings\n",
        "# that are similar to the question’s embeddings\n",
        "retriever = vectorstore_db.as_retriever(search_type=\"similarity\", search_kwargs={\"k\": 6})"
      ]
    },
    {
      "cell_type": "markdown",
      "metadata": {
        "id": "DQIrIP3x3amd"
      },
      "source": [
        "For instance based on our PDFs, we can get the relevant documents based on a query."
      ]
    },
    {
      "cell_type": "markdown",
      "metadata": {
        "id": "-4W8t1Vr3amd"
      },
      "source": [
        "PDF 1 : \"Attention is all You need\""
      ]
    },
    {
      "cell_type": "code",
      "execution_count": null,
      "metadata": {
        "id": "bvrxzqNr3ame",
        "colab": {
          "base_uri": "https://localhost:8080/",
          "height": 242
        },
        "outputId": "974e80a6-bfe1-4c5c-eb2f-d2b3d877ed40"
      },
      "outputs": [
        {
          "output_type": "stream",
          "name": "stdout",
          "text": [
            "Retrieved documents: 6\n"
          ]
        },
        {
          "output_type": "execute_result",
          "data": {
            "text/plain": [
              "'Page content of first document:\\n top of our method to further enhance the unlearning performance.\\n3 P RELIMINARIES\\nClass Unlearning: Let the training dataset be denoted by Dtrain ={(xi, yi)}Ntrain\\ni=1 consisting of\\nNtrain training samples where xirepresents the network input and yiis the corresponding label. The\\ntest dataset be Dtest={(xi, yi)}Ntest\\ni=1 containing Ntestsamples. Consider a function y=f(xi, θ)\\nwith the parameters θthat approximates the mapping of the inputs xito their respective labels yi. In\\nthe case of a well-trained deep learning model with parameters θ, there would be numerous samples\\n(xi, yi)∈ D testfor which the relationship yi=f(xi, θ)holds. For a class unlearning task aimed\\nat removing the target class t, the training dataset can be split into two partitions, namely the re-\\ntain dataset Dtrain r={(xi, yi)}N\\ni=1;yi̸=tand the forget dataset Dtrain f={(xi, yi)}N\\ni=1;yi=t.\\nSimilarly the test dataset can be split into these partitions as Dtestr={(xi, yi)}N\\ni=1;yi̸=tand\\nDtestf={(xi, yi)}N'"
            ],
            "application/vnd.google.colaboratory.intrinsic+json": {
              "type": "string"
            }
          },
          "metadata": {},
          "execution_count": 15
        }
      ],
      "source": [
        "retrieved_relevant_docs = retriever.get_relevant_documents(\n",
        "    \"Based on the Deep unlearning pdf, what does class unlearning mean?\"\n",
        ")\n",
        "\n",
        "print(f\"Retrieved documents: {len(retrieved_relevant_docs)}\")\n",
        "f\"Page content of first document:\\n {retrieved_relevant_docs[0].page_content}\"\n"
      ]
    },
    {
      "cell_type": "markdown",
      "metadata": {
        "id": "G8uLQa2M3ame"
      },
      "source": [
        "PDF 2 : \"Tex-to Music Generation\""
      ]
    },
    {
      "cell_type": "code",
      "execution_count": null,
      "metadata": {
        "id": "zT6mhDrB3ame",
        "colab": {
          "base_uri": "https://localhost:8080/",
          "height": 242
        },
        "outputId": "b3998498-e910-485c-a904-5d3a94d3540a"
      },
      "outputs": [
        {
          "output_type": "stream",
          "name": "stdout",
          "text": [
            "Retrieved documents: 6\n"
          ]
        },
        {
          "output_type": "execute_result",
          "data": {
            "text/plain": [
              "'Page content of first document:\\n Eight Things to Know about Large Language Models\\nFigure 2. Excerpted from Wei et al. (2022a): Evaluations of performance on speciﬁc tasks or behaviors in LLMs do not generally show\\npredictable trends, and it is common for new behaviors to emerge abruptly when transitioning from a less resource-intensive version of a\\nmodel to a more resource-intensive one.\\nWei et al. show that the tasks in BIG-Bench (Srivastava et al.,\\n2022), a standard broad-coverage benchmark for LLM abili-\\nties, show a range of different kinds of trend that collectively\\nmake scaling-law style predictions unreliable (Figure 3).\\nThis means that when a lab invests in training a new LLM\\nthat advances the scale frontier, they’re buying a mystery\\nbox: They’re justiﬁably conﬁdent that they’ll get a variety of\\neconomically valuable new capabilities, but they can make\\nfew conﬁdent predictions about what those capabilities will\\nbe or what preparations they’ll need to make to be able to\\ndeploy them responsibly.'"
            ],
            "application/vnd.google.colaboratory.intrinsic+json": {
              "type": "string"
            }
          },
          "metadata": {},
          "execution_count": 16
        }
      ],
      "source": [
        "retrieved_relevant_docs = retriever.get_relevant_documents(\n",
        "    \"\"\"Based on Eight things to know about large language models pdf,\n",
        "    where do much of the expense of developing an LLM go?\"\"\"\n",
        ")\n",
        "\n",
        "print(f\"Retrieved documents: {len(retrieved_relevant_docs)}\")\n",
        "f\"Page content of first document:\\n {retrieved_relevant_docs[0].page_content}\""
      ]
    },
    {
      "cell_type": "markdown",
      "metadata": {
        "id": "aAosMHHK3ame"
      },
      "source": [
        "PDF 3 : \"APIs\""
      ]
    },
    {
      "cell_type": "markdown",
      "metadata": {
        "id": "Vrub9FXL3ame"
      },
      "source": [
        "Since we have seen how the retriever is working, We will implement the  Question answeing chain using `RetrievalQA`\n",
        "from Langchain. However improve user experience and the quality of the conversation with the chatbot,\n",
        "we need to implement `Memory`"
      ]
    },
    {
      "cell_type": "markdown",
      "metadata": {
        "id": "jpCP2xpa3ame"
      },
      "source": [
        "### Implementing memory"
      ]
    },
    {
      "cell_type": "markdown",
      "metadata": {
        "id": "H_KA1R1g3ame"
      },
      "source": [
        "Large Language Models are by default `stateless` meaning each incoming query is processed independently of other interactions. The only thing that exists for a stateless agent is the current input, nothing else.\n",
        "\n",
        "For our chatbot, remembering previous interactions is important. So we will allow the DeciLM-7B-instruct LLM Lto remember previous interactions with the user.\n",
        "\n",
        "\n",
        "We will use the `ConversationBufferMemory` from LangChain."
      ]
    },
    {
      "cell_type": "markdown",
      "metadata": {
        "id": "pIOmAcDd3ame"
      },
      "source": [
        "First, we create a custom prompt\n",
        "\n",
        "### Create a custom prompt"
      ]
    },
    {
      "cell_type": "code",
      "execution_count": null,
      "metadata": {
        "id": "jhELj0Y13ame"
      },
      "outputs": [],
      "source": [
        "custom_prompt_template = \"\"\"You are an assistant for question-answering tasks. Use the following pieces of retrieved context and answer the question at the end.\n",
        "If you don't know the answer just say you d not know an do not try to make up the answer nor try to use outside souces to answer. Keep the answer as concise as possible.\n",
        "Context= {context}\n",
        "History = {history}\n",
        "Question= {question}\n",
        "Helpful Answer:\n",
        "\"\"\"\n",
        "\n",
        "prompt = PromptTemplate(template=custom_prompt_template,\n",
        "                        input_variables=[\"question\", \"context\", \"history\"])"
      ]
    },
    {
      "cell_type": "markdown",
      "metadata": {
        "id": "Aw99J8um3ame"
      },
      "source": [
        "## Final question answeing chain with memory"
      ]
    },
    {
      "cell_type": "code",
      "execution_count": null,
      "metadata": {
        "id": "VIuCKFvk3ame"
      },
      "outputs": [],
      "source": [
        "qa_chain_with_memory = RetrievalQA.from_chain_type(llm=llm, chain_type='stuff',\n",
        "                                                   retriever = vectorstore_db.as_retriever(),\n",
        "                                                   return_source_documents = True,\n",
        "                                                   chain_type_kwargs = {\"verbose\": True,\n",
        "                                                                        \"prompt\": prompt,\n",
        "                                                                        \"memory\": ConversationBufferMemory(\n",
        "                                                                            input_key=\"question\",\n",
        "                                                                            memory_key=\"history\",\n",
        "                                                                            return_messages=True)})\n",
        "\n"
      ]
    },
    {
      "cell_type": "markdown",
      "metadata": {
        "id": "5ZeVbSvY3ame"
      },
      "source": [
        "Try some queries now and see the answers"
      ]
    },
    {
      "cell_type": "code",
      "execution_count": null,
      "metadata": {
        "id": "viU8_iWc3ame",
        "colab": {
          "base_uri": "https://localhost:8080/"
        },
        "outputId": "3ea84a3c-86b5-4ffa-9eac-e2458bdabadc"
      },
      "outputs": [
        {
          "output_type": "stream",
          "name": "stderr",
          "text": [
            "Setting `pad_token_id` to `eos_token_id`:2 for open-end generation.\n"
          ]
        },
        {
          "output_type": "stream",
          "name": "stdout",
          "text": [
            "\n",
            "\n",
            "\u001b[1m> Entering new StuffDocumentsChain chain...\u001b[0m\n",
            "\n",
            "\n",
            "\u001b[1m> Entering new LLMChain chain...\u001b[0m\n",
            "Prompt after formatting:\n",
            "\u001b[32;1m\u001b[1;3mYou are an assistant for question-answering tasks. Use the following pieces of retrieved context and answer the question at the end.\n",
            "If you don't know the answer just say you d not know an do not try to make up the answer nor try to use outside souces to answer. Keep the answer as concise as possible.\n",
            "Context= top of our method to further enhance the unlearning performance.\n",
            "3 P RELIMINARIES\n",
            "Class Unlearning: Let the training dataset be denoted by Dtrain ={(xi, yi)}Ntrain\n",
            "i=1 consisting of\n",
            "Ntrain training samples where xirepresents the network input and yiis the corresponding label. The\n",
            "test dataset be Dtest={(xi, yi)}Ntest\n",
            "i=1 containing Ntestsamples. Consider a function y=f(xi, θ)\n",
            "with the parameters θthat approximates the mapping of the inputs xito their respective labels yi. In\n",
            "the case of a well-trained deep learning model with parameters θ, there would be numerous samples\n",
            "(xi, yi)∈ D testfor which the relationship yi=f(xi, θ)holds. For a class unlearning task aimed\n",
            "at removing the target class t, the training dataset can be split into two partitions, namely the re-\n",
            "tain dataset Dtrain r={(xi, yi)}N\n",
            "i=1;yi̸=tand the forget dataset Dtrain f={(xi, yi)}N\n",
            "i=1;yi=t.\n",
            "Similarly the test dataset can be split into these partitions as Dtestr={(xi, yi)}N\n",
            "i=1;yi̸=tand\n",
            "Dtestf={(xi, yi)}N\n",
            "\n",
            "Naftali Tishby and Noga Zaslavsky. Deep learning and the information bottleneck principle. In\n",
            "2015 ieee information theory workshop (itw) , pp. 1–5. IEEE, 2015.\n",
            "Paul V oigt and Axel V on dem Bussche. The eu general data protection regulation (gdpr). A Practical\n",
            "Guide, 1st Ed., Cham: Springer International Publishing , 10(3152676):10–5555, 2017.\n",
            "Alexander Warnecke, Lukas Pirch, Christian Wressnegger, and Konrad Rieck. Machine unlearning\n",
            "of features and labels. arXiv preprint arXiv:2108.11577 , 2021.\n",
            "A A PPENDIX\n",
            "A.1 D EMONSTRATION WITH TOYEXAMPLE\n",
            "In Figure 1 we demonstrate our unlearning algorithm on a 4 way classification problem, where\n",
            "the original model is trained to detect samples from 4 different 2-dimensional Gaussian’s centered\n",
            "around (1,1), (-1,1), (-1, -1) and (1, -1) respectively with a standard of (0.5,0.5). The training dataset\n",
            "has 10000 samples per class and the test dataset has 1000 samples per class. The test data is shown\n",
            "\n",
            "Travers, Baiwu Zhang, David Lie, and Nicolas Papernot. Machine unlearning. In 2021 IEEE\n",
            "Symposium on Security and Privacy (SP) , pp. 141–159. IEEE, 2021.\n",
            "Jonathan Brophy and Daniel Lowd. Machine unlearning for random forests. In International Con-\n",
            "ference on Machine Learning , pp. 1092–1104. PMLR, 2021.\n",
            "Cheng Chen, Ji Zhang, Jingkuan Song, and Lianli Gao. Class gradient projection for continual\n",
            "learning. In Proceedings of the 30th ACM International Conference on Multimedia , pp. 5575–\n",
            "5583, 2022.\n",
            "10\n",
            "\n",
            "net/forum?id=3AOj0RCNC2 .\n",
            "Sebastian Schelter. Amnesia-a selection of machine learning models that can forget user data very\n",
            "fast. suicide , 8364(44035):46992, 2020.\n",
            "Ravid Shwartz-Ziv and Naftali Tishby. Opening the black box of deep neural networks via informa-\n",
            "tion. arXiv preprint arXiv:1703.00810 , 2017.\n",
            "Karen Simonyan and Andrew Zisserman. Very deep convolutional networks for large-scale image\n",
            "recognition. arXiv preprint arXiv:1409.1556 , 2014.\n",
            "Ilya Sutskever, James Martens, George Dahl, and Geoffrey Hinton. On the importance of initial-\n",
            "ization and momentum in deep learning. In International conference on machine learning , pp.\n",
            "1139–1147. PMLR, 2013.\n",
            "Ayush K Tarun, Vikram S Chundawat, Murari Mandal, and Mohan Kankanhalli. Fast yet effective\n",
            "machine unlearning. IEEE Transactions on Neural Networks and Learning Systems , 2023.\n",
            "Naftali Tishby and Noga Zaslavsky. Deep learning and the information bottleneck principle. In\n",
            "History = []\n",
            "Question= Based on the Deep unlearning pdf, what is deep unlearning?\n",
            "Helpful Answer:\n",
            "\u001b[0m\n",
            "\n",
            "\u001b[1m> Finished chain.\u001b[0m\n",
            "\n",
            "\u001b[1m> Finished chain.\u001b[0m\n"
          ]
        },
        {
          "output_type": "execute_result",
          "data": {
            "text/plain": [
              "{'query': 'Based on the Deep unlearning pdf, what is deep unlearning?',\n",
              " 'result': 'Deep unlearning is a technique that aims to remove a specific target class from a trained deep\\nlearning model. This is achieved by splitting the training dataset into two parts: a retain dataset\\ncontaining samples from the target class, and a forget dataset containing samples from all other\\nclasses. The model is then trained on the retain dataset, while the forget dataset is used for\\nunlearning the target class.',\n",
              " 'source_documents': [Document(page_content='top of our method to further enhance the unlearning performance.\\n3 P RELIMINARIES\\nClass Unlearning: Let the training dataset be denoted by Dtrain ={(xi, yi)}Ntrain\\ni=1 consisting of\\nNtrain training samples where xirepresents the network input and yiis the corresponding label. The\\ntest dataset be Dtest={(xi, yi)}Ntest\\ni=1 containing Ntestsamples. Consider a function y=f(xi, θ)\\nwith the parameters θthat approximates the mapping of the inputs xito their respective labels yi. In\\nthe case of a well-trained deep learning model with parameters θ, there would be numerous samples\\n(xi, yi)∈ D testfor which the relationship yi=f(xi, θ)holds. For a class unlearning task aimed\\nat removing the target class t, the training dataset can be split into two partitions, namely the re-\\ntain dataset Dtrain r={(xi, yi)}N\\ni=1;yi̸=tand the forget dataset Dtrain f={(xi, yi)}N\\ni=1;yi=t.\\nSimilarly the test dataset can be split into these partitions as Dtestr={(xi, yi)}N\\ni=1;yi̸=tand\\nDtestf={(xi, yi)}N', metadata={'source': '/content/Deep_unlearning.pdf', 'page': 3}),\n",
              "  Document(page_content='Naftali Tishby and Noga Zaslavsky. Deep learning and the information bottleneck principle. In\\n2015 ieee information theory workshop (itw) , pp. 1–5. IEEE, 2015.\\nPaul V oigt and Axel V on dem Bussche. The eu general data protection regulation (gdpr). A Practical\\nGuide, 1st Ed., Cham: Springer International Publishing , 10(3152676):10–5555, 2017.\\nAlexander Warnecke, Lukas Pirch, Christian Wressnegger, and Konrad Rieck. Machine unlearning\\nof features and labels. arXiv preprint arXiv:2108.11577 , 2021.\\nA A PPENDIX\\nA.1 D EMONSTRATION WITH TOYEXAMPLE\\nIn Figure 1 we demonstrate our unlearning algorithm on a 4 way classification problem, where\\nthe original model is trained to detect samples from 4 different 2-dimensional Gaussian’s centered\\naround (1,1), (-1,1), (-1, -1) and (1, -1) respectively with a standard of (0.5,0.5). The training dataset\\nhas 10000 samples per class and the test dataset has 1000 samples per class. The test data is shown', metadata={'source': '/content/Deep_unlearning.pdf', 'page': 11}),\n",
              "  Document(page_content='Travers, Baiwu Zhang, David Lie, and Nicolas Papernot. Machine unlearning. In 2021 IEEE\\nSymposium on Security and Privacy (SP) , pp. 141–159. IEEE, 2021.\\nJonathan Brophy and Daniel Lowd. Machine unlearning for random forests. In International Con-\\nference on Machine Learning , pp. 1092–1104. PMLR, 2021.\\nCheng Chen, Ji Zhang, Jingkuan Song, and Lianli Gao. Class gradient projection for continual\\nlearning. In Proceedings of the 30th ACM International Conference on Multimedia , pp. 5575–\\n5583, 2022.\\n10', metadata={'source': '/content/Deep_unlearning.pdf', 'page': 9}),\n",
              "  Document(page_content='net/forum?id=3AOj0RCNC2 .\\nSebastian Schelter. Amnesia-a selection of machine learning models that can forget user data very\\nfast. suicide , 8364(44035):46992, 2020.\\nRavid Shwartz-Ziv and Naftali Tishby. Opening the black box of deep neural networks via informa-\\ntion. arXiv preprint arXiv:1703.00810 , 2017.\\nKaren Simonyan and Andrew Zisserman. Very deep convolutional networks for large-scale image\\nrecognition. arXiv preprint arXiv:1409.1556 , 2014.\\nIlya Sutskever, James Martens, George Dahl, and Geoffrey Hinton. On the importance of initial-\\nization and momentum in deep learning. In International conference on machine learning , pp.\\n1139–1147. PMLR, 2013.\\nAyush K Tarun, Vikram S Chundawat, Murari Mandal, and Mohan Kankanhalli. Fast yet effective\\nmachine unlearning. IEEE Transactions on Neural Networks and Learning Systems , 2023.\\nNaftali Tishby and Noga Zaslavsky. Deep learning and the information bottleneck principle. In', metadata={'source': '/content/Deep_unlearning.pdf', 'page': 11})]}"
            ]
          },
          "metadata": {},
          "execution_count": 24
        }
      ],
      "source": [
        "query = \"Based on the Deep unlearning pdf, what is deep unlearning?\"\n",
        "qa_chain_with_memory({\"query\": query})"
      ]
    },
    {
      "cell_type": "markdown",
      "metadata": {
        "id": "YMmqVzPh3ame"
      },
      "source": [
        "Ask a follow-up question to see if the model has history of previous queries"
      ]
    },
    {
      "cell_type": "code",
      "execution_count": null,
      "metadata": {
        "id": "VIwB1fZu3ame",
        "colab": {
          "base_uri": "https://localhost:8080/"
        },
        "outputId": "d2bc8f4d-3507-4fc5-e745-703a7eda1046"
      },
      "outputs": [
        {
          "output_type": "stream",
          "name": "stderr",
          "text": [
            "Setting `pad_token_id` to `eos_token_id`:2 for open-end generation.\n"
          ]
        },
        {
          "output_type": "stream",
          "name": "stdout",
          "text": [
            "\n",
            "\n",
            "\u001b[1m> Entering new StuffDocumentsChain chain...\u001b[0m\n",
            "\n",
            "\n",
            "\u001b[1m> Entering new LLMChain chain...\u001b[0m\n",
            "Prompt after formatting:\n",
            "\u001b[32;1m\u001b[1;3mYou are an assistant for question-answering tasks. Use the following pieces of retrieved context and answer the question at the end.\n",
            "If you don't know the answer just say you d not know an do not try to make up the answer nor try to use outside souces to answer. Keep the answer as concise as possible.\n",
            "Context= pursuing the wrong goal (Krueger et al., 2020; Ortega et al.,\n",
            "2021; Chan et al., 2023).\n",
            "9.3. LLM developers have limited inﬂuence over what\n",
            "is developed\n",
            "Because many important LLM capabilities are emergent\n",
            "and difﬁcult to predict, LLM developers have relatively lit-\n",
            "tle inﬂuence on precisely what capabilities future LLMs\n",
            "will have, and efforts to make predictions about future LLM\n",
            "capabilities based on the economic incentives, values, or\n",
            "personalities of their developers are likely to fail. GPT-4,\n",
            "for example, appears to have many skills, like those involv-\n",
            "ing programming, that its creators were likely hoping for.\n",
            "However, it also appears to have initially shown several un-\n",
            "wanted skills, like teaching laypeople to prepare biological\n",
            "weapons, that its creators had to spend signiﬁcant effort to\n",
            "try to remove (OpenAI, 2023b).\n",
            "Beyond this, LLM developers inevitably also have limited\n",
            "awareness of what capabilities an LLM has when they’re\n",
            "\n",
            "awareness of what capabilities an LLM has when they’re\n",
            "deciding whether to deploy it: There is no known evaluation\n",
            "or analysis procedure that can rule out surprises like chain-of-thought reasoning in GPT-3, where users discover a way\n",
            "to elicit some important new behavior that the developers\n",
            "had not been aware of.\n",
            "9.4. LLMs are likely to produce a rapidly growing\n",
            "array of risks\n",
            "More broadly, the current technical and commercial land-\n",
            "scape provides strong incentives to build and deploy in-\n",
            "creasingly capable LLMs quickly. Nonetheless, our track\n",
            "record of recognizing what capabilities a new LLM can\n",
            "demonstrate before deploying it is spotty. Our techniques\n",
            "for controlling systems are weak and are likely to break\n",
            "down further when applied to highly capable models. Given\n",
            "all this, it is reasonable to expect a substantial increase and\n",
            "a substantial qualitative change in the range of misuse risks\n",
            "and model misbehaviors that emerge from the development\n",
            "and deployment of LLMs.\n",
            "\n",
            "developers, or to the statistics of their training data, than has\n",
            "been the case with recent LLMs (Chan et al., 2023). Relat-\n",
            "edly, many of the most cited research papers dealing with\n",
            "LLMs, including many papers that introduce new methods\n",
            "or theories, are not published in peer-reviewed venues. The\n",
            "recent trend toward limiting access to LLMs and treating\n",
            "the details of LLM training as proprietary information is\n",
            "also an obstacle to scientiﬁc study.\n",
            "This means that surprising novel claims about LLMs are\n",
            "often the product of messy, fallible science that goes beyond\n",
            "established disciplinary practice. However, what appears\n",
            "to be established conventional wisdom also often rests on\n",
            "shaky foundations when it is applied to LLMs. All of this is\n",
            "reason to be especially uncertain about the issues discussed\n",
            "in this paper and to make important decisions about LLMs\n",
            "in ways that are resilient to mistaken assumptions.\n",
            "Conclusion\n",
            "In closing, rather than recap the claims above, I would like\n",
            "\n",
            "to leave out important points.\n",
            "This paper presents eight potentially surprising claims that\n",
            "I expect will be salient in at least some of the conversa-\n",
            "tions that are springing up around LLMs. They reﬂect, to\n",
            "the best of my understanding, views that are reasonably\n",
            "widely shared among the researchers—largely based in pri-\n",
            "vate labs—who have been developing these models. All the\n",
            "evidence I present here, as well as most of the arguments,\n",
            "are collected from prior work, and I encourage anyone who\n",
            "ﬁnds these claims useful to consult (and directly cite) the\n",
            "sources named here.\n",
            "I do not mean for these claims to be normative in any signif-\n",
            "icant way. Rather, this work is motivated by the recognition\n",
            "that deciding what we should do in light of this disruptive\n",
            "new technology is a question that is best led—in an informed\n",
            "way—by scholars, advocates, and lawmakers from outside\n",
            "the core technical R&D community.\n",
            "1. LLMs predictably get more capable with\n",
            "increasing investment, even without\n",
            "History = [HumanMessage(content='Based on the Deep unlearning pdf, what is deep unlearning?'), AIMessage(content='Deep unlearning is a technique that aims to remove a specific target class from a trained deep\\nlearning model. This is achieved by splitting the training dataset into two parts: a retain dataset\\ncontaining samples from the target class, and a forget dataset containing samples from all other\\nclasses. The model is then trained on the retain dataset, while the forget dataset is used for\\nunlearning the target class.')]\n",
            "Question= What are the key challenges involved?\n",
            "Helpful Answer:\n",
            "\u001b[0m\n",
            "\n",
            "\u001b[1m> Finished chain.\u001b[0m\n",
            "\n",
            "\u001b[1m> Finished chain.\u001b[0m\n"
          ]
        },
        {
          "output_type": "execute_result",
          "data": {
            "text/plain": [
              "{'query': 'What are the key challenges involved?',\n",
              " 'result': 'Key Challenges Involved in Deep Unlearning:\\n1. Identifying the Target Class: Identifying the target class is crucial in deep unlearning, as it determines which samples need to be retained and which need to be forgotten. This can be a challenging task, as the target class may not be clearly identifiable or well-defined.\\n2. Data Preparation: Preparing the data for deep unlearning can be time-consuming and resource-intensive, as it involves splitting the dataset into multiple parts.\\n3. Model Training: Once the data is prepared, the model needs to be trained separately on the retain and forget datasets. This process can be challenging, as the model must learn to distinguish between the target class and other classes in the forget dataset.\\n4. Evaluation: Evaluating the effectiveness of deep unlearning is essential to determine if the target class has been successfully removed from the model. This can',\n",
              " 'source_documents': [Document(page_content='pursuing the wrong goal (Krueger et al., 2020; Ortega et al.,\\n2021; Chan et al., 2023).\\n9.3. LLM developers have limited inﬂuence over what\\nis developed\\nBecause many important LLM capabilities are emergent\\nand difﬁcult to predict, LLM developers have relatively lit-\\ntle inﬂuence on precisely what capabilities future LLMs\\nwill have, and efforts to make predictions about future LLM\\ncapabilities based on the economic incentives, values, or\\npersonalities of their developers are likely to fail. GPT-4,\\nfor example, appears to have many skills, like those involv-\\ning programming, that its creators were likely hoping for.\\nHowever, it also appears to have initially shown several un-\\nwanted skills, like teaching laypeople to prepare biological\\nweapons, that its creators had to spend signiﬁcant effort to\\ntry to remove (OpenAI, 2023b).\\nBeyond this, LLM developers inevitably also have limited\\nawareness of what capabilities an LLM has when they’re', metadata={'source': '/content/Eight_Things_to_Know_about_Large_Language_Models.pdf', 'page': 7}),\n",
              "  Document(page_content='awareness of what capabilities an LLM has when they’re\\ndeciding whether to deploy it: There is no known evaluation\\nor analysis procedure that can rule out surprises like chain-of-thought reasoning in GPT-3, where users discover a way\\nto elicit some important new behavior that the developers\\nhad not been aware of.\\n9.4. LLMs are likely to produce a rapidly growing\\narray of risks\\nMore broadly, the current technical and commercial land-\\nscape provides strong incentives to build and deploy in-\\ncreasingly capable LLMs quickly. Nonetheless, our track\\nrecord of recognizing what capabilities a new LLM can\\ndemonstrate before deploying it is spotty. Our techniques\\nfor controlling systems are weak and are likely to break\\ndown further when applied to highly capable models. Given\\nall this, it is reasonable to expect a substantial increase and\\na substantial qualitative change in the range of misuse risks\\nand model misbehaviors that emerge from the development\\nand deployment of LLMs.', metadata={'source': '/content/Eight_Things_to_Know_about_Large_Language_Models.pdf', 'page': 7}),\n",
              "  Document(page_content='developers, or to the statistics of their training data, than has\\nbeen the case with recent LLMs (Chan et al., 2023). Relat-\\nedly, many of the most cited research papers dealing with\\nLLMs, including many papers that introduce new methods\\nor theories, are not published in peer-reviewed venues. The\\nrecent trend toward limiting access to LLMs and treating\\nthe details of LLM training as proprietary information is\\nalso an obstacle to scientiﬁc study.\\nThis means that surprising novel claims about LLMs are\\noften the product of messy, fallible science that goes beyond\\nestablished disciplinary practice. However, what appears\\nto be established conventional wisdom also often rests on\\nshaky foundations when it is applied to LLMs. All of this is\\nreason to be especially uncertain about the issues discussed\\nin this paper and to make important decisions about LLMs\\nin ways that are resilient to mistaken assumptions.\\nConclusion\\nIn closing, rather than recap the claims above, I would like', metadata={'source': '/content/Eight_Things_to_Know_about_Large_Language_Models.pdf', 'page': 8}),\n",
              "  Document(page_content='to leave out important points.\\nThis paper presents eight potentially surprising claims that\\nI expect will be salient in at least some of the conversa-\\ntions that are springing up around LLMs. They reﬂect, to\\nthe best of my understanding, views that are reasonably\\nwidely shared among the researchers—largely based in pri-\\nvate labs—who have been developing these models. All the\\nevidence I present here, as well as most of the arguments,\\nare collected from prior work, and I encourage anyone who\\nﬁnds these claims useful to consult (and directly cite) the\\nsources named here.\\nI do not mean for these claims to be normative in any signif-\\nicant way. Rather, this work is motivated by the recognition\\nthat deciding what we should do in light of this disruptive\\nnew technology is a question that is best led—in an informed\\nway—by scholars, advocates, and lawmakers from outside\\nthe core technical R&D community.\\n1. LLMs predictably get more capable with\\nincreasing investment, even without', metadata={'source': '/content/Eight_Things_to_Know_about_Large_Language_Models.pdf', 'page': 0})]}"
            ]
          },
          "metadata": {},
          "execution_count": 25
        }
      ],
      "source": [
        "qa_chain_with_memory({\"query\": \"What are the key challenges involved?\"})"
      ]
    },
    {
      "cell_type": "markdown",
      "metadata": {
        "id": "XdZlMH-W3amf"
      },
      "source": [
        "### To check and verify the memory/chat history"
      ]
    },
    {
      "cell_type": "code",
      "execution_count": null,
      "metadata": {
        "id": "_qNR134I3amf",
        "colab": {
          "base_uri": "https://localhost:8080/"
        },
        "outputId": "2a2320a3-1eca-4a3e-f7a9-52599daccfea"
      },
      "outputs": [
        {
          "output_type": "stream",
          "name": "stdout",
          "text": [
            "chat_memory=ChatMessageHistory(messages=[HumanMessage(content='Based on the Deep unlearning pdf, what is deep unlearning?'), AIMessage(content='Deep unlearning is a technique that aims to remove a specific target class from a trained deep\\nlearning model. This is achieved by splitting the training dataset into two parts: a retain dataset\\ncontaining samples from the target class, and a forget dataset containing samples from all other\\nclasses. The model is then trained on the retain dataset, while the forget dataset is used for\\nunlearning the target class.'), HumanMessage(content='What are the key challenges involved?'), AIMessage(content='Key Challenges Involved in Deep Unlearning:\\n1. Identifying the Target Class: Identifying the target class is crucial in deep unlearning, as it determines which samples need to be retained and which need to be forgotten. This can be a challenging task, as the target class may not be clearly identifiable or well-defined.\\n2. Data Preparation: Preparing the data for deep unlearning can be time-consuming and resource-intensive, as it involves splitting the dataset into multiple parts.\\n3. Model Training: Once the data is prepared, the model needs to be trained separately on the retain and forget datasets. This process can be challenging, as the model must learn to distinguish between the target class and other classes in the forget dataset.\\n4. Evaluation: Evaluating the effectiveness of deep unlearning is essential to determine if the target class has been successfully removed from the model. This can')]) input_key='question' return_messages=True\n"
          ]
        }
      ],
      "source": [
        "print(qa_chain_with_memory.combine_documents_chain.memory)"
      ]
    },
    {
      "cell_type": "markdown",
      "metadata": {
        "id": "_-wyvgWA3amf"
      },
      "source": [
        "# Creating the chatbot application with Gradio"
      ]
    },
    {
      "cell_type": "markdown",
      "metadata": {
        "id": "GKVx1X0Q3amg"
      },
      "source": [
        "## Building chatbot GUI with gradio"
      ]
    },
    {
      "cell_type": "code",
      "execution_count": null,
      "metadata": {
        "id": "BxnrDnZu3amg"
      },
      "outputs": [],
      "source": [
        "import gradio as gr\n"
      ]
    },
    {
      "cell_type": "code",
      "execution_count": null,
      "metadata": {
        "id": "eOuTSGH73amg",
        "colab": {
          "base_uri": "https://localhost:8080/",
          "height": 653
        },
        "outputId": "b227da0d-bc69-4f30-f1b9-9f5adf338785"
      },
      "outputs": [
        {
          "output_type": "stream",
          "name": "stdout",
          "text": [
            "Setting queue=True in a Colab notebook requires sharing enabled. Setting `share=True` (you can turn this off by setting `share=False` in `launch()` explicitly).\n",
            "\n",
            "Colab notebook detected. To show errors in colab notebook, set debug=True in launch()\n",
            "Running on public URL: https://d8a057ece0474a2176.gradio.live\n",
            "\n",
            "This share link expires in 72 hours. For free permanent hosting and GPU upgrades, run `gradio deploy` from Terminal to deploy to Spaces (https://huggingface.co/spaces)\n"
          ]
        },
        {
          "output_type": "display_data",
          "data": {
            "text/plain": [
              "<IPython.core.display.HTML object>"
            ],
            "text/html": [
              "<div><iframe src=\"https://d8a057ece0474a2176.gradio.live\" width=\"100%\" height=\"500\" allow=\"autoplay; camera; microphone; clipboard-read; clipboard-write;\" frameborder=\"0\" allowfullscreen></iframe></div>"
            ]
          },
          "metadata": {}
        }
      ],
      "source": [
        "\n",
        "def load_llm():\n",
        "    # Loads the  DeciLM-7B-instruct llm when called\n",
        "    model_id = \"Deci/DeciLM-7B-instruct\"\n",
        "    tokenizer = AutoTokenizer.from_pretrained(model_id)\n",
        "    model = AutoModelForCausalLM.from_pretrained(model_id,\n",
        "                                                 trust_remote_code=True,\n",
        "                                                 device_map = \"auto\",\n",
        "                                                 quantization_config=quant_config)\n",
        "    pipe = pipeline(\"text-generation\",\n",
        "                    model=model,\n",
        "                    tokenizer=tokenizer,\n",
        "                    temperature=0,\n",
        "                    num_beams=5,\n",
        "                    no_repeat_ngram_size=4,\n",
        "                    early_stopping=True,\n",
        "                    max_new_tokens=100,\n",
        "                )\n",
        "\n",
        "    llm = HuggingFacePipeline(pipeline=pipe)\n",
        "    return llm\n",
        "\n",
        "def add_text(history, text):\n",
        "  # Adding user query to the chatbot and chain\n",
        "  # use history with curent user question\n",
        "  if not text:\n",
        "      raise gr.Error('Enter text')\n",
        "  history = history + [(text, '')]\n",
        "  return history\n",
        "\n",
        "def upload_file(files):\n",
        "  # Loads files when the file upload button is clicked\n",
        "  # Displays them on the File window\n",
        "  # print(type(file))\n",
        "  return files\n",
        "\n",
        "def process_file(files):\n",
        "\n",
        "    \"\"\"Function reads each loaded file, and extracts text from each of their pages\n",
        "    The extracted text is store in the 'text variable which is the passed to the splitter\n",
        "    to make smaller chunks necessary for easier information retrieval and adhere to max-tokens(4096) of DeciLM-7B-instruct\"\"\"\n",
        "\n",
        "    pdf_text = \"\"\n",
        "    for file in files:\n",
        "      pdf = PyPDF2.PdfReader(file.name)\n",
        "      for page in pdf.pages:\n",
        "          pdf_text += page.extract_text()\n",
        "\n",
        "\n",
        "    # split into smaller chunks\n",
        "    text_splitter = RecursiveCharacterTextSplitter(chunk_size=CHUNK_SIZE, chunk_overlap=200)\n",
        "    splits = text_splitter.create_documents([pdf_text])\n",
        "\n",
        "    # create a FAISS vector store db\n",
        "    # embedd the chunks and store in the db\n",
        "    vectorstore_db = FAISS.from_documents(splits, embeddings)\n",
        "\n",
        "    #create a custom prompt\n",
        "    custom_prompt_template = \"\"\"You have been given the following documents to answer the user's question.\n",
        "    If you do not have information from the files given to answer the questions just say I don't have information from the given files to answer. Do not try to make up an answer.\n",
        "    Context: {context}\n",
        "    History: {history}\n",
        "    Question: {question}\n",
        "\n",
        "    Helpful answer:\n",
        "    \"\"\"\n",
        "    prompt = PromptTemplate(template=custom_prompt_template, input_variables=[\"question\", \"context\", \"history\"])\n",
        "\n",
        "    # set QA chain with memory\n",
        "    qa_chain_with_memory = RetrievalQA.from_chain_type(llm=load_llm(),\n",
        "                                                       chain_type='stuff',\n",
        "                                                       return_source_documents=True,\n",
        "                                                       retriever=vectorstore_db.as_retriever(),\n",
        "                                                       chain_type_kwargs={\"verbose\": True,\n",
        "                                                                          \"prompt\": prompt,\n",
        "                                                                          \"memory\": ConversationBufferMemory(\n",
        "                                                                              input_key=\"question\",\n",
        "                                                                              memory_key=\"history\",\n",
        "                                                                              return_messages=True) })\n",
        "    # get answers\n",
        "    return qa_chain_with_memory\n",
        "\n",
        "def generate_bot_response(history,query, btn):\n",
        "  \"\"\"Fiunction takes the query, history and inputs from the qa chain when the submit button is clicked\n",
        "  to generate a response to the query\"\"\"\n",
        "\n",
        "  if not btn:\n",
        "      raise gr.Error(message='Upload a PDF')\n",
        "\n",
        "  qa_chain_with_memory = process_file(btn) # run the qa chain with files from upload\n",
        "  bot_response = qa_chain_with_memory({\"query\": query})\n",
        "  # simulate streaming\n",
        "  for char in bot_response['result']:\n",
        "          history[-1][-1] += char\n",
        "          time.sleep(0.05)\n",
        "          yield history,''\n",
        "\n",
        "# The GRADIO Interface\n",
        "with gr.Blocks() as demo:\n",
        "    with gr.Row():\n",
        "            with gr.Row():\n",
        "              # Chatbot interface\n",
        "              chatbot = gr.Chatbot(label=\"DeciLM-7B-instruct bot\",\n",
        "                                   value=[],\n",
        "                                   elem_id='chatbot')\n",
        "            with gr.Row():\n",
        "              # Uploaded PDFs window\n",
        "              file_output = gr.File(label=\"Your PDFs\")\n",
        "\n",
        "              with gr.Column():\n",
        "                # PDF upload button\n",
        "                btn = gr.UploadButton(\"📁 Upload a PDF(s)\",\n",
        "                                      file_types=[\".pdf\"],\n",
        "                                      file_count=\"multiple\")\n",
        "\n",
        "    with gr.Column():\n",
        "        with gr.Column():\n",
        "          # Ask question input field\n",
        "          txt = gr.Text(show_label=False, placeholder=\"Enter question\")\n",
        "\n",
        "        with gr.Column():\n",
        "          # button to submit question to the bot\n",
        "          submit_btn = gr.Button('Ask')\n",
        "\n",
        "    # Event handler for uploading a PDF\n",
        "    btn.upload(fn=upload_file, inputs=[btn], outputs=[file_output])\n",
        "\n",
        "    # Event handler for submitting text question and generating response\n",
        "    submit_btn.click(\n",
        "        fn= add_text,\n",
        "        inputs=[chatbot, txt],\n",
        "        outputs=[chatbot],\n",
        "        queue=False\n",
        "        ).success(\n",
        "          fn=generate_bot_response,\n",
        "          inputs=[chatbot, txt, btn],\n",
        "          outputs=[chatbot, txt]\n",
        "        ).success(\n",
        "          fn=upload_file,\n",
        "          inputs=[btn],\n",
        "          outputs=[file_output]\n",
        "        )\n",
        "\n",
        "if __name__ == \"__main__\":\n",
        "    demo.launch() # launch app"
      ]
    },
    {
      "cell_type": "code",
      "execution_count": null,
      "metadata": {
        "id": "LVm4odDr3amg"
      },
      "outputs": [],
      "source": []
    },
    {
      "cell_type": "code",
      "execution_count": null,
      "metadata": {
        "id": "FBbBbM0N3amg"
      },
      "outputs": [],
      "source": []
    },
    {
      "cell_type": "code",
      "execution_count": null,
      "metadata": {
        "id": "xcSpo2QB3amg"
      },
      "outputs": [],
      "source": []
    },
    {
      "cell_type": "code",
      "execution_count": null,
      "metadata": {
        "id": "rqAjb-7c3amg"
      },
      "outputs": [],
      "source": []
    },
    {
      "cell_type": "code",
      "execution_count": null,
      "metadata": {
        "id": "aP2r0fBe3amg"
      },
      "outputs": [],
      "source": []
    }
  ],
  "metadata": {
    "kernelspec": {
      "display_name": "Python 3",
      "name": "python3"
    },
    "language_info": {
      "codemirror_mode": {
        "name": "ipython",
        "version": 3
      },
      "file_extension": ".py",
      "mimetype": "text/x-python",
      "name": "python",
      "nbconvert_exporter": "python",
      "pygments_lexer": "ipython3",
      "version": "3.10.12"
    },
    "colab": {
      "provenance": [],
      "include_colab_link": true
    },
    "widgets": {
      "application/vnd.jupyter.widget-state+json": {
        "5793366fb7cf429a8cb0f05c886d0408": {
          "model_module": "@jupyter-widgets/controls",
          "model_name": "HBoxModel",
          "model_module_version": "1.5.0",
          "state": {
            "_dom_classes": [],
            "_model_module": "@jupyter-widgets/controls",
            "_model_module_version": "1.5.0",
            "_model_name": "HBoxModel",
            "_view_count": null,
            "_view_module": "@jupyter-widgets/controls",
            "_view_module_version": "1.5.0",
            "_view_name": "HBoxView",
            "box_style": "",
            "children": [
              "IPY_MODEL_2a4153f1137c4325a937457981ca11df",
              "IPY_MODEL_a9c0dbe73125422e9d953d5887947d68",
              "IPY_MODEL_b2fbaf39852744448bca24c58e7cfa4f"
            ],
            "layout": "IPY_MODEL_ba47554bfaa14c8eb63b45118b96aa64"
          }
        },
        "2a4153f1137c4325a937457981ca11df": {
          "model_module": "@jupyter-widgets/controls",
          "model_name": "HTMLModel",
          "model_module_version": "1.5.0",
          "state": {
            "_dom_classes": [],
            "_model_module": "@jupyter-widgets/controls",
            "_model_module_version": "1.5.0",
            "_model_name": "HTMLModel",
            "_view_count": null,
            "_view_module": "@jupyter-widgets/controls",
            "_view_module_version": "1.5.0",
            "_view_name": "HTMLView",
            "description": "",
            "description_tooltip": null,
            "layout": "IPY_MODEL_f267af3c1a084f07a234a34d9fa65f3b",
            "placeholder": "​",
            "style": "IPY_MODEL_5f802b70ff02473a8b01cbe9d86fe3de",
            "value": "Loading checkpoint shards: 100%"
          }
        },
        "a9c0dbe73125422e9d953d5887947d68": {
          "model_module": "@jupyter-widgets/controls",
          "model_name": "FloatProgressModel",
          "model_module_version": "1.5.0",
          "state": {
            "_dom_classes": [],
            "_model_module": "@jupyter-widgets/controls",
            "_model_module_version": "1.5.0",
            "_model_name": "FloatProgressModel",
            "_view_count": null,
            "_view_module": "@jupyter-widgets/controls",
            "_view_module_version": "1.5.0",
            "_view_name": "ProgressView",
            "bar_style": "success",
            "description": "",
            "description_tooltip": null,
            "layout": "IPY_MODEL_a8ebcd39b34b4bf1836a77a85eb088fe",
            "max": 3,
            "min": 0,
            "orientation": "horizontal",
            "style": "IPY_MODEL_7edb351a99c248ffb2a454e6b7d872b6",
            "value": 3
          }
        },
        "b2fbaf39852744448bca24c58e7cfa4f": {
          "model_module": "@jupyter-widgets/controls",
          "model_name": "HTMLModel",
          "model_module_version": "1.5.0",
          "state": {
            "_dom_classes": [],
            "_model_module": "@jupyter-widgets/controls",
            "_model_module_version": "1.5.0",
            "_model_name": "HTMLModel",
            "_view_count": null,
            "_view_module": "@jupyter-widgets/controls",
            "_view_module_version": "1.5.0",
            "_view_name": "HTMLView",
            "description": "",
            "description_tooltip": null,
            "layout": "IPY_MODEL_df567d1e54f04b3884f35fbcb06a3cb8",
            "placeholder": "​",
            "style": "IPY_MODEL_4af2b3a1e4804f38a5dffc147229dba2",
            "value": " 3/3 [00:58&lt;00:00, 17.35s/it]"
          }
        },
        "ba47554bfaa14c8eb63b45118b96aa64": {
          "model_module": "@jupyter-widgets/base",
          "model_name": "LayoutModel",
          "model_module_version": "1.2.0",
          "state": {
            "_model_module": "@jupyter-widgets/base",
            "_model_module_version": "1.2.0",
            "_model_name": "LayoutModel",
            "_view_count": null,
            "_view_module": "@jupyter-widgets/base",
            "_view_module_version": "1.2.0",
            "_view_name": "LayoutView",
            "align_content": null,
            "align_items": null,
            "align_self": null,
            "border": null,
            "bottom": null,
            "display": null,
            "flex": null,
            "flex_flow": null,
            "grid_area": null,
            "grid_auto_columns": null,
            "grid_auto_flow": null,
            "grid_auto_rows": null,
            "grid_column": null,
            "grid_gap": null,
            "grid_row": null,
            "grid_template_areas": null,
            "grid_template_columns": null,
            "grid_template_rows": null,
            "height": null,
            "justify_content": null,
            "justify_items": null,
            "left": null,
            "margin": null,
            "max_height": null,
            "max_width": null,
            "min_height": null,
            "min_width": null,
            "object_fit": null,
            "object_position": null,
            "order": null,
            "overflow": null,
            "overflow_x": null,
            "overflow_y": null,
            "padding": null,
            "right": null,
            "top": null,
            "visibility": null,
            "width": null
          }
        },
        "f267af3c1a084f07a234a34d9fa65f3b": {
          "model_module": "@jupyter-widgets/base",
          "model_name": "LayoutModel",
          "model_module_version": "1.2.0",
          "state": {
            "_model_module": "@jupyter-widgets/base",
            "_model_module_version": "1.2.0",
            "_model_name": "LayoutModel",
            "_view_count": null,
            "_view_module": "@jupyter-widgets/base",
            "_view_module_version": "1.2.0",
            "_view_name": "LayoutView",
            "align_content": null,
            "align_items": null,
            "align_self": null,
            "border": null,
            "bottom": null,
            "display": null,
            "flex": null,
            "flex_flow": null,
            "grid_area": null,
            "grid_auto_columns": null,
            "grid_auto_flow": null,
            "grid_auto_rows": null,
            "grid_column": null,
            "grid_gap": null,
            "grid_row": null,
            "grid_template_areas": null,
            "grid_template_columns": null,
            "grid_template_rows": null,
            "height": null,
            "justify_content": null,
            "justify_items": null,
            "left": null,
            "margin": null,
            "max_height": null,
            "max_width": null,
            "min_height": null,
            "min_width": null,
            "object_fit": null,
            "object_position": null,
            "order": null,
            "overflow": null,
            "overflow_x": null,
            "overflow_y": null,
            "padding": null,
            "right": null,
            "top": null,
            "visibility": null,
            "width": null
          }
        },
        "5f802b70ff02473a8b01cbe9d86fe3de": {
          "model_module": "@jupyter-widgets/controls",
          "model_name": "DescriptionStyleModel",
          "model_module_version": "1.5.0",
          "state": {
            "_model_module": "@jupyter-widgets/controls",
            "_model_module_version": "1.5.0",
            "_model_name": "DescriptionStyleModel",
            "_view_count": null,
            "_view_module": "@jupyter-widgets/base",
            "_view_module_version": "1.2.0",
            "_view_name": "StyleView",
            "description_width": ""
          }
        },
        "a8ebcd39b34b4bf1836a77a85eb088fe": {
          "model_module": "@jupyter-widgets/base",
          "model_name": "LayoutModel",
          "model_module_version": "1.2.0",
          "state": {
            "_model_module": "@jupyter-widgets/base",
            "_model_module_version": "1.2.0",
            "_model_name": "LayoutModel",
            "_view_count": null,
            "_view_module": "@jupyter-widgets/base",
            "_view_module_version": "1.2.0",
            "_view_name": "LayoutView",
            "align_content": null,
            "align_items": null,
            "align_self": null,
            "border": null,
            "bottom": null,
            "display": null,
            "flex": null,
            "flex_flow": null,
            "grid_area": null,
            "grid_auto_columns": null,
            "grid_auto_flow": null,
            "grid_auto_rows": null,
            "grid_column": null,
            "grid_gap": null,
            "grid_row": null,
            "grid_template_areas": null,
            "grid_template_columns": null,
            "grid_template_rows": null,
            "height": null,
            "justify_content": null,
            "justify_items": null,
            "left": null,
            "margin": null,
            "max_height": null,
            "max_width": null,
            "min_height": null,
            "min_width": null,
            "object_fit": null,
            "object_position": null,
            "order": null,
            "overflow": null,
            "overflow_x": null,
            "overflow_y": null,
            "padding": null,
            "right": null,
            "top": null,
            "visibility": null,
            "width": null
          }
        },
        "7edb351a99c248ffb2a454e6b7d872b6": {
          "model_module": "@jupyter-widgets/controls",
          "model_name": "ProgressStyleModel",
          "model_module_version": "1.5.0",
          "state": {
            "_model_module": "@jupyter-widgets/controls",
            "_model_module_version": "1.5.0",
            "_model_name": "ProgressStyleModel",
            "_view_count": null,
            "_view_module": "@jupyter-widgets/base",
            "_view_module_version": "1.2.0",
            "_view_name": "StyleView",
            "bar_color": null,
            "description_width": ""
          }
        },
        "df567d1e54f04b3884f35fbcb06a3cb8": {
          "model_module": "@jupyter-widgets/base",
          "model_name": "LayoutModel",
          "model_module_version": "1.2.0",
          "state": {
            "_model_module": "@jupyter-widgets/base",
            "_model_module_version": "1.2.0",
            "_model_name": "LayoutModel",
            "_view_count": null,
            "_view_module": "@jupyter-widgets/base",
            "_view_module_version": "1.2.0",
            "_view_name": "LayoutView",
            "align_content": null,
            "align_items": null,
            "align_self": null,
            "border": null,
            "bottom": null,
            "display": null,
            "flex": null,
            "flex_flow": null,
            "grid_area": null,
            "grid_auto_columns": null,
            "grid_auto_flow": null,
            "grid_auto_rows": null,
            "grid_column": null,
            "grid_gap": null,
            "grid_row": null,
            "grid_template_areas": null,
            "grid_template_columns": null,
            "grid_template_rows": null,
            "height": null,
            "justify_content": null,
            "justify_items": null,
            "left": null,
            "margin": null,
            "max_height": null,
            "max_width": null,
            "min_height": null,
            "min_width": null,
            "object_fit": null,
            "object_position": null,
            "order": null,
            "overflow": null,
            "overflow_x": null,
            "overflow_y": null,
            "padding": null,
            "right": null,
            "top": null,
            "visibility": null,
            "width": null
          }
        },
        "4af2b3a1e4804f38a5dffc147229dba2": {
          "model_module": "@jupyter-widgets/controls",
          "model_name": "DescriptionStyleModel",
          "model_module_version": "1.5.0",
          "state": {
            "_model_module": "@jupyter-widgets/controls",
            "_model_module_version": "1.5.0",
            "_model_name": "DescriptionStyleModel",
            "_view_count": null,
            "_view_module": "@jupyter-widgets/base",
            "_view_module_version": "1.2.0",
            "_view_name": "StyleView",
            "description_width": ""
          }
        },
        "8950035e6d3a4cae8c0f0d974bb9e518": {
          "model_module": "@jupyter-widgets/controls",
          "model_name": "HBoxModel",
          "model_module_version": "1.5.0",
          "state": {
            "_dom_classes": [],
            "_model_module": "@jupyter-widgets/controls",
            "_model_module_version": "1.5.0",
            "_model_name": "HBoxModel",
            "_view_count": null,
            "_view_module": "@jupyter-widgets/controls",
            "_view_module_version": "1.5.0",
            "_view_name": "HBoxView",
            "box_style": "",
            "children": [
              "IPY_MODEL_fbc0f22344f246e98101599adb797358",
              "IPY_MODEL_7ff338ec53664edb9cb8919b6071c326",
              "IPY_MODEL_4e1fcc53f5154c5281ea5eb08f0f356e"
            ],
            "layout": "IPY_MODEL_29dbf4703898479e8b91077a895726d5"
          }
        },
        "fbc0f22344f246e98101599adb797358": {
          "model_module": "@jupyter-widgets/controls",
          "model_name": "HTMLModel",
          "model_module_version": "1.5.0",
          "state": {
            "_dom_classes": [],
            "_model_module": "@jupyter-widgets/controls",
            "_model_module_version": "1.5.0",
            "_model_name": "HTMLModel",
            "_view_count": null,
            "_view_module": "@jupyter-widgets/controls",
            "_view_module_version": "1.5.0",
            "_view_name": "HTMLView",
            "description": "",
            "description_tooltip": null,
            "layout": "IPY_MODEL_46b996f8b09c4587a2309e883a80405c",
            "placeholder": "​",
            "style": "IPY_MODEL_90e2074579194aba870ad077b0a8e54a",
            "value": "modules.json: 100%"
          }
        },
        "7ff338ec53664edb9cb8919b6071c326": {
          "model_module": "@jupyter-widgets/controls",
          "model_name": "FloatProgressModel",
          "model_module_version": "1.5.0",
          "state": {
            "_dom_classes": [],
            "_model_module": "@jupyter-widgets/controls",
            "_model_module_version": "1.5.0",
            "_model_name": "FloatProgressModel",
            "_view_count": null,
            "_view_module": "@jupyter-widgets/controls",
            "_view_module_version": "1.5.0",
            "_view_name": "ProgressView",
            "bar_style": "success",
            "description": "",
            "description_tooltip": null,
            "layout": "IPY_MODEL_0c3bb57a56b947068ef1b06f575683bd",
            "max": 349,
            "min": 0,
            "orientation": "horizontal",
            "style": "IPY_MODEL_19fda98251764e2d820e5b42128b32c9",
            "value": 349
          }
        },
        "4e1fcc53f5154c5281ea5eb08f0f356e": {
          "model_module": "@jupyter-widgets/controls",
          "model_name": "HTMLModel",
          "model_module_version": "1.5.0",
          "state": {
            "_dom_classes": [],
            "_model_module": "@jupyter-widgets/controls",
            "_model_module_version": "1.5.0",
            "_model_name": "HTMLModel",
            "_view_count": null,
            "_view_module": "@jupyter-widgets/controls",
            "_view_module_version": "1.5.0",
            "_view_name": "HTMLView",
            "description": "",
            "description_tooltip": null,
            "layout": "IPY_MODEL_835873872584494a83144d64183637bb",
            "placeholder": "​",
            "style": "IPY_MODEL_4ce25a8360b841748bb27f52eb9eef23",
            "value": " 349/349 [00:00&lt;00:00, 10.2kB/s]"
          }
        },
        "29dbf4703898479e8b91077a895726d5": {
          "model_module": "@jupyter-widgets/base",
          "model_name": "LayoutModel",
          "model_module_version": "1.2.0",
          "state": {
            "_model_module": "@jupyter-widgets/base",
            "_model_module_version": "1.2.0",
            "_model_name": "LayoutModel",
            "_view_count": null,
            "_view_module": "@jupyter-widgets/base",
            "_view_module_version": "1.2.0",
            "_view_name": "LayoutView",
            "align_content": null,
            "align_items": null,
            "align_self": null,
            "border": null,
            "bottom": null,
            "display": null,
            "flex": null,
            "flex_flow": null,
            "grid_area": null,
            "grid_auto_columns": null,
            "grid_auto_flow": null,
            "grid_auto_rows": null,
            "grid_column": null,
            "grid_gap": null,
            "grid_row": null,
            "grid_template_areas": null,
            "grid_template_columns": null,
            "grid_template_rows": null,
            "height": null,
            "justify_content": null,
            "justify_items": null,
            "left": null,
            "margin": null,
            "max_height": null,
            "max_width": null,
            "min_height": null,
            "min_width": null,
            "object_fit": null,
            "object_position": null,
            "order": null,
            "overflow": null,
            "overflow_x": null,
            "overflow_y": null,
            "padding": null,
            "right": null,
            "top": null,
            "visibility": null,
            "width": null
          }
        },
        "46b996f8b09c4587a2309e883a80405c": {
          "model_module": "@jupyter-widgets/base",
          "model_name": "LayoutModel",
          "model_module_version": "1.2.0",
          "state": {
            "_model_module": "@jupyter-widgets/base",
            "_model_module_version": "1.2.0",
            "_model_name": "LayoutModel",
            "_view_count": null,
            "_view_module": "@jupyter-widgets/base",
            "_view_module_version": "1.2.0",
            "_view_name": "LayoutView",
            "align_content": null,
            "align_items": null,
            "align_self": null,
            "border": null,
            "bottom": null,
            "display": null,
            "flex": null,
            "flex_flow": null,
            "grid_area": null,
            "grid_auto_columns": null,
            "grid_auto_flow": null,
            "grid_auto_rows": null,
            "grid_column": null,
            "grid_gap": null,
            "grid_row": null,
            "grid_template_areas": null,
            "grid_template_columns": null,
            "grid_template_rows": null,
            "height": null,
            "justify_content": null,
            "justify_items": null,
            "left": null,
            "margin": null,
            "max_height": null,
            "max_width": null,
            "min_height": null,
            "min_width": null,
            "object_fit": null,
            "object_position": null,
            "order": null,
            "overflow": null,
            "overflow_x": null,
            "overflow_y": null,
            "padding": null,
            "right": null,
            "top": null,
            "visibility": null,
            "width": null
          }
        },
        "90e2074579194aba870ad077b0a8e54a": {
          "model_module": "@jupyter-widgets/controls",
          "model_name": "DescriptionStyleModel",
          "model_module_version": "1.5.0",
          "state": {
            "_model_module": "@jupyter-widgets/controls",
            "_model_module_version": "1.5.0",
            "_model_name": "DescriptionStyleModel",
            "_view_count": null,
            "_view_module": "@jupyter-widgets/base",
            "_view_module_version": "1.2.0",
            "_view_name": "StyleView",
            "description_width": ""
          }
        },
        "0c3bb57a56b947068ef1b06f575683bd": {
          "model_module": "@jupyter-widgets/base",
          "model_name": "LayoutModel",
          "model_module_version": "1.2.0",
          "state": {
            "_model_module": "@jupyter-widgets/base",
            "_model_module_version": "1.2.0",
            "_model_name": "LayoutModel",
            "_view_count": null,
            "_view_module": "@jupyter-widgets/base",
            "_view_module_version": "1.2.0",
            "_view_name": "LayoutView",
            "align_content": null,
            "align_items": null,
            "align_self": null,
            "border": null,
            "bottom": null,
            "display": null,
            "flex": null,
            "flex_flow": null,
            "grid_area": null,
            "grid_auto_columns": null,
            "grid_auto_flow": null,
            "grid_auto_rows": null,
            "grid_column": null,
            "grid_gap": null,
            "grid_row": null,
            "grid_template_areas": null,
            "grid_template_columns": null,
            "grid_template_rows": null,
            "height": null,
            "justify_content": null,
            "justify_items": null,
            "left": null,
            "margin": null,
            "max_height": null,
            "max_width": null,
            "min_height": null,
            "min_width": null,
            "object_fit": null,
            "object_position": null,
            "order": null,
            "overflow": null,
            "overflow_x": null,
            "overflow_y": null,
            "padding": null,
            "right": null,
            "top": null,
            "visibility": null,
            "width": null
          }
        },
        "19fda98251764e2d820e5b42128b32c9": {
          "model_module": "@jupyter-widgets/controls",
          "model_name": "ProgressStyleModel",
          "model_module_version": "1.5.0",
          "state": {
            "_model_module": "@jupyter-widgets/controls",
            "_model_module_version": "1.5.0",
            "_model_name": "ProgressStyleModel",
            "_view_count": null,
            "_view_module": "@jupyter-widgets/base",
            "_view_module_version": "1.2.0",
            "_view_name": "StyleView",
            "bar_color": null,
            "description_width": ""
          }
        },
        "835873872584494a83144d64183637bb": {
          "model_module": "@jupyter-widgets/base",
          "model_name": "LayoutModel",
          "model_module_version": "1.2.0",
          "state": {
            "_model_module": "@jupyter-widgets/base",
            "_model_module_version": "1.2.0",
            "_model_name": "LayoutModel",
            "_view_count": null,
            "_view_module": "@jupyter-widgets/base",
            "_view_module_version": "1.2.0",
            "_view_name": "LayoutView",
            "align_content": null,
            "align_items": null,
            "align_self": null,
            "border": null,
            "bottom": null,
            "display": null,
            "flex": null,
            "flex_flow": null,
            "grid_area": null,
            "grid_auto_columns": null,
            "grid_auto_flow": null,
            "grid_auto_rows": null,
            "grid_column": null,
            "grid_gap": null,
            "grid_row": null,
            "grid_template_areas": null,
            "grid_template_columns": null,
            "grid_template_rows": null,
            "height": null,
            "justify_content": null,
            "justify_items": null,
            "left": null,
            "margin": null,
            "max_height": null,
            "max_width": null,
            "min_height": null,
            "min_width": null,
            "object_fit": null,
            "object_position": null,
            "order": null,
            "overflow": null,
            "overflow_x": null,
            "overflow_y": null,
            "padding": null,
            "right": null,
            "top": null,
            "visibility": null,
            "width": null
          }
        },
        "4ce25a8360b841748bb27f52eb9eef23": {
          "model_module": "@jupyter-widgets/controls",
          "model_name": "DescriptionStyleModel",
          "model_module_version": "1.5.0",
          "state": {
            "_model_module": "@jupyter-widgets/controls",
            "_model_module_version": "1.5.0",
            "_model_name": "DescriptionStyleModel",
            "_view_count": null,
            "_view_module": "@jupyter-widgets/base",
            "_view_module_version": "1.2.0",
            "_view_name": "StyleView",
            "description_width": ""
          }
        },
        "e950a3c65f3247c19a040e0c3a2493fc": {
          "model_module": "@jupyter-widgets/controls",
          "model_name": "HBoxModel",
          "model_module_version": "1.5.0",
          "state": {
            "_dom_classes": [],
            "_model_module": "@jupyter-widgets/controls",
            "_model_module_version": "1.5.0",
            "_model_name": "HBoxModel",
            "_view_count": null,
            "_view_module": "@jupyter-widgets/controls",
            "_view_module_version": "1.5.0",
            "_view_name": "HBoxView",
            "box_style": "",
            "children": [
              "IPY_MODEL_dd4507a6c7324299ae1d62605005bb03",
              "IPY_MODEL_33196479da6d41c38c931202d925f3b4",
              "IPY_MODEL_da727405183743cba5352c78c3ca7b8d"
            ],
            "layout": "IPY_MODEL_92fa77cc96ee4cbf91bc1b4af4dfdb8c"
          }
        },
        "dd4507a6c7324299ae1d62605005bb03": {
          "model_module": "@jupyter-widgets/controls",
          "model_name": "HTMLModel",
          "model_module_version": "1.5.0",
          "state": {
            "_dom_classes": [],
            "_model_module": "@jupyter-widgets/controls",
            "_model_module_version": "1.5.0",
            "_model_name": "HTMLModel",
            "_view_count": null,
            "_view_module": "@jupyter-widgets/controls",
            "_view_module_version": "1.5.0",
            "_view_name": "HTMLView",
            "description": "",
            "description_tooltip": null,
            "layout": "IPY_MODEL_ad8b517bd0d94b7d81012dfecf36936a",
            "placeholder": "​",
            "style": "IPY_MODEL_8984fc2068a4444ea98cb3e905deb35d",
            "value": "config_sentence_transformers.json: 100%"
          }
        },
        "33196479da6d41c38c931202d925f3b4": {
          "model_module": "@jupyter-widgets/controls",
          "model_name": "FloatProgressModel",
          "model_module_version": "1.5.0",
          "state": {
            "_dom_classes": [],
            "_model_module": "@jupyter-widgets/controls",
            "_model_module_version": "1.5.0",
            "_model_name": "FloatProgressModel",
            "_view_count": null,
            "_view_module": "@jupyter-widgets/controls",
            "_view_module_version": "1.5.0",
            "_view_name": "ProgressView",
            "bar_style": "success",
            "description": "",
            "description_tooltip": null,
            "layout": "IPY_MODEL_b4b3517510b94fc98d7a39a0e0f4c2a7",
            "max": 116,
            "min": 0,
            "orientation": "horizontal",
            "style": "IPY_MODEL_db4616781ebe431b93fa19d70fbc2763",
            "value": 116
          }
        },
        "da727405183743cba5352c78c3ca7b8d": {
          "model_module": "@jupyter-widgets/controls",
          "model_name": "HTMLModel",
          "model_module_version": "1.5.0",
          "state": {
            "_dom_classes": [],
            "_model_module": "@jupyter-widgets/controls",
            "_model_module_version": "1.5.0",
            "_model_name": "HTMLModel",
            "_view_count": null,
            "_view_module": "@jupyter-widgets/controls",
            "_view_module_version": "1.5.0",
            "_view_name": "HTMLView",
            "description": "",
            "description_tooltip": null,
            "layout": "IPY_MODEL_c7aaba341677442eb6390e0728437d31",
            "placeholder": "​",
            "style": "IPY_MODEL_ca85b2c8a2334725bf6718dbbb6c2180",
            "value": " 116/116 [00:00&lt;00:00, 3.27kB/s]"
          }
        },
        "92fa77cc96ee4cbf91bc1b4af4dfdb8c": {
          "model_module": "@jupyter-widgets/base",
          "model_name": "LayoutModel",
          "model_module_version": "1.2.0",
          "state": {
            "_model_module": "@jupyter-widgets/base",
            "_model_module_version": "1.2.0",
            "_model_name": "LayoutModel",
            "_view_count": null,
            "_view_module": "@jupyter-widgets/base",
            "_view_module_version": "1.2.0",
            "_view_name": "LayoutView",
            "align_content": null,
            "align_items": null,
            "align_self": null,
            "border": null,
            "bottom": null,
            "display": null,
            "flex": null,
            "flex_flow": null,
            "grid_area": null,
            "grid_auto_columns": null,
            "grid_auto_flow": null,
            "grid_auto_rows": null,
            "grid_column": null,
            "grid_gap": null,
            "grid_row": null,
            "grid_template_areas": null,
            "grid_template_columns": null,
            "grid_template_rows": null,
            "height": null,
            "justify_content": null,
            "justify_items": null,
            "left": null,
            "margin": null,
            "max_height": null,
            "max_width": null,
            "min_height": null,
            "min_width": null,
            "object_fit": null,
            "object_position": null,
            "order": null,
            "overflow": null,
            "overflow_x": null,
            "overflow_y": null,
            "padding": null,
            "right": null,
            "top": null,
            "visibility": null,
            "width": null
          }
        },
        "ad8b517bd0d94b7d81012dfecf36936a": {
          "model_module": "@jupyter-widgets/base",
          "model_name": "LayoutModel",
          "model_module_version": "1.2.0",
          "state": {
            "_model_module": "@jupyter-widgets/base",
            "_model_module_version": "1.2.0",
            "_model_name": "LayoutModel",
            "_view_count": null,
            "_view_module": "@jupyter-widgets/base",
            "_view_module_version": "1.2.0",
            "_view_name": "LayoutView",
            "align_content": null,
            "align_items": null,
            "align_self": null,
            "border": null,
            "bottom": null,
            "display": null,
            "flex": null,
            "flex_flow": null,
            "grid_area": null,
            "grid_auto_columns": null,
            "grid_auto_flow": null,
            "grid_auto_rows": null,
            "grid_column": null,
            "grid_gap": null,
            "grid_row": null,
            "grid_template_areas": null,
            "grid_template_columns": null,
            "grid_template_rows": null,
            "height": null,
            "justify_content": null,
            "justify_items": null,
            "left": null,
            "margin": null,
            "max_height": null,
            "max_width": null,
            "min_height": null,
            "min_width": null,
            "object_fit": null,
            "object_position": null,
            "order": null,
            "overflow": null,
            "overflow_x": null,
            "overflow_y": null,
            "padding": null,
            "right": null,
            "top": null,
            "visibility": null,
            "width": null
          }
        },
        "8984fc2068a4444ea98cb3e905deb35d": {
          "model_module": "@jupyter-widgets/controls",
          "model_name": "DescriptionStyleModel",
          "model_module_version": "1.5.0",
          "state": {
            "_model_module": "@jupyter-widgets/controls",
            "_model_module_version": "1.5.0",
            "_model_name": "DescriptionStyleModel",
            "_view_count": null,
            "_view_module": "@jupyter-widgets/base",
            "_view_module_version": "1.2.0",
            "_view_name": "StyleView",
            "description_width": ""
          }
        },
        "b4b3517510b94fc98d7a39a0e0f4c2a7": {
          "model_module": "@jupyter-widgets/base",
          "model_name": "LayoutModel",
          "model_module_version": "1.2.0",
          "state": {
            "_model_module": "@jupyter-widgets/base",
            "_model_module_version": "1.2.0",
            "_model_name": "LayoutModel",
            "_view_count": null,
            "_view_module": "@jupyter-widgets/base",
            "_view_module_version": "1.2.0",
            "_view_name": "LayoutView",
            "align_content": null,
            "align_items": null,
            "align_self": null,
            "border": null,
            "bottom": null,
            "display": null,
            "flex": null,
            "flex_flow": null,
            "grid_area": null,
            "grid_auto_columns": null,
            "grid_auto_flow": null,
            "grid_auto_rows": null,
            "grid_column": null,
            "grid_gap": null,
            "grid_row": null,
            "grid_template_areas": null,
            "grid_template_columns": null,
            "grid_template_rows": null,
            "height": null,
            "justify_content": null,
            "justify_items": null,
            "left": null,
            "margin": null,
            "max_height": null,
            "max_width": null,
            "min_height": null,
            "min_width": null,
            "object_fit": null,
            "object_position": null,
            "order": null,
            "overflow": null,
            "overflow_x": null,
            "overflow_y": null,
            "padding": null,
            "right": null,
            "top": null,
            "visibility": null,
            "width": null
          }
        },
        "db4616781ebe431b93fa19d70fbc2763": {
          "model_module": "@jupyter-widgets/controls",
          "model_name": "ProgressStyleModel",
          "model_module_version": "1.5.0",
          "state": {
            "_model_module": "@jupyter-widgets/controls",
            "_model_module_version": "1.5.0",
            "_model_name": "ProgressStyleModel",
            "_view_count": null,
            "_view_module": "@jupyter-widgets/base",
            "_view_module_version": "1.2.0",
            "_view_name": "StyleView",
            "bar_color": null,
            "description_width": ""
          }
        },
        "c7aaba341677442eb6390e0728437d31": {
          "model_module": "@jupyter-widgets/base",
          "model_name": "LayoutModel",
          "model_module_version": "1.2.0",
          "state": {
            "_model_module": "@jupyter-widgets/base",
            "_model_module_version": "1.2.0",
            "_model_name": "LayoutModel",
            "_view_count": null,
            "_view_module": "@jupyter-widgets/base",
            "_view_module_version": "1.2.0",
            "_view_name": "LayoutView",
            "align_content": null,
            "align_items": null,
            "align_self": null,
            "border": null,
            "bottom": null,
            "display": null,
            "flex": null,
            "flex_flow": null,
            "grid_area": null,
            "grid_auto_columns": null,
            "grid_auto_flow": null,
            "grid_auto_rows": null,
            "grid_column": null,
            "grid_gap": null,
            "grid_row": null,
            "grid_template_areas": null,
            "grid_template_columns": null,
            "grid_template_rows": null,
            "height": null,
            "justify_content": null,
            "justify_items": null,
            "left": null,
            "margin": null,
            "max_height": null,
            "max_width": null,
            "min_height": null,
            "min_width": null,
            "object_fit": null,
            "object_position": null,
            "order": null,
            "overflow": null,
            "overflow_x": null,
            "overflow_y": null,
            "padding": null,
            "right": null,
            "top": null,
            "visibility": null,
            "width": null
          }
        },
        "ca85b2c8a2334725bf6718dbbb6c2180": {
          "model_module": "@jupyter-widgets/controls",
          "model_name": "DescriptionStyleModel",
          "model_module_version": "1.5.0",
          "state": {
            "_model_module": "@jupyter-widgets/controls",
            "_model_module_version": "1.5.0",
            "_model_name": "DescriptionStyleModel",
            "_view_count": null,
            "_view_module": "@jupyter-widgets/base",
            "_view_module_version": "1.2.0",
            "_view_name": "StyleView",
            "description_width": ""
          }
        },
        "11b05be8a4a44c83873a73b6c2442e99": {
          "model_module": "@jupyter-widgets/controls",
          "model_name": "HBoxModel",
          "model_module_version": "1.5.0",
          "state": {
            "_dom_classes": [],
            "_model_module": "@jupyter-widgets/controls",
            "_model_module_version": "1.5.0",
            "_model_name": "HBoxModel",
            "_view_count": null,
            "_view_module": "@jupyter-widgets/controls",
            "_view_module_version": "1.5.0",
            "_view_name": "HBoxView",
            "box_style": "",
            "children": [
              "IPY_MODEL_ee6bff7c35ae4dfbb8764dcc9ecd5c47",
              "IPY_MODEL_2a6c02efee7b48d6a0e2fb2355f190bd",
              "IPY_MODEL_1ddeb9af5c26402bb3700d85750f411e"
            ],
            "layout": "IPY_MODEL_f89ecb3745584d41b2065e90eab619d4"
          }
        },
        "ee6bff7c35ae4dfbb8764dcc9ecd5c47": {
          "model_module": "@jupyter-widgets/controls",
          "model_name": "HTMLModel",
          "model_module_version": "1.5.0",
          "state": {
            "_dom_classes": [],
            "_model_module": "@jupyter-widgets/controls",
            "_model_module_version": "1.5.0",
            "_model_name": "HTMLModel",
            "_view_count": null,
            "_view_module": "@jupyter-widgets/controls",
            "_view_module_version": "1.5.0",
            "_view_name": "HTMLView",
            "description": "",
            "description_tooltip": null,
            "layout": "IPY_MODEL_db34859c018e4914b86dd98285b4ac27",
            "placeholder": "​",
            "style": "IPY_MODEL_9b6685cfb1624bc186427f36c582cee5",
            "value": "README.md: 100%"
          }
        },
        "2a6c02efee7b48d6a0e2fb2355f190bd": {
          "model_module": "@jupyter-widgets/controls",
          "model_name": "FloatProgressModel",
          "model_module_version": "1.5.0",
          "state": {
            "_dom_classes": [],
            "_model_module": "@jupyter-widgets/controls",
            "_model_module_version": "1.5.0",
            "_model_name": "FloatProgressModel",
            "_view_count": null,
            "_view_module": "@jupyter-widgets/controls",
            "_view_module_version": "1.5.0",
            "_view_name": "ProgressView",
            "bar_style": "success",
            "description": "",
            "description_tooltip": null,
            "layout": "IPY_MODEL_7be9e65a95c943758276ecc966058962",
            "max": 10621,
            "min": 0,
            "orientation": "horizontal",
            "style": "IPY_MODEL_8a1d62d0d7b54b4b8d1b25a08d1c6baa",
            "value": 10621
          }
        },
        "1ddeb9af5c26402bb3700d85750f411e": {
          "model_module": "@jupyter-widgets/controls",
          "model_name": "HTMLModel",
          "model_module_version": "1.5.0",
          "state": {
            "_dom_classes": [],
            "_model_module": "@jupyter-widgets/controls",
            "_model_module_version": "1.5.0",
            "_model_name": "HTMLModel",
            "_view_count": null,
            "_view_module": "@jupyter-widgets/controls",
            "_view_module_version": "1.5.0",
            "_view_name": "HTMLView",
            "description": "",
            "description_tooltip": null,
            "layout": "IPY_MODEL_4c6806412cba4951a9ec512d47caaa6d",
            "placeholder": "​",
            "style": "IPY_MODEL_1988e7bb449743288504e9dd7d27db83",
            "value": " 10.6k/10.6k [00:00&lt;00:00, 236kB/s]"
          }
        },
        "f89ecb3745584d41b2065e90eab619d4": {
          "model_module": "@jupyter-widgets/base",
          "model_name": "LayoutModel",
          "model_module_version": "1.2.0",
          "state": {
            "_model_module": "@jupyter-widgets/base",
            "_model_module_version": "1.2.0",
            "_model_name": "LayoutModel",
            "_view_count": null,
            "_view_module": "@jupyter-widgets/base",
            "_view_module_version": "1.2.0",
            "_view_name": "LayoutView",
            "align_content": null,
            "align_items": null,
            "align_self": null,
            "border": null,
            "bottom": null,
            "display": null,
            "flex": null,
            "flex_flow": null,
            "grid_area": null,
            "grid_auto_columns": null,
            "grid_auto_flow": null,
            "grid_auto_rows": null,
            "grid_column": null,
            "grid_gap": null,
            "grid_row": null,
            "grid_template_areas": null,
            "grid_template_columns": null,
            "grid_template_rows": null,
            "height": null,
            "justify_content": null,
            "justify_items": null,
            "left": null,
            "margin": null,
            "max_height": null,
            "max_width": null,
            "min_height": null,
            "min_width": null,
            "object_fit": null,
            "object_position": null,
            "order": null,
            "overflow": null,
            "overflow_x": null,
            "overflow_y": null,
            "padding": null,
            "right": null,
            "top": null,
            "visibility": null,
            "width": null
          }
        },
        "db34859c018e4914b86dd98285b4ac27": {
          "model_module": "@jupyter-widgets/base",
          "model_name": "LayoutModel",
          "model_module_version": "1.2.0",
          "state": {
            "_model_module": "@jupyter-widgets/base",
            "_model_module_version": "1.2.0",
            "_model_name": "LayoutModel",
            "_view_count": null,
            "_view_module": "@jupyter-widgets/base",
            "_view_module_version": "1.2.0",
            "_view_name": "LayoutView",
            "align_content": null,
            "align_items": null,
            "align_self": null,
            "border": null,
            "bottom": null,
            "display": null,
            "flex": null,
            "flex_flow": null,
            "grid_area": null,
            "grid_auto_columns": null,
            "grid_auto_flow": null,
            "grid_auto_rows": null,
            "grid_column": null,
            "grid_gap": null,
            "grid_row": null,
            "grid_template_areas": null,
            "grid_template_columns": null,
            "grid_template_rows": null,
            "height": null,
            "justify_content": null,
            "justify_items": null,
            "left": null,
            "margin": null,
            "max_height": null,
            "max_width": null,
            "min_height": null,
            "min_width": null,
            "object_fit": null,
            "object_position": null,
            "order": null,
            "overflow": null,
            "overflow_x": null,
            "overflow_y": null,
            "padding": null,
            "right": null,
            "top": null,
            "visibility": null,
            "width": null
          }
        },
        "9b6685cfb1624bc186427f36c582cee5": {
          "model_module": "@jupyter-widgets/controls",
          "model_name": "DescriptionStyleModel",
          "model_module_version": "1.5.0",
          "state": {
            "_model_module": "@jupyter-widgets/controls",
            "_model_module_version": "1.5.0",
            "_model_name": "DescriptionStyleModel",
            "_view_count": null,
            "_view_module": "@jupyter-widgets/base",
            "_view_module_version": "1.2.0",
            "_view_name": "StyleView",
            "description_width": ""
          }
        },
        "7be9e65a95c943758276ecc966058962": {
          "model_module": "@jupyter-widgets/base",
          "model_name": "LayoutModel",
          "model_module_version": "1.2.0",
          "state": {
            "_model_module": "@jupyter-widgets/base",
            "_model_module_version": "1.2.0",
            "_model_name": "LayoutModel",
            "_view_count": null,
            "_view_module": "@jupyter-widgets/base",
            "_view_module_version": "1.2.0",
            "_view_name": "LayoutView",
            "align_content": null,
            "align_items": null,
            "align_self": null,
            "border": null,
            "bottom": null,
            "display": null,
            "flex": null,
            "flex_flow": null,
            "grid_area": null,
            "grid_auto_columns": null,
            "grid_auto_flow": null,
            "grid_auto_rows": null,
            "grid_column": null,
            "grid_gap": null,
            "grid_row": null,
            "grid_template_areas": null,
            "grid_template_columns": null,
            "grid_template_rows": null,
            "height": null,
            "justify_content": null,
            "justify_items": null,
            "left": null,
            "margin": null,
            "max_height": null,
            "max_width": null,
            "min_height": null,
            "min_width": null,
            "object_fit": null,
            "object_position": null,
            "order": null,
            "overflow": null,
            "overflow_x": null,
            "overflow_y": null,
            "padding": null,
            "right": null,
            "top": null,
            "visibility": null,
            "width": null
          }
        },
        "8a1d62d0d7b54b4b8d1b25a08d1c6baa": {
          "model_module": "@jupyter-widgets/controls",
          "model_name": "ProgressStyleModel",
          "model_module_version": "1.5.0",
          "state": {
            "_model_module": "@jupyter-widgets/controls",
            "_model_module_version": "1.5.0",
            "_model_name": "ProgressStyleModel",
            "_view_count": null,
            "_view_module": "@jupyter-widgets/base",
            "_view_module_version": "1.2.0",
            "_view_name": "StyleView",
            "bar_color": null,
            "description_width": ""
          }
        },
        "4c6806412cba4951a9ec512d47caaa6d": {
          "model_module": "@jupyter-widgets/base",
          "model_name": "LayoutModel",
          "model_module_version": "1.2.0",
          "state": {
            "_model_module": "@jupyter-widgets/base",
            "_model_module_version": "1.2.0",
            "_model_name": "LayoutModel",
            "_view_count": null,
            "_view_module": "@jupyter-widgets/base",
            "_view_module_version": "1.2.0",
            "_view_name": "LayoutView",
            "align_content": null,
            "align_items": null,
            "align_self": null,
            "border": null,
            "bottom": null,
            "display": null,
            "flex": null,
            "flex_flow": null,
            "grid_area": null,
            "grid_auto_columns": null,
            "grid_auto_flow": null,
            "grid_auto_rows": null,
            "grid_column": null,
            "grid_gap": null,
            "grid_row": null,
            "grid_template_areas": null,
            "grid_template_columns": null,
            "grid_template_rows": null,
            "height": null,
            "justify_content": null,
            "justify_items": null,
            "left": null,
            "margin": null,
            "max_height": null,
            "max_width": null,
            "min_height": null,
            "min_width": null,
            "object_fit": null,
            "object_position": null,
            "order": null,
            "overflow": null,
            "overflow_x": null,
            "overflow_y": null,
            "padding": null,
            "right": null,
            "top": null,
            "visibility": null,
            "width": null
          }
        },
        "1988e7bb449743288504e9dd7d27db83": {
          "model_module": "@jupyter-widgets/controls",
          "model_name": "DescriptionStyleModel",
          "model_module_version": "1.5.0",
          "state": {
            "_model_module": "@jupyter-widgets/controls",
            "_model_module_version": "1.5.0",
            "_model_name": "DescriptionStyleModel",
            "_view_count": null,
            "_view_module": "@jupyter-widgets/base",
            "_view_module_version": "1.2.0",
            "_view_name": "StyleView",
            "description_width": ""
          }
        },
        "d5f220e21b3b457795f08074cbf153fe": {
          "model_module": "@jupyter-widgets/controls",
          "model_name": "HBoxModel",
          "model_module_version": "1.5.0",
          "state": {
            "_dom_classes": [],
            "_model_module": "@jupyter-widgets/controls",
            "_model_module_version": "1.5.0",
            "_model_name": "HBoxModel",
            "_view_count": null,
            "_view_module": "@jupyter-widgets/controls",
            "_view_module_version": "1.5.0",
            "_view_name": "HBoxView",
            "box_style": "",
            "children": [
              "IPY_MODEL_19baa965fa684d7192656ea8e5bd5da2",
              "IPY_MODEL_92083eb2a6484046a8495d9cbf436f16",
              "IPY_MODEL_a910f92575b144d18b93d5a4b4d45847"
            ],
            "layout": "IPY_MODEL_b49233742dc44a628fdee11e31109e2c"
          }
        },
        "19baa965fa684d7192656ea8e5bd5da2": {
          "model_module": "@jupyter-widgets/controls",
          "model_name": "HTMLModel",
          "model_module_version": "1.5.0",
          "state": {
            "_dom_classes": [],
            "_model_module": "@jupyter-widgets/controls",
            "_model_module_version": "1.5.0",
            "_model_name": "HTMLModel",
            "_view_count": null,
            "_view_module": "@jupyter-widgets/controls",
            "_view_module_version": "1.5.0",
            "_view_name": "HTMLView",
            "description": "",
            "description_tooltip": null,
            "layout": "IPY_MODEL_f632ede936214c3d9d8db22b25aacdc1",
            "placeholder": "​",
            "style": "IPY_MODEL_43e46993ed5a4c5bac36c61f0707ce07",
            "value": "sentence_bert_config.json: 100%"
          }
        },
        "92083eb2a6484046a8495d9cbf436f16": {
          "model_module": "@jupyter-widgets/controls",
          "model_name": "FloatProgressModel",
          "model_module_version": "1.5.0",
          "state": {
            "_dom_classes": [],
            "_model_module": "@jupyter-widgets/controls",
            "_model_module_version": "1.5.0",
            "_model_name": "FloatProgressModel",
            "_view_count": null,
            "_view_module": "@jupyter-widgets/controls",
            "_view_module_version": "1.5.0",
            "_view_name": "ProgressView",
            "bar_style": "success",
            "description": "",
            "description_tooltip": null,
            "layout": "IPY_MODEL_94e60972630c46d1a556772e27612f45",
            "max": 53,
            "min": 0,
            "orientation": "horizontal",
            "style": "IPY_MODEL_b0dd737ec7c0405ea3df3f5fa88b5573",
            "value": 53
          }
        },
        "a910f92575b144d18b93d5a4b4d45847": {
          "model_module": "@jupyter-widgets/controls",
          "model_name": "HTMLModel",
          "model_module_version": "1.5.0",
          "state": {
            "_dom_classes": [],
            "_model_module": "@jupyter-widgets/controls",
            "_model_module_version": "1.5.0",
            "_model_name": "HTMLModel",
            "_view_count": null,
            "_view_module": "@jupyter-widgets/controls",
            "_view_module_version": "1.5.0",
            "_view_name": "HTMLView",
            "description": "",
            "description_tooltip": null,
            "layout": "IPY_MODEL_173523657af747b0a88ff95945018030",
            "placeholder": "​",
            "style": "IPY_MODEL_87c80c9678544df38a22b5db3161664c",
            "value": " 53.0/53.0 [00:00&lt;00:00, 2.97kB/s]"
          }
        },
        "b49233742dc44a628fdee11e31109e2c": {
          "model_module": "@jupyter-widgets/base",
          "model_name": "LayoutModel",
          "model_module_version": "1.2.0",
          "state": {
            "_model_module": "@jupyter-widgets/base",
            "_model_module_version": "1.2.0",
            "_model_name": "LayoutModel",
            "_view_count": null,
            "_view_module": "@jupyter-widgets/base",
            "_view_module_version": "1.2.0",
            "_view_name": "LayoutView",
            "align_content": null,
            "align_items": null,
            "align_self": null,
            "border": null,
            "bottom": null,
            "display": null,
            "flex": null,
            "flex_flow": null,
            "grid_area": null,
            "grid_auto_columns": null,
            "grid_auto_flow": null,
            "grid_auto_rows": null,
            "grid_column": null,
            "grid_gap": null,
            "grid_row": null,
            "grid_template_areas": null,
            "grid_template_columns": null,
            "grid_template_rows": null,
            "height": null,
            "justify_content": null,
            "justify_items": null,
            "left": null,
            "margin": null,
            "max_height": null,
            "max_width": null,
            "min_height": null,
            "min_width": null,
            "object_fit": null,
            "object_position": null,
            "order": null,
            "overflow": null,
            "overflow_x": null,
            "overflow_y": null,
            "padding": null,
            "right": null,
            "top": null,
            "visibility": null,
            "width": null
          }
        },
        "f632ede936214c3d9d8db22b25aacdc1": {
          "model_module": "@jupyter-widgets/base",
          "model_name": "LayoutModel",
          "model_module_version": "1.2.0",
          "state": {
            "_model_module": "@jupyter-widgets/base",
            "_model_module_version": "1.2.0",
            "_model_name": "LayoutModel",
            "_view_count": null,
            "_view_module": "@jupyter-widgets/base",
            "_view_module_version": "1.2.0",
            "_view_name": "LayoutView",
            "align_content": null,
            "align_items": null,
            "align_self": null,
            "border": null,
            "bottom": null,
            "display": null,
            "flex": null,
            "flex_flow": null,
            "grid_area": null,
            "grid_auto_columns": null,
            "grid_auto_flow": null,
            "grid_auto_rows": null,
            "grid_column": null,
            "grid_gap": null,
            "grid_row": null,
            "grid_template_areas": null,
            "grid_template_columns": null,
            "grid_template_rows": null,
            "height": null,
            "justify_content": null,
            "justify_items": null,
            "left": null,
            "margin": null,
            "max_height": null,
            "max_width": null,
            "min_height": null,
            "min_width": null,
            "object_fit": null,
            "object_position": null,
            "order": null,
            "overflow": null,
            "overflow_x": null,
            "overflow_y": null,
            "padding": null,
            "right": null,
            "top": null,
            "visibility": null,
            "width": null
          }
        },
        "43e46993ed5a4c5bac36c61f0707ce07": {
          "model_module": "@jupyter-widgets/controls",
          "model_name": "DescriptionStyleModel",
          "model_module_version": "1.5.0",
          "state": {
            "_model_module": "@jupyter-widgets/controls",
            "_model_module_version": "1.5.0",
            "_model_name": "DescriptionStyleModel",
            "_view_count": null,
            "_view_module": "@jupyter-widgets/base",
            "_view_module_version": "1.2.0",
            "_view_name": "StyleView",
            "description_width": ""
          }
        },
        "94e60972630c46d1a556772e27612f45": {
          "model_module": "@jupyter-widgets/base",
          "model_name": "LayoutModel",
          "model_module_version": "1.2.0",
          "state": {
            "_model_module": "@jupyter-widgets/base",
            "_model_module_version": "1.2.0",
            "_model_name": "LayoutModel",
            "_view_count": null,
            "_view_module": "@jupyter-widgets/base",
            "_view_module_version": "1.2.0",
            "_view_name": "LayoutView",
            "align_content": null,
            "align_items": null,
            "align_self": null,
            "border": null,
            "bottom": null,
            "display": null,
            "flex": null,
            "flex_flow": null,
            "grid_area": null,
            "grid_auto_columns": null,
            "grid_auto_flow": null,
            "grid_auto_rows": null,
            "grid_column": null,
            "grid_gap": null,
            "grid_row": null,
            "grid_template_areas": null,
            "grid_template_columns": null,
            "grid_template_rows": null,
            "height": null,
            "justify_content": null,
            "justify_items": null,
            "left": null,
            "margin": null,
            "max_height": null,
            "max_width": null,
            "min_height": null,
            "min_width": null,
            "object_fit": null,
            "object_position": null,
            "order": null,
            "overflow": null,
            "overflow_x": null,
            "overflow_y": null,
            "padding": null,
            "right": null,
            "top": null,
            "visibility": null,
            "width": null
          }
        },
        "b0dd737ec7c0405ea3df3f5fa88b5573": {
          "model_module": "@jupyter-widgets/controls",
          "model_name": "ProgressStyleModel",
          "model_module_version": "1.5.0",
          "state": {
            "_model_module": "@jupyter-widgets/controls",
            "_model_module_version": "1.5.0",
            "_model_name": "ProgressStyleModel",
            "_view_count": null,
            "_view_module": "@jupyter-widgets/base",
            "_view_module_version": "1.2.0",
            "_view_name": "StyleView",
            "bar_color": null,
            "description_width": ""
          }
        },
        "173523657af747b0a88ff95945018030": {
          "model_module": "@jupyter-widgets/base",
          "model_name": "LayoutModel",
          "model_module_version": "1.2.0",
          "state": {
            "_model_module": "@jupyter-widgets/base",
            "_model_module_version": "1.2.0",
            "_model_name": "LayoutModel",
            "_view_count": null,
            "_view_module": "@jupyter-widgets/base",
            "_view_module_version": "1.2.0",
            "_view_name": "LayoutView",
            "align_content": null,
            "align_items": null,
            "align_self": null,
            "border": null,
            "bottom": null,
            "display": null,
            "flex": null,
            "flex_flow": null,
            "grid_area": null,
            "grid_auto_columns": null,
            "grid_auto_flow": null,
            "grid_auto_rows": null,
            "grid_column": null,
            "grid_gap": null,
            "grid_row": null,
            "grid_template_areas": null,
            "grid_template_columns": null,
            "grid_template_rows": null,
            "height": null,
            "justify_content": null,
            "justify_items": null,
            "left": null,
            "margin": null,
            "max_height": null,
            "max_width": null,
            "min_height": null,
            "min_width": null,
            "object_fit": null,
            "object_position": null,
            "order": null,
            "overflow": null,
            "overflow_x": null,
            "overflow_y": null,
            "padding": null,
            "right": null,
            "top": null,
            "visibility": null,
            "width": null
          }
        },
        "87c80c9678544df38a22b5db3161664c": {
          "model_module": "@jupyter-widgets/controls",
          "model_name": "DescriptionStyleModel",
          "model_module_version": "1.5.0",
          "state": {
            "_model_module": "@jupyter-widgets/controls",
            "_model_module_version": "1.5.0",
            "_model_name": "DescriptionStyleModel",
            "_view_count": null,
            "_view_module": "@jupyter-widgets/base",
            "_view_module_version": "1.2.0",
            "_view_name": "StyleView",
            "description_width": ""
          }
        },
        "2404627f2a9c424b804c072376e7d84c": {
          "model_module": "@jupyter-widgets/controls",
          "model_name": "HBoxModel",
          "model_module_version": "1.5.0",
          "state": {
            "_dom_classes": [],
            "_model_module": "@jupyter-widgets/controls",
            "_model_module_version": "1.5.0",
            "_model_name": "HBoxModel",
            "_view_count": null,
            "_view_module": "@jupyter-widgets/controls",
            "_view_module_version": "1.5.0",
            "_view_name": "HBoxView",
            "box_style": "",
            "children": [
              "IPY_MODEL_9b2cd811741442d1a7849faba0075f20",
              "IPY_MODEL_eb7d88f6454645ea9f6398a38a638096",
              "IPY_MODEL_efd91041a55e4a45a635d8bceda56cfa"
            ],
            "layout": "IPY_MODEL_6c48c392742340c583697837cc4cbbfe"
          }
        },
        "9b2cd811741442d1a7849faba0075f20": {
          "model_module": "@jupyter-widgets/controls",
          "model_name": "HTMLModel",
          "model_module_version": "1.5.0",
          "state": {
            "_dom_classes": [],
            "_model_module": "@jupyter-widgets/controls",
            "_model_module_version": "1.5.0",
            "_model_name": "HTMLModel",
            "_view_count": null,
            "_view_module": "@jupyter-widgets/controls",
            "_view_module_version": "1.5.0",
            "_view_name": "HTMLView",
            "description": "",
            "description_tooltip": null,
            "layout": "IPY_MODEL_b23965c1a1f8472abb751cfa2de852d3",
            "placeholder": "​",
            "style": "IPY_MODEL_5894adcf3d4048ce82063b7b3008050d",
            "value": "config.json: 100%"
          }
        },
        "eb7d88f6454645ea9f6398a38a638096": {
          "model_module": "@jupyter-widgets/controls",
          "model_name": "FloatProgressModel",
          "model_module_version": "1.5.0",
          "state": {
            "_dom_classes": [],
            "_model_module": "@jupyter-widgets/controls",
            "_model_module_version": "1.5.0",
            "_model_name": "FloatProgressModel",
            "_view_count": null,
            "_view_module": "@jupyter-widgets/controls",
            "_view_module_version": "1.5.0",
            "_view_name": "ProgressView",
            "bar_style": "success",
            "description": "",
            "description_tooltip": null,
            "layout": "IPY_MODEL_0852d2691b774c3e87f62e109d8312db",
            "max": 571,
            "min": 0,
            "orientation": "horizontal",
            "style": "IPY_MODEL_01185d06ceba4e7381cd7eea2de74a5e",
            "value": 571
          }
        },
        "efd91041a55e4a45a635d8bceda56cfa": {
          "model_module": "@jupyter-widgets/controls",
          "model_name": "HTMLModel",
          "model_module_version": "1.5.0",
          "state": {
            "_dom_classes": [],
            "_model_module": "@jupyter-widgets/controls",
            "_model_module_version": "1.5.0",
            "_model_name": "HTMLModel",
            "_view_count": null,
            "_view_module": "@jupyter-widgets/controls",
            "_view_module_version": "1.5.0",
            "_view_name": "HTMLView",
            "description": "",
            "description_tooltip": null,
            "layout": "IPY_MODEL_ad49d9d26755486ebad64983cb553894",
            "placeholder": "​",
            "style": "IPY_MODEL_2cb2678018cd44ecbf581df2fd1ad026",
            "value": " 571/571 [00:00&lt;00:00, 31.7kB/s]"
          }
        },
        "6c48c392742340c583697837cc4cbbfe": {
          "model_module": "@jupyter-widgets/base",
          "model_name": "LayoutModel",
          "model_module_version": "1.2.0",
          "state": {
            "_model_module": "@jupyter-widgets/base",
            "_model_module_version": "1.2.0",
            "_model_name": "LayoutModel",
            "_view_count": null,
            "_view_module": "@jupyter-widgets/base",
            "_view_module_version": "1.2.0",
            "_view_name": "LayoutView",
            "align_content": null,
            "align_items": null,
            "align_self": null,
            "border": null,
            "bottom": null,
            "display": null,
            "flex": null,
            "flex_flow": null,
            "grid_area": null,
            "grid_auto_columns": null,
            "grid_auto_flow": null,
            "grid_auto_rows": null,
            "grid_column": null,
            "grid_gap": null,
            "grid_row": null,
            "grid_template_areas": null,
            "grid_template_columns": null,
            "grid_template_rows": null,
            "height": null,
            "justify_content": null,
            "justify_items": null,
            "left": null,
            "margin": null,
            "max_height": null,
            "max_width": null,
            "min_height": null,
            "min_width": null,
            "object_fit": null,
            "object_position": null,
            "order": null,
            "overflow": null,
            "overflow_x": null,
            "overflow_y": null,
            "padding": null,
            "right": null,
            "top": null,
            "visibility": null,
            "width": null
          }
        },
        "b23965c1a1f8472abb751cfa2de852d3": {
          "model_module": "@jupyter-widgets/base",
          "model_name": "LayoutModel",
          "model_module_version": "1.2.0",
          "state": {
            "_model_module": "@jupyter-widgets/base",
            "_model_module_version": "1.2.0",
            "_model_name": "LayoutModel",
            "_view_count": null,
            "_view_module": "@jupyter-widgets/base",
            "_view_module_version": "1.2.0",
            "_view_name": "LayoutView",
            "align_content": null,
            "align_items": null,
            "align_self": null,
            "border": null,
            "bottom": null,
            "display": null,
            "flex": null,
            "flex_flow": null,
            "grid_area": null,
            "grid_auto_columns": null,
            "grid_auto_flow": null,
            "grid_auto_rows": null,
            "grid_column": null,
            "grid_gap": null,
            "grid_row": null,
            "grid_template_areas": null,
            "grid_template_columns": null,
            "grid_template_rows": null,
            "height": null,
            "justify_content": null,
            "justify_items": null,
            "left": null,
            "margin": null,
            "max_height": null,
            "max_width": null,
            "min_height": null,
            "min_width": null,
            "object_fit": null,
            "object_position": null,
            "order": null,
            "overflow": null,
            "overflow_x": null,
            "overflow_y": null,
            "padding": null,
            "right": null,
            "top": null,
            "visibility": null,
            "width": null
          }
        },
        "5894adcf3d4048ce82063b7b3008050d": {
          "model_module": "@jupyter-widgets/controls",
          "model_name": "DescriptionStyleModel",
          "model_module_version": "1.5.0",
          "state": {
            "_model_module": "@jupyter-widgets/controls",
            "_model_module_version": "1.5.0",
            "_model_name": "DescriptionStyleModel",
            "_view_count": null,
            "_view_module": "@jupyter-widgets/base",
            "_view_module_version": "1.2.0",
            "_view_name": "StyleView",
            "description_width": ""
          }
        },
        "0852d2691b774c3e87f62e109d8312db": {
          "model_module": "@jupyter-widgets/base",
          "model_name": "LayoutModel",
          "model_module_version": "1.2.0",
          "state": {
            "_model_module": "@jupyter-widgets/base",
            "_model_module_version": "1.2.0",
            "_model_name": "LayoutModel",
            "_view_count": null,
            "_view_module": "@jupyter-widgets/base",
            "_view_module_version": "1.2.0",
            "_view_name": "LayoutView",
            "align_content": null,
            "align_items": null,
            "align_self": null,
            "border": null,
            "bottom": null,
            "display": null,
            "flex": null,
            "flex_flow": null,
            "grid_area": null,
            "grid_auto_columns": null,
            "grid_auto_flow": null,
            "grid_auto_rows": null,
            "grid_column": null,
            "grid_gap": null,
            "grid_row": null,
            "grid_template_areas": null,
            "grid_template_columns": null,
            "grid_template_rows": null,
            "height": null,
            "justify_content": null,
            "justify_items": null,
            "left": null,
            "margin": null,
            "max_height": null,
            "max_width": null,
            "min_height": null,
            "min_width": null,
            "object_fit": null,
            "object_position": null,
            "order": null,
            "overflow": null,
            "overflow_x": null,
            "overflow_y": null,
            "padding": null,
            "right": null,
            "top": null,
            "visibility": null,
            "width": null
          }
        },
        "01185d06ceba4e7381cd7eea2de74a5e": {
          "model_module": "@jupyter-widgets/controls",
          "model_name": "ProgressStyleModel",
          "model_module_version": "1.5.0",
          "state": {
            "_model_module": "@jupyter-widgets/controls",
            "_model_module_version": "1.5.0",
            "_model_name": "ProgressStyleModel",
            "_view_count": null,
            "_view_module": "@jupyter-widgets/base",
            "_view_module_version": "1.2.0",
            "_view_name": "StyleView",
            "bar_color": null,
            "description_width": ""
          }
        },
        "ad49d9d26755486ebad64983cb553894": {
          "model_module": "@jupyter-widgets/base",
          "model_name": "LayoutModel",
          "model_module_version": "1.2.0",
          "state": {
            "_model_module": "@jupyter-widgets/base",
            "_model_module_version": "1.2.0",
            "_model_name": "LayoutModel",
            "_view_count": null,
            "_view_module": "@jupyter-widgets/base",
            "_view_module_version": "1.2.0",
            "_view_name": "LayoutView",
            "align_content": null,
            "align_items": null,
            "align_self": null,
            "border": null,
            "bottom": null,
            "display": null,
            "flex": null,
            "flex_flow": null,
            "grid_area": null,
            "grid_auto_columns": null,
            "grid_auto_flow": null,
            "grid_auto_rows": null,
            "grid_column": null,
            "grid_gap": null,
            "grid_row": null,
            "grid_template_areas": null,
            "grid_template_columns": null,
            "grid_template_rows": null,
            "height": null,
            "justify_content": null,
            "justify_items": null,
            "left": null,
            "margin": null,
            "max_height": null,
            "max_width": null,
            "min_height": null,
            "min_width": null,
            "object_fit": null,
            "object_position": null,
            "order": null,
            "overflow": null,
            "overflow_x": null,
            "overflow_y": null,
            "padding": null,
            "right": null,
            "top": null,
            "visibility": null,
            "width": null
          }
        },
        "2cb2678018cd44ecbf581df2fd1ad026": {
          "model_module": "@jupyter-widgets/controls",
          "model_name": "DescriptionStyleModel",
          "model_module_version": "1.5.0",
          "state": {
            "_model_module": "@jupyter-widgets/controls",
            "_model_module_version": "1.5.0",
            "_model_name": "DescriptionStyleModel",
            "_view_count": null,
            "_view_module": "@jupyter-widgets/base",
            "_view_module_version": "1.2.0",
            "_view_name": "StyleView",
            "description_width": ""
          }
        },
        "de5fd32a82194f2788de36b8fdbaa402": {
          "model_module": "@jupyter-widgets/controls",
          "model_name": "HBoxModel",
          "model_module_version": "1.5.0",
          "state": {
            "_dom_classes": [],
            "_model_module": "@jupyter-widgets/controls",
            "_model_module_version": "1.5.0",
            "_model_name": "HBoxModel",
            "_view_count": null,
            "_view_module": "@jupyter-widgets/controls",
            "_view_module_version": "1.5.0",
            "_view_name": "HBoxView",
            "box_style": "",
            "children": [
              "IPY_MODEL_744f0b421b304a83a44bf011965147c1",
              "IPY_MODEL_4ab111dc33944b98a936e0d1672caa13",
              "IPY_MODEL_de8f5f7a1c8a43da92fbc1a1127cdf16"
            ],
            "layout": "IPY_MODEL_b7b2f68ff4aa49b6b4bce3b24a386432"
          }
        },
        "744f0b421b304a83a44bf011965147c1": {
          "model_module": "@jupyter-widgets/controls",
          "model_name": "HTMLModel",
          "model_module_version": "1.5.0",
          "state": {
            "_dom_classes": [],
            "_model_module": "@jupyter-widgets/controls",
            "_model_module_version": "1.5.0",
            "_model_name": "HTMLModel",
            "_view_count": null,
            "_view_module": "@jupyter-widgets/controls",
            "_view_module_version": "1.5.0",
            "_view_name": "HTMLView",
            "description": "",
            "description_tooltip": null,
            "layout": "IPY_MODEL_5d72fcd52c8c4e7288b0e8a11f45c068",
            "placeholder": "​",
            "style": "IPY_MODEL_7a4fecd9f5af42118c2c3fc1c6fd0353",
            "value": "pytorch_model.bin: 100%"
          }
        },
        "4ab111dc33944b98a936e0d1672caa13": {
          "model_module": "@jupyter-widgets/controls",
          "model_name": "FloatProgressModel",
          "model_module_version": "1.5.0",
          "state": {
            "_dom_classes": [],
            "_model_module": "@jupyter-widgets/controls",
            "_model_module_version": "1.5.0",
            "_model_name": "FloatProgressModel",
            "_view_count": null,
            "_view_module": "@jupyter-widgets/controls",
            "_view_module_version": "1.5.0",
            "_view_name": "ProgressView",
            "bar_style": "success",
            "description": "",
            "description_tooltip": null,
            "layout": "IPY_MODEL_51a4477b983742edaa69dc6ffc081623",
            "max": 438011953,
            "min": 0,
            "orientation": "horizontal",
            "style": "IPY_MODEL_e93e65948db34708bcb2ccc1d79f6809",
            "value": 438011953
          }
        },
        "de8f5f7a1c8a43da92fbc1a1127cdf16": {
          "model_module": "@jupyter-widgets/controls",
          "model_name": "HTMLModel",
          "model_module_version": "1.5.0",
          "state": {
            "_dom_classes": [],
            "_model_module": "@jupyter-widgets/controls",
            "_model_module_version": "1.5.0",
            "_model_name": "HTMLModel",
            "_view_count": null,
            "_view_module": "@jupyter-widgets/controls",
            "_view_module_version": "1.5.0",
            "_view_name": "HTMLView",
            "description": "",
            "description_tooltip": null,
            "layout": "IPY_MODEL_49b91a3b209b4915aa10d47713d2572a",
            "placeholder": "​",
            "style": "IPY_MODEL_9513906065424bf7aa0589a41446ea0c",
            "value": " 438M/438M [00:02&lt;00:00, 157MB/s]"
          }
        },
        "b7b2f68ff4aa49b6b4bce3b24a386432": {
          "model_module": "@jupyter-widgets/base",
          "model_name": "LayoutModel",
          "model_module_version": "1.2.0",
          "state": {
            "_model_module": "@jupyter-widgets/base",
            "_model_module_version": "1.2.0",
            "_model_name": "LayoutModel",
            "_view_count": null,
            "_view_module": "@jupyter-widgets/base",
            "_view_module_version": "1.2.0",
            "_view_name": "LayoutView",
            "align_content": null,
            "align_items": null,
            "align_self": null,
            "border": null,
            "bottom": null,
            "display": null,
            "flex": null,
            "flex_flow": null,
            "grid_area": null,
            "grid_auto_columns": null,
            "grid_auto_flow": null,
            "grid_auto_rows": null,
            "grid_column": null,
            "grid_gap": null,
            "grid_row": null,
            "grid_template_areas": null,
            "grid_template_columns": null,
            "grid_template_rows": null,
            "height": null,
            "justify_content": null,
            "justify_items": null,
            "left": null,
            "margin": null,
            "max_height": null,
            "max_width": null,
            "min_height": null,
            "min_width": null,
            "object_fit": null,
            "object_position": null,
            "order": null,
            "overflow": null,
            "overflow_x": null,
            "overflow_y": null,
            "padding": null,
            "right": null,
            "top": null,
            "visibility": null,
            "width": null
          }
        },
        "5d72fcd52c8c4e7288b0e8a11f45c068": {
          "model_module": "@jupyter-widgets/base",
          "model_name": "LayoutModel",
          "model_module_version": "1.2.0",
          "state": {
            "_model_module": "@jupyter-widgets/base",
            "_model_module_version": "1.2.0",
            "_model_name": "LayoutModel",
            "_view_count": null,
            "_view_module": "@jupyter-widgets/base",
            "_view_module_version": "1.2.0",
            "_view_name": "LayoutView",
            "align_content": null,
            "align_items": null,
            "align_self": null,
            "border": null,
            "bottom": null,
            "display": null,
            "flex": null,
            "flex_flow": null,
            "grid_area": null,
            "grid_auto_columns": null,
            "grid_auto_flow": null,
            "grid_auto_rows": null,
            "grid_column": null,
            "grid_gap": null,
            "grid_row": null,
            "grid_template_areas": null,
            "grid_template_columns": null,
            "grid_template_rows": null,
            "height": null,
            "justify_content": null,
            "justify_items": null,
            "left": null,
            "margin": null,
            "max_height": null,
            "max_width": null,
            "min_height": null,
            "min_width": null,
            "object_fit": null,
            "object_position": null,
            "order": null,
            "overflow": null,
            "overflow_x": null,
            "overflow_y": null,
            "padding": null,
            "right": null,
            "top": null,
            "visibility": null,
            "width": null
          }
        },
        "7a4fecd9f5af42118c2c3fc1c6fd0353": {
          "model_module": "@jupyter-widgets/controls",
          "model_name": "DescriptionStyleModel",
          "model_module_version": "1.5.0",
          "state": {
            "_model_module": "@jupyter-widgets/controls",
            "_model_module_version": "1.5.0",
            "_model_name": "DescriptionStyleModel",
            "_view_count": null,
            "_view_module": "@jupyter-widgets/base",
            "_view_module_version": "1.2.0",
            "_view_name": "StyleView",
            "description_width": ""
          }
        },
        "51a4477b983742edaa69dc6ffc081623": {
          "model_module": "@jupyter-widgets/base",
          "model_name": "LayoutModel",
          "model_module_version": "1.2.0",
          "state": {
            "_model_module": "@jupyter-widgets/base",
            "_model_module_version": "1.2.0",
            "_model_name": "LayoutModel",
            "_view_count": null,
            "_view_module": "@jupyter-widgets/base",
            "_view_module_version": "1.2.0",
            "_view_name": "LayoutView",
            "align_content": null,
            "align_items": null,
            "align_self": null,
            "border": null,
            "bottom": null,
            "display": null,
            "flex": null,
            "flex_flow": null,
            "grid_area": null,
            "grid_auto_columns": null,
            "grid_auto_flow": null,
            "grid_auto_rows": null,
            "grid_column": null,
            "grid_gap": null,
            "grid_row": null,
            "grid_template_areas": null,
            "grid_template_columns": null,
            "grid_template_rows": null,
            "height": null,
            "justify_content": null,
            "justify_items": null,
            "left": null,
            "margin": null,
            "max_height": null,
            "max_width": null,
            "min_height": null,
            "min_width": null,
            "object_fit": null,
            "object_position": null,
            "order": null,
            "overflow": null,
            "overflow_x": null,
            "overflow_y": null,
            "padding": null,
            "right": null,
            "top": null,
            "visibility": null,
            "width": null
          }
        },
        "e93e65948db34708bcb2ccc1d79f6809": {
          "model_module": "@jupyter-widgets/controls",
          "model_name": "ProgressStyleModel",
          "model_module_version": "1.5.0",
          "state": {
            "_model_module": "@jupyter-widgets/controls",
            "_model_module_version": "1.5.0",
            "_model_name": "ProgressStyleModel",
            "_view_count": null,
            "_view_module": "@jupyter-widgets/base",
            "_view_module_version": "1.2.0",
            "_view_name": "StyleView",
            "bar_color": null,
            "description_width": ""
          }
        },
        "49b91a3b209b4915aa10d47713d2572a": {
          "model_module": "@jupyter-widgets/base",
          "model_name": "LayoutModel",
          "model_module_version": "1.2.0",
          "state": {
            "_model_module": "@jupyter-widgets/base",
            "_model_module_version": "1.2.0",
            "_model_name": "LayoutModel",
            "_view_count": null,
            "_view_module": "@jupyter-widgets/base",
            "_view_module_version": "1.2.0",
            "_view_name": "LayoutView",
            "align_content": null,
            "align_items": null,
            "align_self": null,
            "border": null,
            "bottom": null,
            "display": null,
            "flex": null,
            "flex_flow": null,
            "grid_area": null,
            "grid_auto_columns": null,
            "grid_auto_flow": null,
            "grid_auto_rows": null,
            "grid_column": null,
            "grid_gap": null,
            "grid_row": null,
            "grid_template_areas": null,
            "grid_template_columns": null,
            "grid_template_rows": null,
            "height": null,
            "justify_content": null,
            "justify_items": null,
            "left": null,
            "margin": null,
            "max_height": null,
            "max_width": null,
            "min_height": null,
            "min_width": null,
            "object_fit": null,
            "object_position": null,
            "order": null,
            "overflow": null,
            "overflow_x": null,
            "overflow_y": null,
            "padding": null,
            "right": null,
            "top": null,
            "visibility": null,
            "width": null
          }
        },
        "9513906065424bf7aa0589a41446ea0c": {
          "model_module": "@jupyter-widgets/controls",
          "model_name": "DescriptionStyleModel",
          "model_module_version": "1.5.0",
          "state": {
            "_model_module": "@jupyter-widgets/controls",
            "_model_module_version": "1.5.0",
            "_model_name": "DescriptionStyleModel",
            "_view_count": null,
            "_view_module": "@jupyter-widgets/base",
            "_view_module_version": "1.2.0",
            "_view_name": "StyleView",
            "description_width": ""
          }
        },
        "507b70ca384840f9b29abc58d03f7bec": {
          "model_module": "@jupyter-widgets/controls",
          "model_name": "HBoxModel",
          "model_module_version": "1.5.0",
          "state": {
            "_dom_classes": [],
            "_model_module": "@jupyter-widgets/controls",
            "_model_module_version": "1.5.0",
            "_model_name": "HBoxModel",
            "_view_count": null,
            "_view_module": "@jupyter-widgets/controls",
            "_view_module_version": "1.5.0",
            "_view_name": "HBoxView",
            "box_style": "",
            "children": [
              "IPY_MODEL_ce33f173f9924c7ebae82343a711a049",
              "IPY_MODEL_3027872895de4c31844e968eaf12b67e",
              "IPY_MODEL_40d6ba6f977a4b848d52f5c42134fb02"
            ],
            "layout": "IPY_MODEL_5241af566d2e42bba76598a74e20b635"
          }
        },
        "ce33f173f9924c7ebae82343a711a049": {
          "model_module": "@jupyter-widgets/controls",
          "model_name": "HTMLModel",
          "model_module_version": "1.5.0",
          "state": {
            "_dom_classes": [],
            "_model_module": "@jupyter-widgets/controls",
            "_model_module_version": "1.5.0",
            "_model_name": "HTMLModel",
            "_view_count": null,
            "_view_module": "@jupyter-widgets/controls",
            "_view_module_version": "1.5.0",
            "_view_name": "HTMLView",
            "description": "",
            "description_tooltip": null,
            "layout": "IPY_MODEL_3575c19d37f847fd97c69199bbb57e14",
            "placeholder": "​",
            "style": "IPY_MODEL_c125997110794c0cb61a0f02229ca175",
            "value": "tokenizer_config.json: 100%"
          }
        },
        "3027872895de4c31844e968eaf12b67e": {
          "model_module": "@jupyter-widgets/controls",
          "model_name": "FloatProgressModel",
          "model_module_version": "1.5.0",
          "state": {
            "_dom_classes": [],
            "_model_module": "@jupyter-widgets/controls",
            "_model_module_version": "1.5.0",
            "_model_name": "FloatProgressModel",
            "_view_count": null,
            "_view_module": "@jupyter-widgets/controls",
            "_view_module_version": "1.5.0",
            "_view_name": "ProgressView",
            "bar_style": "success",
            "description": "",
            "description_tooltip": null,
            "layout": "IPY_MODEL_0e4a0d6871da49a89429ed93bd879b55",
            "max": 363,
            "min": 0,
            "orientation": "horizontal",
            "style": "IPY_MODEL_5b2867d451bd44e3b6772a08f89a087f",
            "value": 363
          }
        },
        "40d6ba6f977a4b848d52f5c42134fb02": {
          "model_module": "@jupyter-widgets/controls",
          "model_name": "HTMLModel",
          "model_module_version": "1.5.0",
          "state": {
            "_dom_classes": [],
            "_model_module": "@jupyter-widgets/controls",
            "_model_module_version": "1.5.0",
            "_model_name": "HTMLModel",
            "_view_count": null,
            "_view_module": "@jupyter-widgets/controls",
            "_view_module_version": "1.5.0",
            "_view_name": "HTMLView",
            "description": "",
            "description_tooltip": null,
            "layout": "IPY_MODEL_39b041cd51cb470b9d2a0b6548c86062",
            "placeholder": "​",
            "style": "IPY_MODEL_d61b7f686d3b4810a29c11b07510e58e",
            "value": " 363/363 [00:00&lt;00:00, 17.4kB/s]"
          }
        },
        "5241af566d2e42bba76598a74e20b635": {
          "model_module": "@jupyter-widgets/base",
          "model_name": "LayoutModel",
          "model_module_version": "1.2.0",
          "state": {
            "_model_module": "@jupyter-widgets/base",
            "_model_module_version": "1.2.0",
            "_model_name": "LayoutModel",
            "_view_count": null,
            "_view_module": "@jupyter-widgets/base",
            "_view_module_version": "1.2.0",
            "_view_name": "LayoutView",
            "align_content": null,
            "align_items": null,
            "align_self": null,
            "border": null,
            "bottom": null,
            "display": null,
            "flex": null,
            "flex_flow": null,
            "grid_area": null,
            "grid_auto_columns": null,
            "grid_auto_flow": null,
            "grid_auto_rows": null,
            "grid_column": null,
            "grid_gap": null,
            "grid_row": null,
            "grid_template_areas": null,
            "grid_template_columns": null,
            "grid_template_rows": null,
            "height": null,
            "justify_content": null,
            "justify_items": null,
            "left": null,
            "margin": null,
            "max_height": null,
            "max_width": null,
            "min_height": null,
            "min_width": null,
            "object_fit": null,
            "object_position": null,
            "order": null,
            "overflow": null,
            "overflow_x": null,
            "overflow_y": null,
            "padding": null,
            "right": null,
            "top": null,
            "visibility": null,
            "width": null
          }
        },
        "3575c19d37f847fd97c69199bbb57e14": {
          "model_module": "@jupyter-widgets/base",
          "model_name": "LayoutModel",
          "model_module_version": "1.2.0",
          "state": {
            "_model_module": "@jupyter-widgets/base",
            "_model_module_version": "1.2.0",
            "_model_name": "LayoutModel",
            "_view_count": null,
            "_view_module": "@jupyter-widgets/base",
            "_view_module_version": "1.2.0",
            "_view_name": "LayoutView",
            "align_content": null,
            "align_items": null,
            "align_self": null,
            "border": null,
            "bottom": null,
            "display": null,
            "flex": null,
            "flex_flow": null,
            "grid_area": null,
            "grid_auto_columns": null,
            "grid_auto_flow": null,
            "grid_auto_rows": null,
            "grid_column": null,
            "grid_gap": null,
            "grid_row": null,
            "grid_template_areas": null,
            "grid_template_columns": null,
            "grid_template_rows": null,
            "height": null,
            "justify_content": null,
            "justify_items": null,
            "left": null,
            "margin": null,
            "max_height": null,
            "max_width": null,
            "min_height": null,
            "min_width": null,
            "object_fit": null,
            "object_position": null,
            "order": null,
            "overflow": null,
            "overflow_x": null,
            "overflow_y": null,
            "padding": null,
            "right": null,
            "top": null,
            "visibility": null,
            "width": null
          }
        },
        "c125997110794c0cb61a0f02229ca175": {
          "model_module": "@jupyter-widgets/controls",
          "model_name": "DescriptionStyleModel",
          "model_module_version": "1.5.0",
          "state": {
            "_model_module": "@jupyter-widgets/controls",
            "_model_module_version": "1.5.0",
            "_model_name": "DescriptionStyleModel",
            "_view_count": null,
            "_view_module": "@jupyter-widgets/base",
            "_view_module_version": "1.2.0",
            "_view_name": "StyleView",
            "description_width": ""
          }
        },
        "0e4a0d6871da49a89429ed93bd879b55": {
          "model_module": "@jupyter-widgets/base",
          "model_name": "LayoutModel",
          "model_module_version": "1.2.0",
          "state": {
            "_model_module": "@jupyter-widgets/base",
            "_model_module_version": "1.2.0",
            "_model_name": "LayoutModel",
            "_view_count": null,
            "_view_module": "@jupyter-widgets/base",
            "_view_module_version": "1.2.0",
            "_view_name": "LayoutView",
            "align_content": null,
            "align_items": null,
            "align_self": null,
            "border": null,
            "bottom": null,
            "display": null,
            "flex": null,
            "flex_flow": null,
            "grid_area": null,
            "grid_auto_columns": null,
            "grid_auto_flow": null,
            "grid_auto_rows": null,
            "grid_column": null,
            "grid_gap": null,
            "grid_row": null,
            "grid_template_areas": null,
            "grid_template_columns": null,
            "grid_template_rows": null,
            "height": null,
            "justify_content": null,
            "justify_items": null,
            "left": null,
            "margin": null,
            "max_height": null,
            "max_width": null,
            "min_height": null,
            "min_width": null,
            "object_fit": null,
            "object_position": null,
            "order": null,
            "overflow": null,
            "overflow_x": null,
            "overflow_y": null,
            "padding": null,
            "right": null,
            "top": null,
            "visibility": null,
            "width": null
          }
        },
        "5b2867d451bd44e3b6772a08f89a087f": {
          "model_module": "@jupyter-widgets/controls",
          "model_name": "ProgressStyleModel",
          "model_module_version": "1.5.0",
          "state": {
            "_model_module": "@jupyter-widgets/controls",
            "_model_module_version": "1.5.0",
            "_model_name": "ProgressStyleModel",
            "_view_count": null,
            "_view_module": "@jupyter-widgets/base",
            "_view_module_version": "1.2.0",
            "_view_name": "StyleView",
            "bar_color": null,
            "description_width": ""
          }
        },
        "39b041cd51cb470b9d2a0b6548c86062": {
          "model_module": "@jupyter-widgets/base",
          "model_name": "LayoutModel",
          "model_module_version": "1.2.0",
          "state": {
            "_model_module": "@jupyter-widgets/base",
            "_model_module_version": "1.2.0",
            "_model_name": "LayoutModel",
            "_view_count": null,
            "_view_module": "@jupyter-widgets/base",
            "_view_module_version": "1.2.0",
            "_view_name": "LayoutView",
            "align_content": null,
            "align_items": null,
            "align_self": null,
            "border": null,
            "bottom": null,
            "display": null,
            "flex": null,
            "flex_flow": null,
            "grid_area": null,
            "grid_auto_columns": null,
            "grid_auto_flow": null,
            "grid_auto_rows": null,
            "grid_column": null,
            "grid_gap": null,
            "grid_row": null,
            "grid_template_areas": null,
            "grid_template_columns": null,
            "grid_template_rows": null,
            "height": null,
            "justify_content": null,
            "justify_items": null,
            "left": null,
            "margin": null,
            "max_height": null,
            "max_width": null,
            "min_height": null,
            "min_width": null,
            "object_fit": null,
            "object_position": null,
            "order": null,
            "overflow": null,
            "overflow_x": null,
            "overflow_y": null,
            "padding": null,
            "right": null,
            "top": null,
            "visibility": null,
            "width": null
          }
        },
        "d61b7f686d3b4810a29c11b07510e58e": {
          "model_module": "@jupyter-widgets/controls",
          "model_name": "DescriptionStyleModel",
          "model_module_version": "1.5.0",
          "state": {
            "_model_module": "@jupyter-widgets/controls",
            "_model_module_version": "1.5.0",
            "_model_name": "DescriptionStyleModel",
            "_view_count": null,
            "_view_module": "@jupyter-widgets/base",
            "_view_module_version": "1.2.0",
            "_view_name": "StyleView",
            "description_width": ""
          }
        },
        "1fa6dd0d853e4fb2be9b446526ce22fb": {
          "model_module": "@jupyter-widgets/controls",
          "model_name": "HBoxModel",
          "model_module_version": "1.5.0",
          "state": {
            "_dom_classes": [],
            "_model_module": "@jupyter-widgets/controls",
            "_model_module_version": "1.5.0",
            "_model_name": "HBoxModel",
            "_view_count": null,
            "_view_module": "@jupyter-widgets/controls",
            "_view_module_version": "1.5.0",
            "_view_name": "HBoxView",
            "box_style": "",
            "children": [
              "IPY_MODEL_b5c41f5cff144d0883f9057daee7db8d",
              "IPY_MODEL_49cacd506df14d00a084cde62387ddcb",
              "IPY_MODEL_8154e8f797a44785ab96860a034cd8f8"
            ],
            "layout": "IPY_MODEL_b6d470a0d15d4ce4b6bcc5c376839113"
          }
        },
        "b5c41f5cff144d0883f9057daee7db8d": {
          "model_module": "@jupyter-widgets/controls",
          "model_name": "HTMLModel",
          "model_module_version": "1.5.0",
          "state": {
            "_dom_classes": [],
            "_model_module": "@jupyter-widgets/controls",
            "_model_module_version": "1.5.0",
            "_model_name": "HTMLModel",
            "_view_count": null,
            "_view_module": "@jupyter-widgets/controls",
            "_view_module_version": "1.5.0",
            "_view_name": "HTMLView",
            "description": "",
            "description_tooltip": null,
            "layout": "IPY_MODEL_c78acd7729a440b8aa94ea42e74ce3ea",
            "placeholder": "​",
            "style": "IPY_MODEL_fba2db6d5f5b4e5e94a11781e77ec0a4",
            "value": "vocab.txt: 100%"
          }
        },
        "49cacd506df14d00a084cde62387ddcb": {
          "model_module": "@jupyter-widgets/controls",
          "model_name": "FloatProgressModel",
          "model_module_version": "1.5.0",
          "state": {
            "_dom_classes": [],
            "_model_module": "@jupyter-widgets/controls",
            "_model_module_version": "1.5.0",
            "_model_name": "FloatProgressModel",
            "_view_count": null,
            "_view_module": "@jupyter-widgets/controls",
            "_view_module_version": "1.5.0",
            "_view_name": "ProgressView",
            "bar_style": "success",
            "description": "",
            "description_tooltip": null,
            "layout": "IPY_MODEL_828e176dbd1f48e5998c54d1bc0a31a1",
            "max": 231536,
            "min": 0,
            "orientation": "horizontal",
            "style": "IPY_MODEL_4fe2bc8c6504417c834a2c3731d65136",
            "value": 231536
          }
        },
        "8154e8f797a44785ab96860a034cd8f8": {
          "model_module": "@jupyter-widgets/controls",
          "model_name": "HTMLModel",
          "model_module_version": "1.5.0",
          "state": {
            "_dom_classes": [],
            "_model_module": "@jupyter-widgets/controls",
            "_model_module_version": "1.5.0",
            "_model_name": "HTMLModel",
            "_view_count": null,
            "_view_module": "@jupyter-widgets/controls",
            "_view_module_version": "1.5.0",
            "_view_name": "HTMLView",
            "description": "",
            "description_tooltip": null,
            "layout": "IPY_MODEL_93899057927942658ad97054f7cb5eb1",
            "placeholder": "​",
            "style": "IPY_MODEL_86c29705af024d1eb0b7fd9132202d87",
            "value": " 232k/232k [00:00&lt;00:00, 4.33MB/s]"
          }
        },
        "b6d470a0d15d4ce4b6bcc5c376839113": {
          "model_module": "@jupyter-widgets/base",
          "model_name": "LayoutModel",
          "model_module_version": "1.2.0",
          "state": {
            "_model_module": "@jupyter-widgets/base",
            "_model_module_version": "1.2.0",
            "_model_name": "LayoutModel",
            "_view_count": null,
            "_view_module": "@jupyter-widgets/base",
            "_view_module_version": "1.2.0",
            "_view_name": "LayoutView",
            "align_content": null,
            "align_items": null,
            "align_self": null,
            "border": null,
            "bottom": null,
            "display": null,
            "flex": null,
            "flex_flow": null,
            "grid_area": null,
            "grid_auto_columns": null,
            "grid_auto_flow": null,
            "grid_auto_rows": null,
            "grid_column": null,
            "grid_gap": null,
            "grid_row": null,
            "grid_template_areas": null,
            "grid_template_columns": null,
            "grid_template_rows": null,
            "height": null,
            "justify_content": null,
            "justify_items": null,
            "left": null,
            "margin": null,
            "max_height": null,
            "max_width": null,
            "min_height": null,
            "min_width": null,
            "object_fit": null,
            "object_position": null,
            "order": null,
            "overflow": null,
            "overflow_x": null,
            "overflow_y": null,
            "padding": null,
            "right": null,
            "top": null,
            "visibility": null,
            "width": null
          }
        },
        "c78acd7729a440b8aa94ea42e74ce3ea": {
          "model_module": "@jupyter-widgets/base",
          "model_name": "LayoutModel",
          "model_module_version": "1.2.0",
          "state": {
            "_model_module": "@jupyter-widgets/base",
            "_model_module_version": "1.2.0",
            "_model_name": "LayoutModel",
            "_view_count": null,
            "_view_module": "@jupyter-widgets/base",
            "_view_module_version": "1.2.0",
            "_view_name": "LayoutView",
            "align_content": null,
            "align_items": null,
            "align_self": null,
            "border": null,
            "bottom": null,
            "display": null,
            "flex": null,
            "flex_flow": null,
            "grid_area": null,
            "grid_auto_columns": null,
            "grid_auto_flow": null,
            "grid_auto_rows": null,
            "grid_column": null,
            "grid_gap": null,
            "grid_row": null,
            "grid_template_areas": null,
            "grid_template_columns": null,
            "grid_template_rows": null,
            "height": null,
            "justify_content": null,
            "justify_items": null,
            "left": null,
            "margin": null,
            "max_height": null,
            "max_width": null,
            "min_height": null,
            "min_width": null,
            "object_fit": null,
            "object_position": null,
            "order": null,
            "overflow": null,
            "overflow_x": null,
            "overflow_y": null,
            "padding": null,
            "right": null,
            "top": null,
            "visibility": null,
            "width": null
          }
        },
        "fba2db6d5f5b4e5e94a11781e77ec0a4": {
          "model_module": "@jupyter-widgets/controls",
          "model_name": "DescriptionStyleModel",
          "model_module_version": "1.5.0",
          "state": {
            "_model_module": "@jupyter-widgets/controls",
            "_model_module_version": "1.5.0",
            "_model_name": "DescriptionStyleModel",
            "_view_count": null,
            "_view_module": "@jupyter-widgets/base",
            "_view_module_version": "1.2.0",
            "_view_name": "StyleView",
            "description_width": ""
          }
        },
        "828e176dbd1f48e5998c54d1bc0a31a1": {
          "model_module": "@jupyter-widgets/base",
          "model_name": "LayoutModel",
          "model_module_version": "1.2.0",
          "state": {
            "_model_module": "@jupyter-widgets/base",
            "_model_module_version": "1.2.0",
            "_model_name": "LayoutModel",
            "_view_count": null,
            "_view_module": "@jupyter-widgets/base",
            "_view_module_version": "1.2.0",
            "_view_name": "LayoutView",
            "align_content": null,
            "align_items": null,
            "align_self": null,
            "border": null,
            "bottom": null,
            "display": null,
            "flex": null,
            "flex_flow": null,
            "grid_area": null,
            "grid_auto_columns": null,
            "grid_auto_flow": null,
            "grid_auto_rows": null,
            "grid_column": null,
            "grid_gap": null,
            "grid_row": null,
            "grid_template_areas": null,
            "grid_template_columns": null,
            "grid_template_rows": null,
            "height": null,
            "justify_content": null,
            "justify_items": null,
            "left": null,
            "margin": null,
            "max_height": null,
            "max_width": null,
            "min_height": null,
            "min_width": null,
            "object_fit": null,
            "object_position": null,
            "order": null,
            "overflow": null,
            "overflow_x": null,
            "overflow_y": null,
            "padding": null,
            "right": null,
            "top": null,
            "visibility": null,
            "width": null
          }
        },
        "4fe2bc8c6504417c834a2c3731d65136": {
          "model_module": "@jupyter-widgets/controls",
          "model_name": "ProgressStyleModel",
          "model_module_version": "1.5.0",
          "state": {
            "_model_module": "@jupyter-widgets/controls",
            "_model_module_version": "1.5.0",
            "_model_name": "ProgressStyleModel",
            "_view_count": null,
            "_view_module": "@jupyter-widgets/base",
            "_view_module_version": "1.2.0",
            "_view_name": "StyleView",
            "bar_color": null,
            "description_width": ""
          }
        },
        "93899057927942658ad97054f7cb5eb1": {
          "model_module": "@jupyter-widgets/base",
          "model_name": "LayoutModel",
          "model_module_version": "1.2.0",
          "state": {
            "_model_module": "@jupyter-widgets/base",
            "_model_module_version": "1.2.0",
            "_model_name": "LayoutModel",
            "_view_count": null,
            "_view_module": "@jupyter-widgets/base",
            "_view_module_version": "1.2.0",
            "_view_name": "LayoutView",
            "align_content": null,
            "align_items": null,
            "align_self": null,
            "border": null,
            "bottom": null,
            "display": null,
            "flex": null,
            "flex_flow": null,
            "grid_area": null,
            "grid_auto_columns": null,
            "grid_auto_flow": null,
            "grid_auto_rows": null,
            "grid_column": null,
            "grid_gap": null,
            "grid_row": null,
            "grid_template_areas": null,
            "grid_template_columns": null,
            "grid_template_rows": null,
            "height": null,
            "justify_content": null,
            "justify_items": null,
            "left": null,
            "margin": null,
            "max_height": null,
            "max_width": null,
            "min_height": null,
            "min_width": null,
            "object_fit": null,
            "object_position": null,
            "order": null,
            "overflow": null,
            "overflow_x": null,
            "overflow_y": null,
            "padding": null,
            "right": null,
            "top": null,
            "visibility": null,
            "width": null
          }
        },
        "86c29705af024d1eb0b7fd9132202d87": {
          "model_module": "@jupyter-widgets/controls",
          "model_name": "DescriptionStyleModel",
          "model_module_version": "1.5.0",
          "state": {
            "_model_module": "@jupyter-widgets/controls",
            "_model_module_version": "1.5.0",
            "_model_name": "DescriptionStyleModel",
            "_view_count": null,
            "_view_module": "@jupyter-widgets/base",
            "_view_module_version": "1.2.0",
            "_view_name": "StyleView",
            "description_width": ""
          }
        },
        "6b366fe44dfb47dd91b2f44541d0319a": {
          "model_module": "@jupyter-widgets/controls",
          "model_name": "HBoxModel",
          "model_module_version": "1.5.0",
          "state": {
            "_dom_classes": [],
            "_model_module": "@jupyter-widgets/controls",
            "_model_module_version": "1.5.0",
            "_model_name": "HBoxModel",
            "_view_count": null,
            "_view_module": "@jupyter-widgets/controls",
            "_view_module_version": "1.5.0",
            "_view_name": "HBoxView",
            "box_style": "",
            "children": [
              "IPY_MODEL_cfae5ac26de54500a6952e0efa3df16e",
              "IPY_MODEL_da0dee6b7122428a8bd177a9c5dd4771",
              "IPY_MODEL_ce64ae3496cc428dbecf50ac49e6e4c5"
            ],
            "layout": "IPY_MODEL_868dfd0857134327aec48d5898b2955f"
          }
        },
        "cfae5ac26de54500a6952e0efa3df16e": {
          "model_module": "@jupyter-widgets/controls",
          "model_name": "HTMLModel",
          "model_module_version": "1.5.0",
          "state": {
            "_dom_classes": [],
            "_model_module": "@jupyter-widgets/controls",
            "_model_module_version": "1.5.0",
            "_model_name": "HTMLModel",
            "_view_count": null,
            "_view_module": "@jupyter-widgets/controls",
            "_view_module_version": "1.5.0",
            "_view_name": "HTMLView",
            "description": "",
            "description_tooltip": null,
            "layout": "IPY_MODEL_9f282f0ac6f9436995a3e7e73c4c69bb",
            "placeholder": "​",
            "style": "IPY_MODEL_9625926173d04901accdffe6bc872eec",
            "value": "tokenizer.json: 100%"
          }
        },
        "da0dee6b7122428a8bd177a9c5dd4771": {
          "model_module": "@jupyter-widgets/controls",
          "model_name": "FloatProgressModel",
          "model_module_version": "1.5.0",
          "state": {
            "_dom_classes": [],
            "_model_module": "@jupyter-widgets/controls",
            "_model_module_version": "1.5.0",
            "_model_name": "FloatProgressModel",
            "_view_count": null,
            "_view_module": "@jupyter-widgets/controls",
            "_view_module_version": "1.5.0",
            "_view_name": "ProgressView",
            "bar_style": "success",
            "description": "",
            "description_tooltip": null,
            "layout": "IPY_MODEL_09cac8cb064a47a2a3d3313365adb4d8",
            "max": 466021,
            "min": 0,
            "orientation": "horizontal",
            "style": "IPY_MODEL_e1b51415eccf41b4a935186cc5e82468",
            "value": 466021
          }
        },
        "ce64ae3496cc428dbecf50ac49e6e4c5": {
          "model_module": "@jupyter-widgets/controls",
          "model_name": "HTMLModel",
          "model_module_version": "1.5.0",
          "state": {
            "_dom_classes": [],
            "_model_module": "@jupyter-widgets/controls",
            "_model_module_version": "1.5.0",
            "_model_name": "HTMLModel",
            "_view_count": null,
            "_view_module": "@jupyter-widgets/controls",
            "_view_module_version": "1.5.0",
            "_view_name": "HTMLView",
            "description": "",
            "description_tooltip": null,
            "layout": "IPY_MODEL_b381c3b9b2a243869afe49c81be97bb2",
            "placeholder": "​",
            "style": "IPY_MODEL_a8412e3ed3f946679efa5b57ae86a389",
            "value": " 466k/466k [00:00&lt;00:00, 18.8MB/s]"
          }
        },
        "868dfd0857134327aec48d5898b2955f": {
          "model_module": "@jupyter-widgets/base",
          "model_name": "LayoutModel",
          "model_module_version": "1.2.0",
          "state": {
            "_model_module": "@jupyter-widgets/base",
            "_model_module_version": "1.2.0",
            "_model_name": "LayoutModel",
            "_view_count": null,
            "_view_module": "@jupyter-widgets/base",
            "_view_module_version": "1.2.0",
            "_view_name": "LayoutView",
            "align_content": null,
            "align_items": null,
            "align_self": null,
            "border": null,
            "bottom": null,
            "display": null,
            "flex": null,
            "flex_flow": null,
            "grid_area": null,
            "grid_auto_columns": null,
            "grid_auto_flow": null,
            "grid_auto_rows": null,
            "grid_column": null,
            "grid_gap": null,
            "grid_row": null,
            "grid_template_areas": null,
            "grid_template_columns": null,
            "grid_template_rows": null,
            "height": null,
            "justify_content": null,
            "justify_items": null,
            "left": null,
            "margin": null,
            "max_height": null,
            "max_width": null,
            "min_height": null,
            "min_width": null,
            "object_fit": null,
            "object_position": null,
            "order": null,
            "overflow": null,
            "overflow_x": null,
            "overflow_y": null,
            "padding": null,
            "right": null,
            "top": null,
            "visibility": null,
            "width": null
          }
        },
        "9f282f0ac6f9436995a3e7e73c4c69bb": {
          "model_module": "@jupyter-widgets/base",
          "model_name": "LayoutModel",
          "model_module_version": "1.2.0",
          "state": {
            "_model_module": "@jupyter-widgets/base",
            "_model_module_version": "1.2.0",
            "_model_name": "LayoutModel",
            "_view_count": null,
            "_view_module": "@jupyter-widgets/base",
            "_view_module_version": "1.2.0",
            "_view_name": "LayoutView",
            "align_content": null,
            "align_items": null,
            "align_self": null,
            "border": null,
            "bottom": null,
            "display": null,
            "flex": null,
            "flex_flow": null,
            "grid_area": null,
            "grid_auto_columns": null,
            "grid_auto_flow": null,
            "grid_auto_rows": null,
            "grid_column": null,
            "grid_gap": null,
            "grid_row": null,
            "grid_template_areas": null,
            "grid_template_columns": null,
            "grid_template_rows": null,
            "height": null,
            "justify_content": null,
            "justify_items": null,
            "left": null,
            "margin": null,
            "max_height": null,
            "max_width": null,
            "min_height": null,
            "min_width": null,
            "object_fit": null,
            "object_position": null,
            "order": null,
            "overflow": null,
            "overflow_x": null,
            "overflow_y": null,
            "padding": null,
            "right": null,
            "top": null,
            "visibility": null,
            "width": null
          }
        },
        "9625926173d04901accdffe6bc872eec": {
          "model_module": "@jupyter-widgets/controls",
          "model_name": "DescriptionStyleModel",
          "model_module_version": "1.5.0",
          "state": {
            "_model_module": "@jupyter-widgets/controls",
            "_model_module_version": "1.5.0",
            "_model_name": "DescriptionStyleModel",
            "_view_count": null,
            "_view_module": "@jupyter-widgets/base",
            "_view_module_version": "1.2.0",
            "_view_name": "StyleView",
            "description_width": ""
          }
        },
        "09cac8cb064a47a2a3d3313365adb4d8": {
          "model_module": "@jupyter-widgets/base",
          "model_name": "LayoutModel",
          "model_module_version": "1.2.0",
          "state": {
            "_model_module": "@jupyter-widgets/base",
            "_model_module_version": "1.2.0",
            "_model_name": "LayoutModel",
            "_view_count": null,
            "_view_module": "@jupyter-widgets/base",
            "_view_module_version": "1.2.0",
            "_view_name": "LayoutView",
            "align_content": null,
            "align_items": null,
            "align_self": null,
            "border": null,
            "bottom": null,
            "display": null,
            "flex": null,
            "flex_flow": null,
            "grid_area": null,
            "grid_auto_columns": null,
            "grid_auto_flow": null,
            "grid_auto_rows": null,
            "grid_column": null,
            "grid_gap": null,
            "grid_row": null,
            "grid_template_areas": null,
            "grid_template_columns": null,
            "grid_template_rows": null,
            "height": null,
            "justify_content": null,
            "justify_items": null,
            "left": null,
            "margin": null,
            "max_height": null,
            "max_width": null,
            "min_height": null,
            "min_width": null,
            "object_fit": null,
            "object_position": null,
            "order": null,
            "overflow": null,
            "overflow_x": null,
            "overflow_y": null,
            "padding": null,
            "right": null,
            "top": null,
            "visibility": null,
            "width": null
          }
        },
        "e1b51415eccf41b4a935186cc5e82468": {
          "model_module": "@jupyter-widgets/controls",
          "model_name": "ProgressStyleModel",
          "model_module_version": "1.5.0",
          "state": {
            "_model_module": "@jupyter-widgets/controls",
            "_model_module_version": "1.5.0",
            "_model_name": "ProgressStyleModel",
            "_view_count": null,
            "_view_module": "@jupyter-widgets/base",
            "_view_module_version": "1.2.0",
            "_view_name": "StyleView",
            "bar_color": null,
            "description_width": ""
          }
        },
        "b381c3b9b2a243869afe49c81be97bb2": {
          "model_module": "@jupyter-widgets/base",
          "model_name": "LayoutModel",
          "model_module_version": "1.2.0",
          "state": {
            "_model_module": "@jupyter-widgets/base",
            "_model_module_version": "1.2.0",
            "_model_name": "LayoutModel",
            "_view_count": null,
            "_view_module": "@jupyter-widgets/base",
            "_view_module_version": "1.2.0",
            "_view_name": "LayoutView",
            "align_content": null,
            "align_items": null,
            "align_self": null,
            "border": null,
            "bottom": null,
            "display": null,
            "flex": null,
            "flex_flow": null,
            "grid_area": null,
            "grid_auto_columns": null,
            "grid_auto_flow": null,
            "grid_auto_rows": null,
            "grid_column": null,
            "grid_gap": null,
            "grid_row": null,
            "grid_template_areas": null,
            "grid_template_columns": null,
            "grid_template_rows": null,
            "height": null,
            "justify_content": null,
            "justify_items": null,
            "left": null,
            "margin": null,
            "max_height": null,
            "max_width": null,
            "min_height": null,
            "min_width": null,
            "object_fit": null,
            "object_position": null,
            "order": null,
            "overflow": null,
            "overflow_x": null,
            "overflow_y": null,
            "padding": null,
            "right": null,
            "top": null,
            "visibility": null,
            "width": null
          }
        },
        "a8412e3ed3f946679efa5b57ae86a389": {
          "model_module": "@jupyter-widgets/controls",
          "model_name": "DescriptionStyleModel",
          "model_module_version": "1.5.0",
          "state": {
            "_model_module": "@jupyter-widgets/controls",
            "_model_module_version": "1.5.0",
            "_model_name": "DescriptionStyleModel",
            "_view_count": null,
            "_view_module": "@jupyter-widgets/base",
            "_view_module_version": "1.2.0",
            "_view_name": "StyleView",
            "description_width": ""
          }
        },
        "47304b9508b8478e822ced8b807145a3": {
          "model_module": "@jupyter-widgets/controls",
          "model_name": "HBoxModel",
          "model_module_version": "1.5.0",
          "state": {
            "_dom_classes": [],
            "_model_module": "@jupyter-widgets/controls",
            "_model_module_version": "1.5.0",
            "_model_name": "HBoxModel",
            "_view_count": null,
            "_view_module": "@jupyter-widgets/controls",
            "_view_module_version": "1.5.0",
            "_view_name": "HBoxView",
            "box_style": "",
            "children": [
              "IPY_MODEL_a6cd0aebed0047ee9195c61c5b4b8ae3",
              "IPY_MODEL_2db4077e56ff4688bf0b4b437269b49b",
              "IPY_MODEL_c62269d829a242c1b67ca254ca181ebe"
            ],
            "layout": "IPY_MODEL_2602ae83ec2b40a6aea720d1e40b0c27"
          }
        },
        "a6cd0aebed0047ee9195c61c5b4b8ae3": {
          "model_module": "@jupyter-widgets/controls",
          "model_name": "HTMLModel",
          "model_module_version": "1.5.0",
          "state": {
            "_dom_classes": [],
            "_model_module": "@jupyter-widgets/controls",
            "_model_module_version": "1.5.0",
            "_model_name": "HTMLModel",
            "_view_count": null,
            "_view_module": "@jupyter-widgets/controls",
            "_view_module_version": "1.5.0",
            "_view_name": "HTMLView",
            "description": "",
            "description_tooltip": null,
            "layout": "IPY_MODEL_efa923b8c60a4c968296830cd3ad870f",
            "placeholder": "​",
            "style": "IPY_MODEL_52ffc28483bd44e790db314b3a21d341",
            "value": "special_tokens_map.json: 100%"
          }
        },
        "2db4077e56ff4688bf0b4b437269b49b": {
          "model_module": "@jupyter-widgets/controls",
          "model_name": "FloatProgressModel",
          "model_module_version": "1.5.0",
          "state": {
            "_dom_classes": [],
            "_model_module": "@jupyter-widgets/controls",
            "_model_module_version": "1.5.0",
            "_model_name": "FloatProgressModel",
            "_view_count": null,
            "_view_module": "@jupyter-widgets/controls",
            "_view_module_version": "1.5.0",
            "_view_name": "ProgressView",
            "bar_style": "success",
            "description": "",
            "description_tooltip": null,
            "layout": "IPY_MODEL_3f67888a8de54e0d850dae402630e499",
            "max": 239,
            "min": 0,
            "orientation": "horizontal",
            "style": "IPY_MODEL_0c7470b8c1344cac922163fb7b8cc7f4",
            "value": 239
          }
        },
        "c62269d829a242c1b67ca254ca181ebe": {
          "model_module": "@jupyter-widgets/controls",
          "model_name": "HTMLModel",
          "model_module_version": "1.5.0",
          "state": {
            "_dom_classes": [],
            "_model_module": "@jupyter-widgets/controls",
            "_model_module_version": "1.5.0",
            "_model_name": "HTMLModel",
            "_view_count": null,
            "_view_module": "@jupyter-widgets/controls",
            "_view_module_version": "1.5.0",
            "_view_name": "HTMLView",
            "description": "",
            "description_tooltip": null,
            "layout": "IPY_MODEL_994029df4c79447cb9bde5f093178202",
            "placeholder": "​",
            "style": "IPY_MODEL_d799ae07fb5c4fd2b1e29ece20137038",
            "value": " 239/239 [00:00&lt;00:00, 13.8kB/s]"
          }
        },
        "2602ae83ec2b40a6aea720d1e40b0c27": {
          "model_module": "@jupyter-widgets/base",
          "model_name": "LayoutModel",
          "model_module_version": "1.2.0",
          "state": {
            "_model_module": "@jupyter-widgets/base",
            "_model_module_version": "1.2.0",
            "_model_name": "LayoutModel",
            "_view_count": null,
            "_view_module": "@jupyter-widgets/base",
            "_view_module_version": "1.2.0",
            "_view_name": "LayoutView",
            "align_content": null,
            "align_items": null,
            "align_self": null,
            "border": null,
            "bottom": null,
            "display": null,
            "flex": null,
            "flex_flow": null,
            "grid_area": null,
            "grid_auto_columns": null,
            "grid_auto_flow": null,
            "grid_auto_rows": null,
            "grid_column": null,
            "grid_gap": null,
            "grid_row": null,
            "grid_template_areas": null,
            "grid_template_columns": null,
            "grid_template_rows": null,
            "height": null,
            "justify_content": null,
            "justify_items": null,
            "left": null,
            "margin": null,
            "max_height": null,
            "max_width": null,
            "min_height": null,
            "min_width": null,
            "object_fit": null,
            "object_position": null,
            "order": null,
            "overflow": null,
            "overflow_x": null,
            "overflow_y": null,
            "padding": null,
            "right": null,
            "top": null,
            "visibility": null,
            "width": null
          }
        },
        "efa923b8c60a4c968296830cd3ad870f": {
          "model_module": "@jupyter-widgets/base",
          "model_name": "LayoutModel",
          "model_module_version": "1.2.0",
          "state": {
            "_model_module": "@jupyter-widgets/base",
            "_model_module_version": "1.2.0",
            "_model_name": "LayoutModel",
            "_view_count": null,
            "_view_module": "@jupyter-widgets/base",
            "_view_module_version": "1.2.0",
            "_view_name": "LayoutView",
            "align_content": null,
            "align_items": null,
            "align_self": null,
            "border": null,
            "bottom": null,
            "display": null,
            "flex": null,
            "flex_flow": null,
            "grid_area": null,
            "grid_auto_columns": null,
            "grid_auto_flow": null,
            "grid_auto_rows": null,
            "grid_column": null,
            "grid_gap": null,
            "grid_row": null,
            "grid_template_areas": null,
            "grid_template_columns": null,
            "grid_template_rows": null,
            "height": null,
            "justify_content": null,
            "justify_items": null,
            "left": null,
            "margin": null,
            "max_height": null,
            "max_width": null,
            "min_height": null,
            "min_width": null,
            "object_fit": null,
            "object_position": null,
            "order": null,
            "overflow": null,
            "overflow_x": null,
            "overflow_y": null,
            "padding": null,
            "right": null,
            "top": null,
            "visibility": null,
            "width": null
          }
        },
        "52ffc28483bd44e790db314b3a21d341": {
          "model_module": "@jupyter-widgets/controls",
          "model_name": "DescriptionStyleModel",
          "model_module_version": "1.5.0",
          "state": {
            "_model_module": "@jupyter-widgets/controls",
            "_model_module_version": "1.5.0",
            "_model_name": "DescriptionStyleModel",
            "_view_count": null,
            "_view_module": "@jupyter-widgets/base",
            "_view_module_version": "1.2.0",
            "_view_name": "StyleView",
            "description_width": ""
          }
        },
        "3f67888a8de54e0d850dae402630e499": {
          "model_module": "@jupyter-widgets/base",
          "model_name": "LayoutModel",
          "model_module_version": "1.2.0",
          "state": {
            "_model_module": "@jupyter-widgets/base",
            "_model_module_version": "1.2.0",
            "_model_name": "LayoutModel",
            "_view_count": null,
            "_view_module": "@jupyter-widgets/base",
            "_view_module_version": "1.2.0",
            "_view_name": "LayoutView",
            "align_content": null,
            "align_items": null,
            "align_self": null,
            "border": null,
            "bottom": null,
            "display": null,
            "flex": null,
            "flex_flow": null,
            "grid_area": null,
            "grid_auto_columns": null,
            "grid_auto_flow": null,
            "grid_auto_rows": null,
            "grid_column": null,
            "grid_gap": null,
            "grid_row": null,
            "grid_template_areas": null,
            "grid_template_columns": null,
            "grid_template_rows": null,
            "height": null,
            "justify_content": null,
            "justify_items": null,
            "left": null,
            "margin": null,
            "max_height": null,
            "max_width": null,
            "min_height": null,
            "min_width": null,
            "object_fit": null,
            "object_position": null,
            "order": null,
            "overflow": null,
            "overflow_x": null,
            "overflow_y": null,
            "padding": null,
            "right": null,
            "top": null,
            "visibility": null,
            "width": null
          }
        },
        "0c7470b8c1344cac922163fb7b8cc7f4": {
          "model_module": "@jupyter-widgets/controls",
          "model_name": "ProgressStyleModel",
          "model_module_version": "1.5.0",
          "state": {
            "_model_module": "@jupyter-widgets/controls",
            "_model_module_version": "1.5.0",
            "_model_name": "ProgressStyleModel",
            "_view_count": null,
            "_view_module": "@jupyter-widgets/base",
            "_view_module_version": "1.2.0",
            "_view_name": "StyleView",
            "bar_color": null,
            "description_width": ""
          }
        },
        "994029df4c79447cb9bde5f093178202": {
          "model_module": "@jupyter-widgets/base",
          "model_name": "LayoutModel",
          "model_module_version": "1.2.0",
          "state": {
            "_model_module": "@jupyter-widgets/base",
            "_model_module_version": "1.2.0",
            "_model_name": "LayoutModel",
            "_view_count": null,
            "_view_module": "@jupyter-widgets/base",
            "_view_module_version": "1.2.0",
            "_view_name": "LayoutView",
            "align_content": null,
            "align_items": null,
            "align_self": null,
            "border": null,
            "bottom": null,
            "display": null,
            "flex": null,
            "flex_flow": null,
            "grid_area": null,
            "grid_auto_columns": null,
            "grid_auto_flow": null,
            "grid_auto_rows": null,
            "grid_column": null,
            "grid_gap": null,
            "grid_row": null,
            "grid_template_areas": null,
            "grid_template_columns": null,
            "grid_template_rows": null,
            "height": null,
            "justify_content": null,
            "justify_items": null,
            "left": null,
            "margin": null,
            "max_height": null,
            "max_width": null,
            "min_height": null,
            "min_width": null,
            "object_fit": null,
            "object_position": null,
            "order": null,
            "overflow": null,
            "overflow_x": null,
            "overflow_y": null,
            "padding": null,
            "right": null,
            "top": null,
            "visibility": null,
            "width": null
          }
        },
        "d799ae07fb5c4fd2b1e29ece20137038": {
          "model_module": "@jupyter-widgets/controls",
          "model_name": "DescriptionStyleModel",
          "model_module_version": "1.5.0",
          "state": {
            "_model_module": "@jupyter-widgets/controls",
            "_model_module_version": "1.5.0",
            "_model_name": "DescriptionStyleModel",
            "_view_count": null,
            "_view_module": "@jupyter-widgets/base",
            "_view_module_version": "1.2.0",
            "_view_name": "StyleView",
            "description_width": ""
          }
        },
        "1ae6d78338174fb0a3ebd8892d0d9b3d": {
          "model_module": "@jupyter-widgets/controls",
          "model_name": "HBoxModel",
          "model_module_version": "1.5.0",
          "state": {
            "_dom_classes": [],
            "_model_module": "@jupyter-widgets/controls",
            "_model_module_version": "1.5.0",
            "_model_name": "HBoxModel",
            "_view_count": null,
            "_view_module": "@jupyter-widgets/controls",
            "_view_module_version": "1.5.0",
            "_view_name": "HBoxView",
            "box_style": "",
            "children": [
              "IPY_MODEL_ec61abf783be416b84b3ff9c4cb04503",
              "IPY_MODEL_1bb6e3e69570453185d0762a3a371e86",
              "IPY_MODEL_0b9dd21eb89b4ddf88ec8859c061ac30"
            ],
            "layout": "IPY_MODEL_2a549f53ee8344a4b9c656058635382e"
          }
        },
        "ec61abf783be416b84b3ff9c4cb04503": {
          "model_module": "@jupyter-widgets/controls",
          "model_name": "HTMLModel",
          "model_module_version": "1.5.0",
          "state": {
            "_dom_classes": [],
            "_model_module": "@jupyter-widgets/controls",
            "_model_module_version": "1.5.0",
            "_model_name": "HTMLModel",
            "_view_count": null,
            "_view_module": "@jupyter-widgets/controls",
            "_view_module_version": "1.5.0",
            "_view_name": "HTMLView",
            "description": "",
            "description_tooltip": null,
            "layout": "IPY_MODEL_5cc31e0573204306b6d1de5ca4a1d7be",
            "placeholder": "​",
            "style": "IPY_MODEL_9a2d8ac306cf4bc5aa9b426c669db090",
            "value": "1_Pooling/config.json: 100%"
          }
        },
        "1bb6e3e69570453185d0762a3a371e86": {
          "model_module": "@jupyter-widgets/controls",
          "model_name": "FloatProgressModel",
          "model_module_version": "1.5.0",
          "state": {
            "_dom_classes": [],
            "_model_module": "@jupyter-widgets/controls",
            "_model_module_version": "1.5.0",
            "_model_name": "FloatProgressModel",
            "_view_count": null,
            "_view_module": "@jupyter-widgets/controls",
            "_view_module_version": "1.5.0",
            "_view_name": "ProgressView",
            "bar_style": "success",
            "description": "",
            "description_tooltip": null,
            "layout": "IPY_MODEL_99db03c5783c44d4b49f7645821b5dd3",
            "max": 190,
            "min": 0,
            "orientation": "horizontal",
            "style": "IPY_MODEL_5b3ccdc94ee0425d84b51cf70d15175b",
            "value": 190
          }
        },
        "0b9dd21eb89b4ddf88ec8859c061ac30": {
          "model_module": "@jupyter-widgets/controls",
          "model_name": "HTMLModel",
          "model_module_version": "1.5.0",
          "state": {
            "_dom_classes": [],
            "_model_module": "@jupyter-widgets/controls",
            "_model_module_version": "1.5.0",
            "_model_name": "HTMLModel",
            "_view_count": null,
            "_view_module": "@jupyter-widgets/controls",
            "_view_module_version": "1.5.0",
            "_view_name": "HTMLView",
            "description": "",
            "description_tooltip": null,
            "layout": "IPY_MODEL_de7007af44414c1b818a6c82bfde2bdc",
            "placeholder": "​",
            "style": "IPY_MODEL_372759af443f4332ad05273f715d286c",
            "value": " 190/190 [00:00&lt;00:00, 7.71kB/s]"
          }
        },
        "2a549f53ee8344a4b9c656058635382e": {
          "model_module": "@jupyter-widgets/base",
          "model_name": "LayoutModel",
          "model_module_version": "1.2.0",
          "state": {
            "_model_module": "@jupyter-widgets/base",
            "_model_module_version": "1.2.0",
            "_model_name": "LayoutModel",
            "_view_count": null,
            "_view_module": "@jupyter-widgets/base",
            "_view_module_version": "1.2.0",
            "_view_name": "LayoutView",
            "align_content": null,
            "align_items": null,
            "align_self": null,
            "border": null,
            "bottom": null,
            "display": null,
            "flex": null,
            "flex_flow": null,
            "grid_area": null,
            "grid_auto_columns": null,
            "grid_auto_flow": null,
            "grid_auto_rows": null,
            "grid_column": null,
            "grid_gap": null,
            "grid_row": null,
            "grid_template_areas": null,
            "grid_template_columns": null,
            "grid_template_rows": null,
            "height": null,
            "justify_content": null,
            "justify_items": null,
            "left": null,
            "margin": null,
            "max_height": null,
            "max_width": null,
            "min_height": null,
            "min_width": null,
            "object_fit": null,
            "object_position": null,
            "order": null,
            "overflow": null,
            "overflow_x": null,
            "overflow_y": null,
            "padding": null,
            "right": null,
            "top": null,
            "visibility": null,
            "width": null
          }
        },
        "5cc31e0573204306b6d1de5ca4a1d7be": {
          "model_module": "@jupyter-widgets/base",
          "model_name": "LayoutModel",
          "model_module_version": "1.2.0",
          "state": {
            "_model_module": "@jupyter-widgets/base",
            "_model_module_version": "1.2.0",
            "_model_name": "LayoutModel",
            "_view_count": null,
            "_view_module": "@jupyter-widgets/base",
            "_view_module_version": "1.2.0",
            "_view_name": "LayoutView",
            "align_content": null,
            "align_items": null,
            "align_self": null,
            "border": null,
            "bottom": null,
            "display": null,
            "flex": null,
            "flex_flow": null,
            "grid_area": null,
            "grid_auto_columns": null,
            "grid_auto_flow": null,
            "grid_auto_rows": null,
            "grid_column": null,
            "grid_gap": null,
            "grid_row": null,
            "grid_template_areas": null,
            "grid_template_columns": null,
            "grid_template_rows": null,
            "height": null,
            "justify_content": null,
            "justify_items": null,
            "left": null,
            "margin": null,
            "max_height": null,
            "max_width": null,
            "min_height": null,
            "min_width": null,
            "object_fit": null,
            "object_position": null,
            "order": null,
            "overflow": null,
            "overflow_x": null,
            "overflow_y": null,
            "padding": null,
            "right": null,
            "top": null,
            "visibility": null,
            "width": null
          }
        },
        "9a2d8ac306cf4bc5aa9b426c669db090": {
          "model_module": "@jupyter-widgets/controls",
          "model_name": "DescriptionStyleModel",
          "model_module_version": "1.5.0",
          "state": {
            "_model_module": "@jupyter-widgets/controls",
            "_model_module_version": "1.5.0",
            "_model_name": "DescriptionStyleModel",
            "_view_count": null,
            "_view_module": "@jupyter-widgets/base",
            "_view_module_version": "1.2.0",
            "_view_name": "StyleView",
            "description_width": ""
          }
        },
        "99db03c5783c44d4b49f7645821b5dd3": {
          "model_module": "@jupyter-widgets/base",
          "model_name": "LayoutModel",
          "model_module_version": "1.2.0",
          "state": {
            "_model_module": "@jupyter-widgets/base",
            "_model_module_version": "1.2.0",
            "_model_name": "LayoutModel",
            "_view_count": null,
            "_view_module": "@jupyter-widgets/base",
            "_view_module_version": "1.2.0",
            "_view_name": "LayoutView",
            "align_content": null,
            "align_items": null,
            "align_self": null,
            "border": null,
            "bottom": null,
            "display": null,
            "flex": null,
            "flex_flow": null,
            "grid_area": null,
            "grid_auto_columns": null,
            "grid_auto_flow": null,
            "grid_auto_rows": null,
            "grid_column": null,
            "grid_gap": null,
            "grid_row": null,
            "grid_template_areas": null,
            "grid_template_columns": null,
            "grid_template_rows": null,
            "height": null,
            "justify_content": null,
            "justify_items": null,
            "left": null,
            "margin": null,
            "max_height": null,
            "max_width": null,
            "min_height": null,
            "min_width": null,
            "object_fit": null,
            "object_position": null,
            "order": null,
            "overflow": null,
            "overflow_x": null,
            "overflow_y": null,
            "padding": null,
            "right": null,
            "top": null,
            "visibility": null,
            "width": null
          }
        },
        "5b3ccdc94ee0425d84b51cf70d15175b": {
          "model_module": "@jupyter-widgets/controls",
          "model_name": "ProgressStyleModel",
          "model_module_version": "1.5.0",
          "state": {
            "_model_module": "@jupyter-widgets/controls",
            "_model_module_version": "1.5.0",
            "_model_name": "ProgressStyleModel",
            "_view_count": null,
            "_view_module": "@jupyter-widgets/base",
            "_view_module_version": "1.2.0",
            "_view_name": "StyleView",
            "bar_color": null,
            "description_width": ""
          }
        },
        "de7007af44414c1b818a6c82bfde2bdc": {
          "model_module": "@jupyter-widgets/base",
          "model_name": "LayoutModel",
          "model_module_version": "1.2.0",
          "state": {
            "_model_module": "@jupyter-widgets/base",
            "_model_module_version": "1.2.0",
            "_model_name": "LayoutModel",
            "_view_count": null,
            "_view_module": "@jupyter-widgets/base",
            "_view_module_version": "1.2.0",
            "_view_name": "LayoutView",
            "align_content": null,
            "align_items": null,
            "align_self": null,
            "border": null,
            "bottom": null,
            "display": null,
            "flex": null,
            "flex_flow": null,
            "grid_area": null,
            "grid_auto_columns": null,
            "grid_auto_flow": null,
            "grid_auto_rows": null,
            "grid_column": null,
            "grid_gap": null,
            "grid_row": null,
            "grid_template_areas": null,
            "grid_template_columns": null,
            "grid_template_rows": null,
            "height": null,
            "justify_content": null,
            "justify_items": null,
            "left": null,
            "margin": null,
            "max_height": null,
            "max_width": null,
            "min_height": null,
            "min_width": null,
            "object_fit": null,
            "object_position": null,
            "order": null,
            "overflow": null,
            "overflow_x": null,
            "overflow_y": null,
            "padding": null,
            "right": null,
            "top": null,
            "visibility": null,
            "width": null
          }
        },
        "372759af443f4332ad05273f715d286c": {
          "model_module": "@jupyter-widgets/controls",
          "model_name": "DescriptionStyleModel",
          "model_module_version": "1.5.0",
          "state": {
            "_model_module": "@jupyter-widgets/controls",
            "_model_module_version": "1.5.0",
            "_model_name": "DescriptionStyleModel",
            "_view_count": null,
            "_view_module": "@jupyter-widgets/base",
            "_view_module_version": "1.2.0",
            "_view_name": "StyleView",
            "description_width": ""
          }
        }
      }
    }
  },
  "nbformat": 4,
  "nbformat_minor": 0
}